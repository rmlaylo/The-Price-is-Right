{
 "cells": [
  {
   "cell_type": "code",
   "execution_count": 1,
   "id": "340811a3-1295-40b1-901a-54665ba709d3",
   "metadata": {
    "execution": {
     "iopub.execute_input": "2023-11-24T10:40:14.482135Z",
     "iopub.status.busy": "2023-11-24T10:40:14.480866Z",
     "iopub.status.idle": "2023-11-24T10:40:14.508747Z",
     "shell.execute_reply": "2023-11-24T10:40:14.506912Z",
     "shell.execute_reply.started": "2023-11-24T10:40:14.482068Z"
    },
    "tags": []
   },
   "outputs": [
    {
     "data": {
      "text/html": [
       "<script src=\"require.js\"></script>\n"
      ],
      "text/plain": [
       "<IPython.core.display.HTML object>"
      ]
     },
     "metadata": {},
     "output_type": "display_data"
    }
   ],
   "source": [
    "%%HTML\n",
    "<script src=\"require.js\"></script>"
   ]
  },
  {
   "cell_type": "code",
   "execution_count": 2,
   "id": "e03a096f-3785-42d6-9e5f-f2c73f178a7a",
   "metadata": {
    "execution": {
     "iopub.execute_input": "2023-11-24T10:40:15.159703Z",
     "iopub.status.busy": "2023-11-24T10:40:15.159008Z",
     "iopub.status.idle": "2023-11-24T10:40:15.173053Z",
     "shell.execute_reply": "2023-11-24T10:40:15.171405Z",
     "shell.execute_reply.started": "2023-11-24T10:40:15.159644Z"
    },
    "tags": []
   },
   "outputs": [
    {
     "data": {
      "text/html": [
       "\n",
       "    <script\n",
       "        src='https://cdnjs.cloudflare.com/ajax/libs/jquery/2.0.3/jquery.min.js'>\n",
       "    </script>\n",
       "    <script>\n",
       "        code_show=true;\n",
       "        function code_toggle() {\n",
       "        if (code_show){\n",
       "        $('div.jp-CodeCell > div.jp-Cell-inputWrapper').hide();\n",
       "        } else {\n",
       "        $('div.jp-CodeCell > div.jp-Cell-inputWrapper').show();\n",
       "        }\n",
       "        code_show = !code_show\n",
       "        }\n",
       "        $( document ).ready(code_toggle);\n",
       "    </script>\n",
       "    <form action='javascript:code_toggle()'>\n",
       "        <input type=\"submit\" value='Click here to toggle on/off the raw code.'>\n",
       "    </form>\n",
       "    "
      ],
      "text/plain": [
       "<IPython.core.display.HTML object>"
      ]
     },
     "execution_count": 2,
     "metadata": {},
     "output_type": "execute_result"
    }
   ],
   "source": [
    "from IPython.display import display, HTML\n",
    "HTML(\n",
    "    \"\"\"\n",
    "    <script\n",
    "        src='https://cdnjs.cloudflare.com/ajax/libs/jquery/2.0.3/jquery.min.js'>\n",
    "    </script>\n",
    "    <script>\n",
    "        code_show=true;\n",
    "        function code_toggle() {\n",
    "        if (code_show){\n",
    "        $('div.jp-CodeCell > div.jp-Cell-inputWrapper').hide();\n",
    "        } else {\n",
    "        $('div.jp-CodeCell > div.jp-Cell-inputWrapper').show();\n",
    "        }\n",
    "        code_show = !code_show\n",
    "        }\n",
    "        $( document ).ready(code_toggle);\n",
    "    </script>\n",
    "    <form action='javascript:code_toggle()'>\n",
    "        <input type=\"submit\" value='Click here to toggle on/off the raw code.'>\n",
    "    </form>\n",
    "    \"\"\"\n",
    ")"
   ]
  },
  {
   "cell_type": "code",
   "execution_count": 3,
   "id": "7e2d9931-35fb-41ba-9230-6119217a179f",
   "metadata": {
    "execution": {
     "iopub.execute_input": "2023-11-24T10:40:21.590395Z",
     "iopub.status.busy": "2023-11-24T10:40:21.589689Z",
     "iopub.status.idle": "2023-11-24T10:40:23.124145Z",
     "shell.execute_reply": "2023-11-24T10:40:23.123077Z",
     "shell.execute_reply.started": "2023-11-24T10:40:21.590336Z"
    },
    "tags": []
   },
   "outputs": [],
   "source": [
    "# Import libraries\n",
    "import os\n",
    "import time\n",
    "import re\n",
    "\n",
    "import json\n",
    "from json.decoder import JSONDecodeError\n",
    "import requests\n",
    "from bs4 import BeautifulSoup\n",
    "\n",
    "import numpy as np\n",
    "import pandas as pd\n",
    "import matplotlib.pyplot as plt\n",
    "\n",
    "from sklearn.metrics.pairwise import cosine_similarity\n",
    "from sklearn.feature_extraction.text import TfidfVectorizer\n",
    "from sklearn.feature_extraction.text import CountVectorizer\n",
    "from sklearn.metrics.pairwise import pairwise_distances"
   ]
  },
  {
   "cell_type": "markdown",
   "id": "264dba26-d404-4603-b67f-be527aafebef",
   "metadata": {},
   "source": [
    "<center><img src = 'logo.png'></center>"
   ]
  },
  {
   "cell_type": "markdown",
   "id": "cd500b1b-ac69-4e6d-868f-7637b565fc0b",
   "metadata": {},
   "source": [
    "\n",
    "<div style='display: flex; justify-content: space-between; align-items: center; background-color: #2D0151; color: white; padding: 10px; width: 100%;'>\n",
    "    <h1>EXECUTIVE SUMMARY</h1>\n",
    "    <img src='lazada_logo.png' style='height: 50px; width: auto; margin-left: auto;'>\n",
    "</div>"
   ]
  },
  {
   "cell_type": "markdown",
   "id": "4bf84378-cddc-4be7-98cf-b7bf5fedd6bb",
   "metadata": {},
   "source": [
    "<center>The eCommerce market in the Philippines, especially on platforms like LAZADA, has grown a lot recently. This growth means more competition, making it tough for online sellers to stand out. <b>Our project aims to create a system to help these sellers pick the right product categories and set the best prices</b> to do well in this busy market.<br><br>\n",
    "\n",
    "<center>In this project, we worked on understanding and organizing a large amount of data from LAZADA. We used techniques called <b>bag-of-words</b> and <b>TF-IDF</b> to turn product descriptions into a format that a computer can understand and analyze. This was part of our process of collecting, cleaning, and studying the data to get useful insights. Our focus was on the most popular items and the top layers of product categories to keep our analysis clear and relevant.<br><br>\n",
    "\n",
    "<center>The result of our work was a big improvement in how accurately we could recommend product categories and prices. By switching to the TF-IDF method, our system’s ability to correctly categorize products went <b>from 46% to over 60%</b>. We also achieved <b>65% accuracy</b> in matching products to the right categories, which is really good. This means our system can now give online sellers in the Philippines much better advice on what to sell and at what price, helping them to be more successful in the competitive eCommerce world.<br><br>"
   ]
  },
  {
   "cell_type": "markdown",
   "id": "28b387ff-c8b1-40ac-9946-8490a744b2df",
   "metadata": {},
   "source": [
    "\n",
    "<div style='display: flex; justify-content: space-between; align-items: center; background-color: #2D0151; color: white; padding: 10px; width: 100%;'>\n",
    "    <h1>PROBLEM STATEMENT</h1>\n",
    "    <img src='lazada_logo.png' style='height: 50px; width: auto; margin-left: auto;'>\n",
    "</div>"
   ]
  },
  {
   "cell_type": "markdown",
   "id": "85b884e4-0448-4a21-a954-b90e3ca0d5ad",
   "metadata": {
    "tags": []
   },
   "source": [
    "<center>As the Philippines emerges from the COVID-19 pandemic, its eCommerce sector has expanded rapidly, offering new opportunities for online sellers. The significant increase in online business registrations, rising from 500,000 to over a million in just two years, highlights the sector's accessibility and appeal to entrepreneurs. eCommerce has become attractive due to its ease of entry and cost-effectiveness, attracting a wide range of businesses.<br><br>However, this rapid growth has also brought about increased competition, making it a level playing field for businesses of all sizes. To succeed in this evolving market, businesses need to focus on strategic product positioning, category selection, and smart pricing. Success in eCommerce in the Philippines now requires careful planning and a good understanding of technology, alongside entrepreneurial drive.<br><br>\n",
    "The team aims to answer the following question:\n",
    "\n",
    "<center><h3 style='background-color: #2D0151; color: white; padding-left:10px'><br>In the competitive e-commerce markets,<br><br><b>how can online sellers select the right product categories and pricing strategies<br> to maximize their growth in this vibrant eCommerce space?<br></h3>\n",
    "    \n"
   ]
  },
  {
   "cell_type": "markdown",
   "id": "3f238682-67c7-4b7d-9d0d-ee5231514db2",
   "metadata": {},
   "source": [
    "\n",
    "<div style='display: flex; justify-content: space-between; align-items: center; background-color: #2D0151; color: white; padding: 10px; width: 100%;'>\n",
    "    <h1>MOTIVATION</h1>\n",
    "    <img src='lazada_logo.png' style='height: 50px; width: auto; margin-left: auto;'>\n",
    "</div>"
   ]
  },
  {
   "cell_type": "markdown",
   "id": "d56e1730-4264-4381-b7bc-001f06c67a92",
   "metadata": {},
   "source": [
    "<center>The Philippines' eCommerce sector has grown rapidly after the COVID-19 pandemic, creating a competitive environment for online sellers. This project aims to develop an information retrieval system to help these sellers find the best categories and pricing for their products. The system will analyze market data to provide tailored recommendations, simplifying decision-making for sellers in choosing product categories and setting prices.<br><br>\n",
    "\n",
    "<center><b>The goal is to help both new and experienced entrepreneurs navigate the online market more effectively. By offering insights into current market trends and consumer preferences, the system will guide sellers in making more informed choices, potentially increasing their sales and market presence.</b><br><br>\n",
    "\n",
    "<center>This tool will also be useful for government bodies, policymakers, and researchers, offering them a clearer understanding of the digital economy's dynamics. It will provide valuable data on consumer behavior and market trends, contributing to broader knowledge about eCommerce in the Philippines post-pandemic.<br><br>"
   ]
  },
  {
   "cell_type": "markdown",
   "id": "a67378eb-6720-4822-8a41-f6d9835328e3",
   "metadata": {},
   "source": [
    "\n",
    "<div style='display: flex; justify-content: space-between; align-items: center; background-color: #2D0151; color: white; padding: 10px; width: 100%;'>\n",
    "    <h1>METHODOLOGY OVERVIEW</h1>\n",
    "    <img src='lazada_logo.png' style='height: 50px; width: auto; margin-left: auto;'>\n",
    "</div>"
   ]
  },
  {
   "cell_type": "markdown",
   "id": "8d5162ca-1e89-425d-8f97-b066b9c01f3a",
   "metadata": {},
   "source": [
    "Represented in <b>Table 1. Methology Overview</b> are the steps the team has taken to address the problem statement.\n",
    "\n",
    "<center><h5><b>Table 1. Methology Overview</b></h5></center>\n",
    "\n",
    "| <center>Step</center> | <center>Process</center> | <center>Description</center> |\n",
    "|:--|:-----------------------------|:-----------------------------------------------------------------------------------------------------------------------------------------------------|\n",
    "| 1 | Data Extraction and Cleaning | Extract category tree data from Lazada API and use data to webscrape listings and category details from Lazada website                               |\n",
    "| 2 | Exploratory Data Analysis    | Perform EDA to gain understanding on the data and its characteristics, and identify any trends                                                       |\n",
    "| 3 | Data Vectorization           | Represent text as vectors through bag-of-words representation with and without TF-IDF                                                                |\n",
    "| 4 | Results                      | Utilize cosine similarity measures to identify top similar listings to search query, evaluate performance generate recommended categories and prices |\n",
    "| 5 | Insights and Recommendation  | Summarize the insights from the generated results, and provide recommendations given the insights acquired                                           |\n"
   ]
  },
  {
   "cell_type": "markdown",
   "id": "d40c260b-e77e-4c6e-a4e2-bee5a23e1156",
   "metadata": {
    "tags": []
   },
   "source": [
    "\n",
    "<div style='display: flex; justify-content: space-between; align-items: center; background-color: #2D0151; color: white; padding: 10px; width: 100%;'>\n",
    "    <h3>DATA SCOPE AND LIMITATIONS</h3>\n",
    "    <img src='lazada_logo.png' style='height: 50px; width: auto; margin-left: auto;'>\n",
    "</div>"
   ]
  },
  {
   "cell_type": "markdown",
   "id": "2b67a934-7d1e-4012-ba38-d2926a50d3d3",
   "metadata": {},
   "source": [
    "* The data from Lazada is limited to just the top performers in terms of Sales and mostly promoted by Lazada.\n",
    "* This data is further limited to just the first 5 pages of each category.\n",
    "* The categories and subcategories are limited to 3 levels only, anything further than that has been dropped.\n",
    "    * From 4,800+ unique category paths, the category paths were successfully reduced down to 1,300+.\n",
    "* Some features (Price and discount rate) vary based on the date of extraction."
   ]
  },
  {
   "cell_type": "markdown",
   "id": "e12e745a-6ee5-4815-bd28-aa35e97e1762",
   "metadata": {},
   "source": [
    "\n",
    "<div style='display: flex; justify-content: space-between; align-items: center; background-color: #2D0151; color: white; padding: 10px; width: 100%;'>\n",
    "    <h1>DATA EXTRACTION AND CLEANING</h1>\n",
    "    <img src='lazada_logo.png' style='height: 50px; width: auto; margin-left: auto;'>\n",
    "</div>"
   ]
  },
  {
   "cell_type": "markdown",
   "id": "ec1b470d-bebc-44b8-be13-eb66bc4d9025",
   "metadata": {},
   "source": [
    "The data extraction and cleaning process was conducted in three main phases:\n",
    "1. Initial data on the category tree of Lazada was extracted from the Lazada API.\n",
    "2. Using information gathered from the category tree, the team utilized the `get` function from the imported `requests` library to webscrape the listings data of the first five pages for every category path.\n",
    "3. For category paths with missing entries, the team utilized the `get` function to collect the first five pages based on the Lazada search query to obtain the link for the category path landing page."
   ]
  },
  {
   "cell_type": "markdown",
   "id": "bf261a53-92dc-426d-aa88-4154a24829cd",
   "metadata": {
    "execution": {
     "iopub.execute_input": "2023-11-22T11:28:48.940743Z",
     "iopub.status.busy": "2023-11-22T11:28:48.939996Z",
     "iopub.status.idle": "2023-11-22T11:28:48.951249Z",
     "shell.execute_reply": "2023-11-22T11:28:48.948932Z",
     "shell.execute_reply.started": "2023-11-22T11:28:48.940682Z"
    },
    "tags": []
   },
   "source": [
    "\n",
    "<div style='display: flex; justify-content: space-between; align-items: center; background-color: #2D0151; color: white; padding: 10px; width: 100%;'>\n",
    "    <h2>LAZADA CATEGORY TREE DATA</h2>\n",
    "    <img src='lazada_logo.png' style='height: 50px; width: auto; margin-left: auto;'>\n",
    "</div>"
   ]
  },
  {
   "cell_type": "markdown",
   "id": "5f8478e8-348c-4241-b673-434f18b28190",
   "metadata": {},
   "source": [
    "\n",
    "<div style='display: flex; justify-content: space-between; align-items: center; background-color: #2D0151; color: white; padding: 10px; width: 100%;'>\n",
    "    <h3>Extract Category Tree Data from Lazada API</h3>\n",
    "    <img src='lazada_logo.png' style='height: 50px; width: auto; margin-left: auto;'>\n",
    "</div>"
   ]
  },
  {
   "cell_type": "markdown",
   "id": "45d91e8e-eb88-432e-b804-70a7f0a8d282",
   "metadata": {},
   "source": [
    "The initial data was extracted by gaining access to the Lazada API available to Lazada sellers and developers. Part of the available information in the Lazada API includes the category tree, with details of the category name, ID, and its sub-categories or \"children\". The data can be access via the API via the following steps:\n",
    "\n",
    "1. Select \"Philippines\" as the Region.\n",
    "2. To create an app key, apply first in content management.\n",
    "3. This will provide access to management of product listing, including product title, image, or price. \n",
    "4. It will take utmost 3 working days in the approval.\n",
    "5. Type '/category/attributes/get' in API Path.\n",
    "6. HTTP Method is automatically GET.\n",
    "7. Click 'Access Token' and the it will be generated.\n",
    "8. Set Parameters primary_category_id and language_code to 8704 and en_US respectively.\n",
    "\n",
    "The request is illustrated as well in the <b>Figure 1. Lazada API Category Tree Request Get.</b>"
   ]
  },
  {
   "cell_type": "markdown",
   "id": "dc162072-29a0-4c79-a897-1d86698fd6ae",
   "metadata": {},
   "source": [
    "<center><img src='lzd_api.png' width=\"1200\" height=\"500\">"
   ]
  },
  {
   "cell_type": "markdown",
   "id": "9bc5de6c-debd-48f9-a556-53ead75bfefb",
   "metadata": {},
   "source": [
    "<center><h5><b>Figure 1. Lazada API Category Tree Request Get</h5></center>"
   ]
  },
  {
   "cell_type": "code",
   "execution_count": 4,
   "id": "07abd400-a6ea-4934-8a76-bc37061f44e6",
   "metadata": {
    "execution": {
     "iopub.execute_input": "2023-11-24T10:40:29.684667Z",
     "iopub.status.busy": "2023-11-24T10:40:29.683579Z",
     "iopub.status.idle": "2023-11-24T10:40:29.726678Z",
     "shell.execute_reply": "2023-11-24T10:40:29.725008Z",
     "shell.execute_reply.started": "2023-11-24T10:40:29.684595Z"
    },
    "tags": []
   },
   "outputs": [],
   "source": [
    "with open('lazada_category_tree.json', 'r') as json_file:\n",
    "    lzd_cat_tree = json.load(json_file)"
   ]
  },
  {
   "cell_type": "markdown",
   "id": "db6a429b-04f1-41fa-a7db-c7ac79fca0d7",
   "metadata": {},
   "source": [
    "Loading the JSON file obtained from the API, we can view a snapshot from the Lazada Category Tree on the available details."
   ]
  },
  {
   "cell_type": "code",
   "execution_count": 5,
   "id": "e7c58a05-667a-438f-aa20-e683a4cc177f",
   "metadata": {
    "execution": {
     "iopub.execute_input": "2023-11-24T10:40:30.827642Z",
     "iopub.status.busy": "2023-11-24T10:40:30.826898Z",
     "iopub.status.idle": "2023-11-24T10:40:30.849258Z",
     "shell.execute_reply": "2023-11-24T10:40:30.847972Z",
     "shell.execute_reply.started": "2023-11-24T10:40:30.827577Z"
    },
    "scrolled": true,
    "tags": []
   },
   "outputs": [
    {
     "data": {
      "text/plain": [
       "[{'var': False, 'name': 'Tents', 'leaf': True, 'category_id': 7665},\n",
       " {'children': [{'var': False,\n",
       "    'name': 'Sleeping Bags',\n",
       "    'leaf': True,\n",
       "    'category_id': 7666},\n",
       "   {'var': False,\n",
       "    'name': 'Air Mattresses',\n",
       "    'leaf': True,\n",
       "    'category_id': 10120},\n",
       "   {'var': False, 'name': 'Sleeping Pads', 'leaf': True, 'category_id': 10121},\n",
       "   {'var': False,\n",
       "    'name': 'Pillows & Accessories',\n",
       "    'leaf': True,\n",
       "    'category_id': 10122},\n",
       "   {'var': False, 'name': 'Cots', 'leaf': True, 'category_id': 21730},\n",
       "   {'var': False, 'name': 'Hammocks', 'leaf': True, 'category_id': 21731}],\n",
       "  'var': False,\n",
       "  'name': 'Sleeping Gear',\n",
       "  'leaf': False,\n",
       "  'category_id': 10119},\n",
       " {'var': False,\n",
       "  'name': 'Shelters & Canopies',\n",
       "  'leaf': True,\n",
       "  'category_id': 10128},\n",
       " {'children': [{'var': False,\n",
       "    'name': 'Backpack covers',\n",
       "    'leaf': True,\n",
       "    'category_id': 14532},\n",
       "   {'var': False,\n",
       "    'name': 'Hiking Backpacks',\n",
       "    'leaf': True,\n",
       "    'category_id': 21733},\n",
       "   {'var': False,\n",
       "    'name': 'Hydration Packs',\n",
       "    'leaf': True,\n",
       "    'category_id': 21734},\n",
       "   {'var': False, 'name': 'Waist Packs', 'leaf': True, 'category_id': 21735}],\n",
       "  'var': False,\n",
       "  'name': 'Backpacks',\n",
       "  'leaf': False,\n",
       "  'category_id': 21732},\n",
       " {'children': [{'var': False,\n",
       "    'name': 'Cots & Hammocks',\n",
       "    'leaf': True,\n",
       "    'category_id': 10100281},\n",
       "   {'var': False, 'name': 'Camp Tables', 'leaf': True, 'category_id': 21737},\n",
       "   {'var': False,\n",
       "    'name': 'Portable Chairs',\n",
       "    'leaf': True,\n",
       "    'category_id': 21738},\n",
       "   {'var': False,\n",
       "    'name': 'Storage Trunks',\n",
       "    'leaf': True,\n",
       "    'category_id': 21739}],\n",
       "  'var': False,\n",
       "  'name': 'Camp Furniture',\n",
       "  'leaf': False,\n",
       "  'category_id': 21736},\n",
       " {'children': [{'var': False,\n",
       "    'name': 'Camping Stoves',\n",
       "    'leaf': True,\n",
       "    'category_id': 21741},\n",
       "   {'var': False,\n",
       "    'name': 'Camping Grills',\n",
       "    'leaf': True,\n",
       "    'category_id': 21742},\n",
       "   {'var': False,\n",
       "    'name': 'Cookware & Utensils',\n",
       "    'leaf': True,\n",
       "    'category_id': 21743},\n",
       "   {'var': False, 'name': 'Coolers', 'leaf': True, 'category_id': 21744},\n",
       "   {'var': False,\n",
       "    'name': 'Hydration & Filtration',\n",
       "    'leaf': True,\n",
       "    'category_id': 21745}],\n",
       "  'var': False,\n",
       "  'name': 'Camp Kitchen',\n",
       "  'leaf': False,\n",
       "  'category_id': 21740},\n",
       " {'children': [{'var': False,\n",
       "    'name': 'Flashlights',\n",
       "    'leaf': True,\n",
       "    'category_id': 21747},\n",
       "   {'var': False, 'name': 'Lanterns', 'leaf': True, 'category_id': 21748},\n",
       "   {'var': False, 'name': 'Headlamps', 'leaf': True, 'category_id': 21749},\n",
       "   {'var': False,\n",
       "    'name': 'Emergency Light Sticks',\n",
       "    'leaf': True,\n",
       "    'category_id': 21751}],\n",
       "  'var': False,\n",
       "  'name': 'Lighting',\n",
       "  'leaf': False,\n",
       "  'category_id': 21746},\n",
       " {'var': False,\n",
       "  'name': 'Navigation & Electronics',\n",
       "  'leaf': True,\n",
       "  'category_id': 21750},\n",
       " {'var': False, 'name': 'Trekking Poles', 'leaf': True, 'category_id': 21752},\n",
       " {'var': False, 'name': 'Knives & Tools', 'leaf': True, 'category_id': 21753},\n",
       " {'var': False, 'name': 'Survival kits', 'leaf': True, 'category_id': 21754}]"
      ]
     },
     "execution_count": 5,
     "metadata": {},
     "output_type": "execute_result"
    }
   ],
   "source": [
    "lzd_cat_tree['data'][0]['children'][0]['children'][0]['children']"
   ]
  },
  {
   "cell_type": "markdown",
   "id": "adb2781e-26ef-4f7a-821d-aaa86b734892",
   "metadata": {},
   "source": [
    "\n",
    "<div style='display: flex; justify-content: space-between; align-items: center; background-color: #2D0151; color: white; padding: 10px; width: 100%;'>\n",
    "    <h3>Consolidate Category Path strings and corresponding Category IDs per path into Dictionary</h3>\n",
    "    <img src='lazada_logo.png' style='height: 50px; width: auto; margin-left: auto;'>\n",
    "</div>"
   ]
  },
  {
   "cell_type": "code",
   "execution_count": 6,
   "id": "9880994f-dbf5-412c-86ef-571b8ca2d89c",
   "metadata": {
    "execution": {
     "iopub.execute_input": "2023-11-24T10:40:34.683572Z",
     "iopub.status.busy": "2023-11-24T10:40:34.683012Z",
     "iopub.status.idle": "2023-11-24T10:40:34.691190Z",
     "shell.execute_reply": "2023-11-24T10:40:34.690073Z",
     "shell.execute_reply.started": "2023-11-24T10:40:34.683539Z"
    },
    "tags": []
   },
   "outputs": [],
   "source": [
    "def generate_category_paths(cat_dict, current_cat_path=''):\n",
    "    \"\"\"Generate category paths from parent category until last sub-category\"\"\"\n",
    "    cat_path_list = []\n",
    "    current_cat_path += cat_dict['name']\n",
    "    \n",
    "    if 'children' in cat_dict:\n",
    "        for child in cat_dict['children']:\n",
    "            cat_path_list.extend(\n",
    "                generate_category_paths(child, current_cat_path + ' > '))\n",
    "\n",
    "    if 'leaf' in cat_dict and cat_dict['leaf']:\n",
    "        cat_path_list.append(current_cat_path)\n",
    "\n",
    "    return cat_path_list"
   ]
  },
  {
   "cell_type": "code",
   "execution_count": 7,
   "id": "321c523f-987e-45e7-9448-b4be8eba976a",
   "metadata": {
    "execution": {
     "iopub.execute_input": "2023-11-24T10:40:35.759782Z",
     "iopub.status.busy": "2023-11-24T10:40:35.759041Z",
     "iopub.status.idle": "2023-11-24T10:40:35.778850Z",
     "shell.execute_reply": "2023-11-24T10:40:35.777135Z",
     "shell.execute_reply.started": "2023-11-24T10:40:35.759720Z"
    },
    "tags": []
   },
   "outputs": [],
   "source": [
    "all_cat_path_list = []\n",
    "\n",
    "for main_cat in lzd_cat_tree['data']:\n",
    "    all_cat_path_list.extend(generate_category_paths(main_cat))"
   ]
  },
  {
   "cell_type": "code",
   "execution_count": 8,
   "id": "ddff02ba-51e2-4b45-8a5c-c6b3961be874",
   "metadata": {
    "execution": {
     "iopub.execute_input": "2023-11-24T10:40:37.008569Z",
     "iopub.status.busy": "2023-11-24T10:40:37.007789Z",
     "iopub.status.idle": "2023-11-24T10:40:37.020778Z",
     "shell.execute_reply": "2023-11-24T10:40:37.019195Z",
     "shell.execute_reply.started": "2023-11-24T10:40:37.008505Z"
    },
    "tags": []
   },
   "outputs": [],
   "source": [
    "def generate_category_id_paths(cat_dict,\n",
    "                               current_cat_path='',\n",
    "                               current_id_path=''):\n",
    "    \"\"\"Generate category ID paths from parent category until last sub-category\"\"\"\n",
    "    id_path_list = []\n",
    "    current_cat_path += cat_dict['name']\n",
    "    current_id_path += str(cat_dict['category_id'])\n",
    "    \n",
    "    if 'children' in cat_dict:\n",
    "        for child in cat_dict['children']:\n",
    "            id_path_list.extend(\n",
    "                generate_category_id_paths(\n",
    "                    child, current_cat_path + ' > ', current_id_path + ' > '))\n",
    "\n",
    "    if 'leaf' in cat_dict and cat_dict['leaf']:\n",
    "        id_path_list.append(current_id_path)\n",
    "\n",
    "    return id_path_list"
   ]
  },
  {
   "cell_type": "code",
   "execution_count": 9,
   "id": "d005bdec-e9d1-442e-80c5-1144238cf9ac",
   "metadata": {
    "execution": {
     "iopub.execute_input": "2023-11-24T10:40:37.704987Z",
     "iopub.status.busy": "2023-11-24T10:40:37.704216Z",
     "iopub.status.idle": "2023-11-24T10:40:37.727169Z",
     "shell.execute_reply": "2023-11-24T10:40:37.725309Z",
     "shell.execute_reply.started": "2023-11-24T10:40:37.704925Z"
    },
    "tags": []
   },
   "outputs": [],
   "source": [
    "all_id_path_list = []\n",
    "\n",
    "for main_cat in lzd_cat_tree['data']:\n",
    "    all_id_path_list.extend(generate_category_id_paths(main_cat))"
   ]
  },
  {
   "cell_type": "code",
   "execution_count": 10,
   "id": "774327bb-9253-4835-8dee-806b5288fb5d",
   "metadata": {
    "execution": {
     "iopub.execute_input": "2023-11-24T10:40:38.755296Z",
     "iopub.status.busy": "2023-11-24T10:40:38.754560Z",
     "iopub.status.idle": "2023-11-24T10:40:38.766145Z",
     "shell.execute_reply": "2023-11-24T10:40:38.764121Z",
     "shell.execute_reply.started": "2023-11-24T10:40:38.755236Z"
    },
    "tags": []
   },
   "outputs": [],
   "source": [
    "cat_id_path_dict = dict(zip(all_cat_path_list, all_id_path_list))"
   ]
  },
  {
   "cell_type": "markdown",
   "id": "fc055fe3-5511-4015-bfd7-a35fcc4b2b4d",
   "metadata": {},
   "source": [
    "Using the category tree obtained from the API, the complete category & sub-category combinations were consolidated into corresponding paths alongside the corresponding category IDs. The two sets of data were zipped into a dictionary, with keys referring to the category path and values as the category ID paths.\n",
    "\n",
    "The functions `generate_category_paths` and `generate_category_id_paths` were run to generate the two lists before being zipped.\n",
    "\n",
    "Displayed below is a sample snippet of the resulting Lazada Category Path-ID dictionary."
   ]
  },
  {
   "cell_type": "code",
   "execution_count": 11,
   "id": "69661016-3249-4359-8afa-07e109637703",
   "metadata": {
    "execution": {
     "iopub.execute_input": "2023-11-24T10:40:40.343819Z",
     "iopub.status.busy": "2023-11-24T10:40:40.343081Z",
     "iopub.status.idle": "2023-11-24T10:40:40.358366Z",
     "shell.execute_reply": "2023-11-24T10:40:40.356641Z",
     "shell.execute_reply.started": "2023-11-24T10:40:40.343759Z"
    },
    "tags": []
   },
   "outputs": [
    {
     "data": {
      "text/plain": [
       "[('Sports & Outdoors > Outdoor Recreation > Camping & Hiking > Tents',\n",
       "  '4623 > 7654 > 7657 > 7665'),\n",
       " ('Sports & Outdoors > Outdoor Recreation > Camping & Hiking > Sleeping Gear > Sleeping Bags',\n",
       "  '4623 > 7654 > 7657 > 10119 > 7666'),\n",
       " ('Sports & Outdoors > Outdoor Recreation > Camping & Hiking > Sleeping Gear > Air Mattresses',\n",
       "  '4623 > 7654 > 7657 > 10119 > 10120'),\n",
       " ('Sports & Outdoors > Outdoor Recreation > Camping & Hiking > Sleeping Gear > Sleeping Pads',\n",
       "  '4623 > 7654 > 7657 > 10119 > 10121'),\n",
       " ('Sports & Outdoors > Outdoor Recreation > Camping & Hiking > Sleeping Gear > Pillows & Accessories',\n",
       "  '4623 > 7654 > 7657 > 10119 > 10122')]"
      ]
     },
     "execution_count": 11,
     "metadata": {},
     "output_type": "execute_result"
    }
   ],
   "source": [
    "list(cat_id_path_dict.items())[:5]"
   ]
  },
  {
   "cell_type": "code",
   "execution_count": 12,
   "id": "983a2372-a2d4-4fa8-b00a-ccc3827efb63",
   "metadata": {
    "execution": {
     "iopub.execute_input": "2023-11-24T10:40:41.937803Z",
     "iopub.status.busy": "2023-11-24T10:40:41.937066Z",
     "iopub.status.idle": "2023-11-24T10:40:41.946834Z",
     "shell.execute_reply": "2023-11-24T10:40:41.945034Z",
     "shell.execute_reply.started": "2023-11-24T10:40:41.937744Z"
    },
    "tags": []
   },
   "outputs": [
    {
     "name": "stdout",
     "output_type": "stream",
     "text": [
      "Total number of category & sub-category combinations: 4489\n"
     ]
    }
   ],
   "source": [
    "print(\n",
    "    f'Total number of category & sub-category combinations: '\n",
    "    f'{len(cat_id_path_dict)}')"
   ]
  },
  {
   "cell_type": "markdown",
   "id": "fb80f6d3-f07e-44b9-9e7a-d4af80595b5c",
   "metadata": {},
   "source": [
    "<div style='display: flex; justify-content: space-between; align-items: center; background-color: #2D0151; color: white; padding: 10px; width: 100%;'>\n",
    "    <h3>Limit Category Paths to Maximum Three Levels</h3>\n",
    "    <img src='lazada_logo.png' style='height: 50px; width: auto; margin-left: auto;'>\n",
    "</div>"
   ]
  },
  {
   "cell_type": "code",
   "execution_count": 13,
   "id": "9073162b-5096-4598-82bd-b53ccf6ee54a",
   "metadata": {
    "execution": {
     "iopub.execute_input": "2023-11-24T10:40:44.088105Z",
     "iopub.status.busy": "2023-11-24T10:40:44.087385Z",
     "iopub.status.idle": "2023-11-24T10:40:44.100342Z",
     "shell.execute_reply": "2023-11-24T10:40:44.099031Z",
     "shell.execute_reply.started": "2023-11-24T10:40:44.088044Z"
    },
    "tags": []
   },
   "outputs": [],
   "source": [
    "third_level_dict = {key: value for key, value in cat_id_path_dict.items()\n",
    "                    if key.count('>') <= 2}"
   ]
  },
  {
   "cell_type": "markdown",
   "id": "a9ae1f49-6934-49a8-a94e-04c7789b29fe",
   "metadata": {},
   "source": [
    "The data was further reduced in scope by limiting the category paths explored down to the third level maximum.\n",
    "\n",
    "Displayed below is a sample snippet of the resulting reduced Lazada Category Path-ID dictionary, from 4,800+ category paths down to 1,300+."
   ]
  },
  {
   "cell_type": "code",
   "execution_count": 14,
   "id": "81f8216c-2229-47f6-bdf7-8d28b2f31d04",
   "metadata": {
    "execution": {
     "iopub.execute_input": "2023-11-24T10:40:45.189121Z",
     "iopub.status.busy": "2023-11-24T10:40:45.188356Z",
     "iopub.status.idle": "2023-11-24T10:40:45.208187Z",
     "shell.execute_reply": "2023-11-24T10:40:45.206393Z",
     "shell.execute_reply.started": "2023-11-24T10:40:45.189061Z"
    },
    "tags": []
   },
   "outputs": [
    {
     "data": {
      "text/plain": [
       "[('Mobiles & Tablets > Landline Phones', '5116 > 5118'),\n",
       " ('Mobiles & Tablets > Tablets', '5116 > 5120'),\n",
       " ('Mobiles & Tablets > Smartphones', '5116 > 5121'),\n",
       " ('Mobiles & Tablets > Feature Phones', '5116 > 42006401'),\n",
       " ('Computers & Laptops > Desktops Computers > All-In-One',\n",
       "  '5141 > 5148 > 11151'),\n",
       " ('Computers & Laptops > Desktops Computers > Gaming Desktops',\n",
       "  '5141 > 5148 > 11153'),\n",
       " ('Computers & Laptops > Desktops Computers > DIY', '5141 > 5148 > 11155'),\n",
       " ('Computers & Laptops > Laptops > Gaming Laptops', '5141 > 5149 > 7093'),\n",
       " ('Computers & Laptops > Laptops > Traditional Laptops',\n",
       "  '5141 > 5149 > 11147'),\n",
       " ('Computers & Laptops > Laptops > 2-in-1s', '5141 > 5149 > 13836')]"
      ]
     },
     "execution_count": 14,
     "metadata": {},
     "output_type": "execute_result"
    }
   ],
   "source": [
    "list(third_level_dict.items())[:10]"
   ]
  },
  {
   "cell_type": "code",
   "execution_count": 15,
   "id": "f1d340b1-1bcb-42b5-bf4b-9b239cc1bcec",
   "metadata": {
    "execution": {
     "iopub.execute_input": "2023-11-24T10:40:46.656079Z",
     "iopub.status.busy": "2023-11-24T10:40:46.655308Z",
     "iopub.status.idle": "2023-11-24T10:40:46.665447Z",
     "shell.execute_reply": "2023-11-24T10:40:46.663744Z",
     "shell.execute_reply.started": "2023-11-24T10:40:46.656018Z"
    },
    "tags": []
   },
   "outputs": [
    {
     "name": "stdout",
     "output_type": "stream",
     "text": [
      "Reduced number of category & sub-category combinations: 1365\n"
     ]
    }
   ],
   "source": [
    "print(f'Reduced number of category & sub-category combinations: '\n",
    "      f'{len(third_level_dict)}')"
   ]
  },
  {
   "cell_type": "markdown",
   "id": "5033b2bf-8b5c-46fe-a7c9-b7d0e309f711",
   "metadata": {},
   "source": [
    "\n",
    "<div style='display: flex; justify-content: space-between; align-items: center; background-color: #2D0151; color: white; padding: 10px; width: 100%;'>\n",
    "    <h3>Consolidate Last Category Name of each Category Path</h3>\n",
    "    <img src='lazada_logo.png' style='height: 50px; width: auto; margin-left: auto;'>\n",
    "</div>"
   ]
  },
  {
   "cell_type": "code",
   "execution_count": 16,
   "id": "1100bc6a-1e36-4db6-b814-4355f53e9914",
   "metadata": {
    "execution": {
     "iopub.execute_input": "2023-11-24T10:40:48.566383Z",
     "iopub.status.busy": "2023-11-24T10:40:48.565656Z",
     "iopub.status.idle": "2023-11-24T10:40:48.595615Z",
     "shell.execute_reply": "2023-11-24T10:40:48.594234Z",
     "shell.execute_reply.started": "2023-11-24T10:40:48.566323Z"
    },
    "tags": []
   },
   "outputs": [],
   "source": [
    "third_level_cat_list = [re.search(r'[^>]+$', cat_path).group().strip()\n",
    "                        for cat_path in third_level_dict.keys()]\n",
    "third_level_cat_unique = sorted(list(set(third_level_cat_list)))"
   ]
  },
  {
   "cell_type": "markdown",
   "id": "36cf4255-ebe0-4e9d-9db5-d819d527eec1",
   "metadata": {},
   "source": [
    "In preparation for the webscraping process, the unique third level category names must be consolidated. These will be utilized as part of the endpoint in the `requests.get` functionality.\n",
    "\n",
    "Displayed below is a sample snippet of the unique third level categories, from 1,300+ category paths down to 1,200+."
   ]
  },
  {
   "cell_type": "code",
   "execution_count": 17,
   "id": "959971c3-dcc3-4b2b-a0aa-b3cbcb1eda67",
   "metadata": {
    "execution": {
     "iopub.execute_input": "2023-11-24T10:40:50.150077Z",
     "iopub.status.busy": "2023-11-24T10:40:50.149337Z",
     "iopub.status.idle": "2023-11-24T10:40:50.162566Z",
     "shell.execute_reply": "2023-11-24T10:40:50.160593Z",
     "shell.execute_reply.started": "2023-11-24T10:40:50.150016Z"
    },
    "tags": []
   },
   "outputs": [
    {
     "data": {
      "text/plain": [
       "['2-in-1s',\n",
       " '3-D Puzzles',\n",
       " '360 Cameras',\n",
       " '3D Glasses',\n",
       " '3D Printer Parts',\n",
       " '3D Printers',\n",
       " '3D Printing Materials',\n",
       " 'Accessories',\n",
       " 'Action',\n",
       " 'Action Figures']"
      ]
     },
     "execution_count": 17,
     "metadata": {},
     "output_type": "execute_result"
    }
   ],
   "source": [
    "third_level_cat_unique[:10]"
   ]
  },
  {
   "cell_type": "code",
   "execution_count": 18,
   "id": "43b3e82f-ca6e-42b4-b863-4c7ab599d7ef",
   "metadata": {
    "execution": {
     "iopub.execute_input": "2023-11-24T10:40:51.654876Z",
     "iopub.status.busy": "2023-11-24T10:40:51.654146Z",
     "iopub.status.idle": "2023-11-24T10:40:51.664671Z",
     "shell.execute_reply": "2023-11-24T10:40:51.662304Z",
     "shell.execute_reply.started": "2023-11-24T10:40:51.654817Z"
    },
    "tags": []
   },
   "outputs": [
    {
     "name": "stdout",
     "output_type": "stream",
     "text": [
      "Number of unique third level categories: 1202\n"
     ]
    }
   ],
   "source": [
    "print(f'Number of unique third level categories: {len(third_level_cat_unique)}')"
   ]
  },
  {
   "cell_type": "markdown",
   "id": "2b6ec9ce-3e52-466a-876d-842e3a1f7b40",
   "metadata": {
    "execution": {
     "iopub.execute_input": "2023-11-22T11:31:16.359349Z",
     "iopub.status.busy": "2023-11-22T11:31:16.358621Z",
     "iopub.status.idle": "2023-11-22T11:31:16.369948Z",
     "shell.execute_reply": "2023-11-22T11:31:16.367682Z",
     "shell.execute_reply.started": "2023-11-22T11:31:16.359289Z"
    },
    "tags": []
   },
   "source": [
    "\n",
    "<div style='display: flex; justify-content: space-between; align-items: center; background-color: #2D0151; color: white; padding: 10px; width: 100%;'>\n",
    "    <h2>LAZADA LISTINGS DATA PER CATEGORY PATH</h2>\n",
    "    <img src='lazada_logo.png' style='height: 50px; width: auto; margin-left: auto;'>\n",
    "</div>"
   ]
  },
  {
   "cell_type": "markdown",
   "id": "e2dd4492-a591-4da7-b397-3599021714b3",
   "metadata": {},
   "source": [
    "\n",
    "<div style='display: flex; justify-content: space-between; align-items: center; background-color: #2D0151; color: white; padding: 10px; width: 100%;'>\n",
    "    <h3>Webscrape the Listing details per Lazada Category Path</h3>\n",
    "    <img src='lazada_logo.png' style='height: 50px; width: auto; margin-left: auto;'>\n",
    "</div>"
   ]
  },
  {
   "cell_type": "code",
   "execution_count": 19,
   "id": "f6642493-5d9a-4133-8a13-aa48befc039a",
   "metadata": {
    "execution": {
     "iopub.execute_input": "2023-11-24T10:40:53.862894Z",
     "iopub.status.busy": "2023-11-24T10:40:53.862163Z",
     "iopub.status.idle": "2023-11-24T10:40:53.884033Z",
     "shell.execute_reply": "2023-11-24T10:40:53.882092Z",
     "shell.execute_reply.started": "2023-11-24T10:40:53.862833Z"
    },
    "tags": []
   },
   "outputs": [],
   "source": [
    "def webscrape_category_listings(start, end, headers):\n",
    "    \"\"\"Webscrape Lazada website based on third level category name\"\"\"\n",
    "    start_index = start\n",
    "    end_index = end\n",
    "    conso_df = pd.DataFrame()\n",
    "\n",
    "    for product_to_categorize in third_level_cat_unique[start_index:end_index]:\n",
    "        product_to_categorize = (product_to_categorize\n",
    "                                 .strip()\n",
    "                                 .lower()\n",
    "                                 .replace(' & ', '-')\n",
    "                                 .replace(' ', '-')\n",
    "                                 .replace(',', ''))\n",
    "        products_info = []\n",
    "\n",
    "        for page_number in list(range(1, 6)):\n",
    "            try:\n",
    "                lzd = requests.get(\n",
    "                    f'https://www.lazada.com.ph/shop-{product_to_categorize}/'\n",
    "                    f'?ajax=true&isFirstRequest=true&page={page_number}',\n",
    "                    headers=headers).json()\n",
    "                time.sleep(10)\n",
    "\n",
    "            except JSONDecodeError as e:\n",
    "                print(f'JSONDecodeError: {e} - category {start}')\n",
    "                continue\n",
    "\n",
    "            for item in lzd.get('mods', {}).get('listItems', []):\n",
    "                info = {\n",
    "                    'name': item.get('name', ''),\n",
    "                    'item_id': item.get('itemId', ''),\n",
    "                    'category_id': item.get('categories', ''),\n",
    "                    'discount': item.get('discount', ''),\n",
    "                    'rating_score': item.get('ratingScore', ''),\n",
    "                    'original_price': item.get('originalPrice', ''),\n",
    "                    'price': item.get('price', ''),\n",
    "                    'item_sold_count': item.get('itemSoldCntShow', ''),\n",
    "                    'temp_category_index': f'{start}'\n",
    "                }\n",
    "                products_info.append(info)\n",
    "\n",
    "        df = pd.DataFrame(products_info)\n",
    "        conso_df = pd.concat([conso_df, df], ignore_index=True)\n",
    "        start += 1\n",
    "        \n",
    "    return conso_df"
   ]
  },
  {
   "cell_type": "code",
   "execution_count": 20,
   "id": "0f5e4498-6faf-4ca4-b14b-d754fbc0eee1",
   "metadata": {
    "execution": {
     "iopub.execute_input": "2023-11-24T10:40:56.973834Z",
     "iopub.status.busy": "2023-11-24T10:40:56.973084Z",
     "iopub.status.idle": "2023-11-24T10:40:56.988778Z",
     "shell.execute_reply": "2023-11-24T10:40:56.986933Z",
     "shell.execute_reply.started": "2023-11-24T10:40:56.973771Z"
    },
    "tags": []
   },
   "outputs": [],
   "source": [
    "# Initialize with the following sample parameters\n",
    "headers = {\n",
    "    'Accept': 'application/json, text/plain, */*',\n",
    "    'Accept-Encoding': 'gzip, deflate, br',\n",
    "    'Accept-Language': 'en-US,en;q=0.9',\n",
    "    'Cookie': ('__wpkreporterwid_=3fe582be-6d6e-463d-3dd1-7ba13b5f49ff; lzd_cid'\n",
    "               '=c1add782-8880-4a9d-d2bb-4f998db23cac; t_uid=c1add782-8880-4a9d'\n",
    "               '-d2bb-4f998db23cac; t_fv=1700280938528; lwrid=AQGL4KQwN3O1ot2bK'\n",
    "               '%2Fk8X39uI9jH; hng=PH|en-PH|PHP|608; userLanguageML=en; cna=aij'\n",
    "               'fHTBRfhwCAZJYTCK8Xjwt; _bl_uid=sjlw3p763azjLddv7lz8891g7F3t; __'\n",
    "               'itrace_wid=4233bd3d-25b0-4ee9-1268-986e501061b0; _gcl_au=1.1.21'\n",
    "               '01806292.1700281477; _uetvid=6ba4d9c085ca11eebfadd5053eb33830; '\n",
    "               '_fbp=fb.2.1700281493102.857291082; sgcookie=E100FFrZs3pSnXrfa2Q'\n",
    "               '2e%2Bre9%2FsIir3s1C7cJ8gyw8N7OMRCBzqJVoFhm2eUXftZ4YyNV0uOqIh%2B'\n",
    "               'KIxoC92rlMcbcajjzryCMH2lYyYlCUC%2FIuQ%3D; pdp_sfo=1; lzd_sid=16'\n",
    "               '2bc36d95867700f181066e84f26ad3; _tb_token_=ee7eb7896fe78; xlly_'\n",
    "               's=1; tfstk=dHDyqBXhILpzir4W672U3K10An28eRL_-vaQxDm3Vz4lFT_ngq3F'\n",
    "               'A3LpwjzEoqP3Rvwu-Mumx7b7F06ETD4VdzaB2xPERVB7rvodLkmnJ3UB2Ii-2Je'\n",
    "               'H5FweC7nJwTY653qYOm2LKFT6OwnUKJ3wy0ARUS3PvT9uMFmToYKhjxUN3yaVKO'\n",
    "               'SY470eBrWHIxrrIPXNEwE09vMKawfUZoE45n-4GuITT; t_sid=0FQ3cJ68EG1q'\n",
    "               'kLeMDfm3pOBWZ3FLai4t; utm_channel=NA; _m_h5_tk=fa815492ff2071e1'\n",
    "               '41c62cb96ab0ecc3_1700766922943; _m_h5_tk_enc=095022a4c1e0fc028d'\n",
    "               '7df7af3bcb3df5; epssw=1*ic1611iDjCECG_GS7zFQK79Stdfw8Pz4IlmYNez'\n",
    "               '4urz8BgedNR_8uVz8t0wTfhdWH96VIL5jgzJS11Gz1Apx7UeoHfBW-5CWH1BWsC'\n",
    "               'nPE91G_rYp3hYKNtCOeGxGf8tGj3mOvpCt9rLauayuv1Rug5NYmahdkQURII7_-'\n",
    "               '20krTB4hUHJ3zQRxDDR3DqheKz5PKBvetzRGbvOGb1j_Q1JcPczBF3tet4Rh43-'\n",
    "               'yaBp; isg=BLe3W9-qntHRBRpaw_-3p1ODRqsBfIve2IjgfAlk0wbtuNf6EUwbL'\n",
    "               'nWemhDma2NW'),\n",
    "    'Referer': 'https://www.lazada.com.ph/',\n",
    "    'Sec-Ch-Ua': ('\"Google Chrome\";v=\"119\", \"Chromium\";v=\"119\", \"Not?A_Brand\";'\n",
    "                  'v=\"24\"'),\n",
    "    'Sec-Ch-Ua-Mobile': '?0',\n",
    "    'Sec-Ch-Ua-Platform': '\"Windows\"',\n",
    "    'Sec-Fetch-Dest': 'empty',\n",
    "    'Sec-Fetch-Mode': 'cors',\n",
    "    'Sec-Fetch-Site': 'same-origin',\n",
    "    'User-Agent': ('Mozilla/5.0 (Windows NT 10.0; Win64; x64) '\n",
    "                   'AppleWebKit/537.36 (KHTML, like Gecko) '\n",
    "                   'Chrome/119.0.0.0 Safari/537.36'),\n",
    "    'X-Csrf-Token': 'ee7eb7896fe78',\n",
    "    'X-Requested-With': 'XMLHttpRequest'\n",
    "}\n",
    "\n",
    "start_1 = 300\n",
    "end_1 = 301\n",
    "\n",
    "start_2 = 305\n",
    "end_2 = 306"
   ]
  },
  {
   "cell_type": "code",
   "execution_count": 21,
   "id": "1d9e9ee8-52dc-4e5e-9ef9-16dbc9c7c669",
   "metadata": {
    "execution": {
     "iopub.execute_input": "2023-11-24T10:40:58.202561Z",
     "iopub.status.busy": "2023-11-24T10:40:58.201819Z",
     "iopub.status.idle": "2023-11-24T10:41:50.793813Z",
     "shell.execute_reply": "2023-11-24T10:41:50.791874Z",
     "shell.execute_reply.started": "2023-11-24T10:40:58.202501Z"
    },
    "tags": []
   },
   "outputs": [],
   "source": [
    "sample_webscrape_df_1 = webscrape_category_listings(start_1, end_1, headers)"
   ]
  },
  {
   "cell_type": "code",
   "execution_count": 22,
   "id": "fcfcce2e-8886-44ef-ac44-e532055e5fe8",
   "metadata": {
    "execution": {
     "iopub.execute_input": "2023-11-24T10:42:27.939706Z",
     "iopub.status.busy": "2023-11-24T10:42:27.938959Z",
     "iopub.status.idle": "2023-11-24T10:43:20.434940Z",
     "shell.execute_reply": "2023-11-24T10:43:20.432823Z",
     "shell.execute_reply.started": "2023-11-24T10:42:27.939646Z"
    },
    "tags": []
   },
   "outputs": [],
   "source": [
    "sample_webscrape_df_2 = webscrape_category_listings(start_2, end_2, headers)"
   ]
  },
  {
   "cell_type": "markdown",
   "id": "176cdd90-8928-4ee4-bf12-cc4850e4bdac",
   "metadata": {},
   "source": [
    "With the third level category names consolidated, the initial webscrape run can be initiated, with the steps as follows.\n",
    "\n",
    "\n",
    "<div style='display: flex; justify-content: space-between; align-items: center; background-color: #2D0151; color: white; padding: 10px; width: 100%;'>\n",
    "    <h5>1. Each category name is converted into a format that can be inputted into the target endpoint of the `requests.get` function, as presented in Table 2.</h5>\n",
    "    <img src='lazada_logo.png' style='height: 30px; width: auto; margin-left: auto;'>\n",
    "</div>\n",
    "\n",
    "<center><h5><b>Table 2. Lazada API Category Tree Request Get</h5></center>\n",
    "\n",
    "| <center>Sample Input</center> | <center>Reformatted Input</center> |\n",
    "|:---------------------------|:------------------------|\n",
    "| Landline Phones            | landline-phones         |\n",
    "| 3-D Puzzles                | 3-d-puzzles             |\n",
    "| Art Pads, Diaries & Folios | art-pads-diaries-folios |\n",
    "\n",
    "\n",
    "<div style='display: flex; justify-content: space-between; align-items: center; background-color: #2D0151; color: white; padding: 10px; width: 100%;'>\n",
    "    <h5>2. Once the endpoint is created, a request is created to the Lazada URL endpoint to arrive at the category path landing page.</h5>\n",
    "    <img src='lazada_logo.png' style='height: 30px; width: auto; margin-left: auto;'>\n",
    "</div>\n",
    "\n",
    "* The process takes advantage of the identified pattern in the endpoint for the landing page of each category path combination.\n",
    "* Categories are pulled in small sets in order to manage potential errors resulting from Captcha requests from the Lazada website.\n",
    "* Cookies are updated every few pulls in order to manage potential errors resulting from Captcha requests from the Lazada website.\n",
    "    \n",
    "    <b>NOTE:</b> Headers are unique per user and must be updated in order to run the code successfully.\n",
    "\n",
    "<div style='display: flex; justify-content: space-between; align-items: center; background-color: #2D0151; color: white; padding: 10px; width: 100%;'>\n",
    "    <h5>3. The process will iterate through each of the listings in the first landing page and collect the request info such as the product name, category_id path, price and other details.</h5>\n",
    "    <img src='lazada_logo.png' style='height: 30px; width: auto; margin-left: auto;'>\n",
    "</div>\n",
    "<br>\n",
    "<div style='display: flex; justify-content: space-between; align-items: center; background-color: #2D0151; color: white; padding: 10px; width: 100%;'>\n",
    "    <h5>4. After retrieving all relevant info from the first page, the process iterates through the remaining of the first five pages of the requested category path and saved into a dataframe.</h5>\n",
    "    <img src='lazada_logo.png' style='height: 30px; width: auto; margin-left: auto;'>\n",
    "</div>\n",
    "<br>\n",
    "<div style='display: flex; justify-content: space-between; align-items: center; background-color: #2D0151; color: white; padding: 10px; width: 100%;'>\n",
    "    <h5>5. Lastly, the generated DataFrame is saved into a CSV file, for consolidation once all runs have been completed.</h5>\n",
    "    <img src='lazada_logo.png' style='height: 30px; width: auto; margin-left: auto;'>\n",
    "</div>\n",
    "\n",
    "* Method to save DataFrames into CSV files per pull in order to avoid loss of data in case of crash\n",
    "\n",
    "Displayed below are two sample snippets of the listings info collected, returning DataFrames from the function `webscrape_category_listings`."
   ]
  },
  {
   "cell_type": "code",
   "execution_count": 23,
   "id": "e7eb8b55-58b3-4e62-9134-52a9b4d59b22",
   "metadata": {
    "execution": {
     "iopub.execute_input": "2023-11-24T10:43:33.710614Z",
     "iopub.status.busy": "2023-11-24T10:43:33.709803Z",
     "iopub.status.idle": "2023-11-24T10:43:33.745746Z",
     "shell.execute_reply": "2023-11-24T10:43:33.743877Z",
     "shell.execute_reply.started": "2023-11-24T10:43:33.710552Z"
    },
    "tags": []
   },
   "outputs": [
    {
     "data": {
      "text/html": [
       "<div>\n",
       "<style scoped>\n",
       "    .dataframe tbody tr th:only-of-type {\n",
       "        vertical-align: middle;\n",
       "    }\n",
       "\n",
       "    .dataframe tbody tr th {\n",
       "        vertical-align: top;\n",
       "    }\n",
       "\n",
       "    .dataframe thead th {\n",
       "        text-align: right;\n",
       "    }\n",
       "</style>\n",
       "<table border=\"1\" class=\"dataframe\">\n",
       "  <thead>\n",
       "    <tr style=\"text-align: right;\">\n",
       "      <th></th>\n",
       "      <th>name</th>\n",
       "      <th>item_id</th>\n",
       "      <th>category_id</th>\n",
       "      <th>discount</th>\n",
       "      <th>rating_score</th>\n",
       "      <th>original_price</th>\n",
       "      <th>price</th>\n",
       "      <th>item_sold_count</th>\n",
       "      <th>temp_category_index</th>\n",
       "    </tr>\n",
       "  </thead>\n",
       "  <tbody>\n",
       "    <tr>\n",
       "      <th>0</th>\n",
       "      <td>SRG Christmas Giving Tree P10</td>\n",
       "      <td>3354849788</td>\n",
       "      <td>[12576, 24735, 21018201]</td>\n",
       "      <td></td>\n",
       "      <td>5.0</td>\n",
       "      <td></td>\n",
       "      <td>10</td>\n",
       "      <td>93 sold</td>\n",
       "      <td>300</td>\n",
       "    </tr>\n",
       "    <tr>\n",
       "      <th>1</th>\n",
       "      <td>Spring Rain Global: Care for the Indigenous Pe...</td>\n",
       "      <td>723918107</td>\n",
       "      <td>[12576, 24735, 21018201]</td>\n",
       "      <td></td>\n",
       "      <td>5.0</td>\n",
       "      <td></td>\n",
       "      <td>500</td>\n",
       "      <td>19 sold</td>\n",
       "      <td>300</td>\n",
       "    </tr>\n",
       "    <tr>\n",
       "      <th>2</th>\n",
       "      <td>1 Dollar per Day for 100 Days Campaign by SRG</td>\n",
       "      <td>4222496808</td>\n",
       "      <td>[12576, 24735, 21018201]</td>\n",
       "      <td></td>\n",
       "      <td>0</td>\n",
       "      <td></td>\n",
       "      <td>50</td>\n",
       "      <td></td>\n",
       "      <td>300</td>\n",
       "    </tr>\n",
       "    <tr>\n",
       "      <th>3</th>\n",
       "      <td>Spring Rain Global Care for Disaster Response ...</td>\n",
       "      <td>1407070805</td>\n",
       "      <td>[12576, 24735, 21018201]</td>\n",
       "      <td></td>\n",
       "      <td>4.921568627450981</td>\n",
       "      <td></td>\n",
       "      <td>20</td>\n",
       "      <td>227 sold</td>\n",
       "      <td>300</td>\n",
       "    </tr>\n",
       "    <tr>\n",
       "      <th>4</th>\n",
       "      <td>5 PESOS FOR DUMAGAT COMMUNITY IN NAKAR BULACAN</td>\n",
       "      <td>2985533224</td>\n",
       "      <td>[12576, 24735, 21018201]</td>\n",
       "      <td></td>\n",
       "      <td>0</td>\n",
       "      <td></td>\n",
       "      <td>5</td>\n",
       "      <td>18 sold</td>\n",
       "      <td>300</td>\n",
       "    </tr>\n",
       "  </tbody>\n",
       "</table>\n",
       "</div>"
      ],
      "text/plain": [
       "                                                name     item_id  \\\n",
       "0                      SRG Christmas Giving Tree P10  3354849788   \n",
       "1  Spring Rain Global: Care for the Indigenous Pe...   723918107   \n",
       "2      1 Dollar per Day for 100 Days Campaign by SRG  4222496808   \n",
       "3  Spring Rain Global Care for Disaster Response ...  1407070805   \n",
       "4     5 PESOS FOR DUMAGAT COMMUNITY IN NAKAR BULACAN  2985533224   \n",
       "\n",
       "                category_id discount       rating_score original_price price  \\\n",
       "0  [12576, 24735, 21018201]                         5.0                   10   \n",
       "1  [12576, 24735, 21018201]                         5.0                  500   \n",
       "2  [12576, 24735, 21018201]                           0                   50   \n",
       "3  [12576, 24735, 21018201]           4.921568627450981                   20   \n",
       "4  [12576, 24735, 21018201]                           0                    5   \n",
       "\n",
       "  item_sold_count temp_category_index  \n",
       "0         93 sold                 300  \n",
       "1         19 sold                 300  \n",
       "2                                 300  \n",
       "3        227 sold                 300  \n",
       "4         18 sold                 300  "
      ]
     },
     "execution_count": 23,
     "metadata": {},
     "output_type": "execute_result"
    }
   ],
   "source": [
    "sample_webscrape_df_1.head()"
   ]
  },
  {
   "cell_type": "code",
   "execution_count": 25,
   "id": "0e2a2ed3-6231-428c-b601-19ae1eece7e4",
   "metadata": {
    "execution": {
     "iopub.execute_input": "2023-11-24T10:43:39.152847Z",
     "iopub.status.busy": "2023-11-24T10:43:39.152064Z",
     "iopub.status.idle": "2023-11-24T10:43:39.181249Z",
     "shell.execute_reply": "2023-11-24T10:43:39.179762Z",
     "shell.execute_reply.started": "2023-11-24T10:43:39.152786Z"
    },
    "tags": []
   },
   "outputs": [
    {
     "data": {
      "text/html": [
       "<div>\n",
       "<style scoped>\n",
       "    .dataframe tbody tr th:only-of-type {\n",
       "        vertical-align: middle;\n",
       "    }\n",
       "\n",
       "    .dataframe tbody tr th {\n",
       "        vertical-align: top;\n",
       "    }\n",
       "\n",
       "    .dataframe thead th {\n",
       "        text-align: right;\n",
       "    }\n",
       "</style>\n",
       "<table border=\"1\" class=\"dataframe\">\n",
       "  <thead>\n",
       "    <tr style=\"text-align: right;\">\n",
       "      <th></th>\n",
       "      <th>name</th>\n",
       "      <th>item_id</th>\n",
       "      <th>category_id</th>\n",
       "      <th>discount</th>\n",
       "      <th>rating_score</th>\n",
       "      <th>original_price</th>\n",
       "      <th>price</th>\n",
       "      <th>item_sold_count</th>\n",
       "      <th>temp_category_index</th>\n",
       "    </tr>\n",
       "  </thead>\n",
       "  <tbody>\n",
       "    <tr>\n",
       "      <th>0</th>\n",
       "      <td>180ml Kuelox Fixative Spray For Sketch/Gouache...</td>\n",
       "      <td>2206122392</td>\n",
       "      <td>[22393, 22430, 22744]</td>\n",
       "      <td>24% Off</td>\n",
       "      <td>4.879432624113475</td>\n",
       "      <td>139</td>\n",
       "      <td>105.04</td>\n",
       "      <td>721 sold</td>\n",
       "      <td>305</td>\n",
       "    </tr>\n",
       "    <tr>\n",
       "      <th>1</th>\n",
       "      <td>Crayola Crayons Set of 8, 16 or 24 colors</td>\n",
       "      <td>2716668362</td>\n",
       "      <td>[22393, 22430, 22744]</td>\n",
       "      <td>63% Off</td>\n",
       "      <td>4.946356951871658</td>\n",
       "      <td>39</td>\n",
       "      <td>14.47</td>\n",
       "      <td>9,999+ sold</td>\n",
       "      <td>305</td>\n",
       "    </tr>\n",
       "    <tr>\n",
       "      <th>2</th>\n",
       "      <td>24 Colors Alcohol Marker Art Marker Highlighte...</td>\n",
       "      <td>3617947502</td>\n",
       "      <td>[22393, 22430, 22744]</td>\n",
       "      <td>55% Off</td>\n",
       "      <td>5.0</td>\n",
       "      <td>200</td>\n",
       "      <td>89.63</td>\n",
       "      <td>94 sold</td>\n",
       "      <td>305</td>\n",
       "    </tr>\n",
       "    <tr>\n",
       "      <th>3</th>\n",
       "      <td>Professional sketchbook Thick paper 160 notebo...</td>\n",
       "      <td>3709686910</td>\n",
       "      <td>[22393, 22430, 22744]</td>\n",
       "      <td>76% Off</td>\n",
       "      <td>4.928571428571429</td>\n",
       "      <td>199</td>\n",
       "      <td>48</td>\n",
       "      <td>402 sold</td>\n",
       "      <td>305</td>\n",
       "    </tr>\n",
       "    <tr>\n",
       "      <th>4</th>\n",
       "      <td>Crayola Crayons Set of 8, 16 or 24 colors</td>\n",
       "      <td>2716702418</td>\n",
       "      <td>[22393, 22430, 22744]</td>\n",
       "      <td>62% Off</td>\n",
       "      <td>4.949335889360537</td>\n",
       "      <td>39</td>\n",
       "      <td>14.77</td>\n",
       "      <td>100k+ sold</td>\n",
       "      <td>305</td>\n",
       "    </tr>\n",
       "  </tbody>\n",
       "</table>\n",
       "</div>"
      ],
      "text/plain": [
       "                                                name     item_id  \\\n",
       "0  180ml Kuelox Fixative Spray For Sketch/Gouache...  2206122392   \n",
       "1          Crayola Crayons Set of 8, 16 or 24 colors  2716668362   \n",
       "2  24 Colors Alcohol Marker Art Marker Highlighte...  3617947502   \n",
       "3  Professional sketchbook Thick paper 160 notebo...  3709686910   \n",
       "4          Crayola Crayons Set of 8, 16 or 24 colors  2716702418   \n",
       "\n",
       "             category_id discount       rating_score original_price   price  \\\n",
       "0  [22393, 22430, 22744]  24% Off  4.879432624113475            139  105.04   \n",
       "1  [22393, 22430, 22744]  63% Off  4.946356951871658             39   14.47   \n",
       "2  [22393, 22430, 22744]  55% Off                5.0            200   89.63   \n",
       "3  [22393, 22430, 22744]  76% Off  4.928571428571429            199      48   \n",
       "4  [22393, 22430, 22744]  62% Off  4.949335889360537             39   14.77   \n",
       "\n",
       "  item_sold_count temp_category_index  \n",
       "0        721 sold                 305  \n",
       "1     9,999+ sold                 305  \n",
       "2         94 sold                 305  \n",
       "3        402 sold                 305  \n",
       "4      100k+ sold                 305  "
      ]
     },
     "execution_count": 25,
     "metadata": {},
     "output_type": "execute_result"
    }
   ],
   "source": [
    "sample_webscrape_df_2.head()"
   ]
  },
  {
   "cell_type": "code",
   "execution_count": 24,
   "id": "7340b8aa-e097-4f83-8a50-da4d0b0de1f9",
   "metadata": {
    "execution": {
     "iopub.execute_input": "2023-11-24T10:43:34.825481Z",
     "iopub.status.busy": "2023-11-24T10:43:34.824705Z",
     "iopub.status.idle": "2023-11-24T10:43:34.854920Z",
     "shell.execute_reply": "2023-11-24T10:43:34.853268Z",
     "shell.execute_reply.started": "2023-11-24T10:43:34.825417Z"
    },
    "tags": []
   },
   "outputs": [],
   "source": [
    "sample_webscrape_df_1.to_csv(f'{start_1}-{end_1-1}.csv')\n",
    "sample_webscrape_df_2.to_csv(f'{start_2}-{end_2-1}.csv')"
   ]
  },
  {
   "cell_type": "markdown",
   "id": "afd226a9-4868-4277-a831-5ac3f836d8dc",
   "metadata": {},
   "source": [
    "\n",
    "<div style='display: flex; justify-content: space-between; align-items: center; background-color: #2D0151; color: white; padding: 10px; width: 100%;'>\n",
    "    <h3>Consolidate CSV Files into a DataFrame</h3>\n",
    "    <img src='lazada_logo.png' style='height: 50px; width: auto; margin-left: auto;'>\n",
    "</div>"
   ]
  },
  {
   "cell_type": "code",
   "execution_count": null,
   "id": "879d8b5a-57d3-4b18-a0d0-3a59c75950b5",
   "metadata": {},
   "outputs": [],
   "source": [
    "# Change dir_path to be robust"
   ]
  },
  {
   "cell_type": "code",
   "execution_count": 26,
   "id": "849b7d05-5f83-4b1a-b635-f96b6833f1e9",
   "metadata": {
    "execution": {
     "iopub.execute_input": "2023-11-24T10:43:51.422164Z",
     "iopub.status.busy": "2023-11-24T10:43:51.421438Z",
     "iopub.status.idle": "2023-11-24T10:43:51.435053Z",
     "shell.execute_reply": "2023-11-24T10:43:51.433310Z",
     "shell.execute_reply.started": "2023-11-24T10:43:51.422107Z"
    },
    "tags": []
   },
   "outputs": [],
   "source": [
    "def consolidate_csv_to_df():\n",
    "    \"\"\"Consolidate multiple CSV files to single DataFrame\"\"\"\n",
    "    dir_path = dir_path\n",
    "    files = os.listdir(dir_path)\n",
    "    csv_files = [file for file in files\n",
    "                 if re.match(r'\\d+-\\d+', file) and file.endswith('.csv')]\n",
    "\n",
    "    sample_conso_df = pd.DataFrame()\n",
    "    for file in csv_files:\n",
    "        df = pd.read_csv(os.path.join(dir_path, file))\n",
    "        sample_conso_df = pd.concat([sample_conso_df, df], ignore_index=True)\n",
    "        sample_conso_df.drop_duplicates(\n",
    "            subset=['item_id'], inplace=True, ignore_index=True)\n",
    "    \n",
    "    return sample_conso_df"
   ]
  },
  {
   "cell_type": "code",
   "execution_count": 27,
   "id": "d026ab0a-17de-4c80-b25b-48b208dd4b5b",
   "metadata": {
    "execution": {
     "iopub.execute_input": "2023-11-24T10:43:52.186364Z",
     "iopub.status.busy": "2023-11-24T10:43:52.185629Z",
     "iopub.status.idle": "2023-11-24T10:43:52.213195Z",
     "shell.execute_reply": "2023-11-24T10:43:52.211646Z",
     "shell.execute_reply.started": "2023-11-24T10:43:52.186304Z"
    },
    "tags": []
   },
   "outputs": [],
   "source": [
    "sample_conso_df = consolidate_csv_to_df()"
   ]
  },
  {
   "cell_type": "markdown",
   "id": "1881465b-e49b-4629-8f38-1a25dc524ca6",
   "metadata": {},
   "source": [
    "The CSV files are then loaded and concatenated into a single dataframe and the duplicates based on `item_id` are dropped, using the `consolidate_csv_to_df` function.\n",
    "\n",
    "Displayed below is a sample of two CSV file consolidated into a DataFrame."
   ]
  },
  {
   "cell_type": "code",
   "execution_count": 28,
   "id": "cafa8237-e5bb-4f05-af10-0560cf740ce0",
   "metadata": {
    "execution": {
     "iopub.execute_input": "2023-11-24T10:43:54.133978Z",
     "iopub.status.busy": "2023-11-24T10:43:54.133243Z",
     "iopub.status.idle": "2023-11-24T10:43:54.159909Z",
     "shell.execute_reply": "2023-11-24T10:43:54.158822Z",
     "shell.execute_reply.started": "2023-11-24T10:43:54.133916Z"
    },
    "tags": []
   },
   "outputs": [
    {
     "data": {
      "text/html": [
       "<div>\n",
       "<style scoped>\n",
       "    .dataframe tbody tr th:only-of-type {\n",
       "        vertical-align: middle;\n",
       "    }\n",
       "\n",
       "    .dataframe tbody tr th {\n",
       "        vertical-align: top;\n",
       "    }\n",
       "\n",
       "    .dataframe thead th {\n",
       "        text-align: right;\n",
       "    }\n",
       "</style>\n",
       "<table border=\"1\" class=\"dataframe\">\n",
       "  <thead>\n",
       "    <tr style=\"text-align: right;\">\n",
       "      <th></th>\n",
       "      <th>Unnamed: 0</th>\n",
       "      <th>name</th>\n",
       "      <th>item_id</th>\n",
       "      <th>category_id</th>\n",
       "      <th>discount</th>\n",
       "      <th>rating_score</th>\n",
       "      <th>original_price</th>\n",
       "      <th>price</th>\n",
       "      <th>item_sold_count</th>\n",
       "      <th>temp_category_index</th>\n",
       "    </tr>\n",
       "  </thead>\n",
       "  <tbody>\n",
       "    <tr>\n",
       "      <th>0</th>\n",
       "      <td>0</td>\n",
       "      <td>SRG Christmas Giving Tree P10</td>\n",
       "      <td>3354849788</td>\n",
       "      <td>[12576, 24735, 21018201]</td>\n",
       "      <td>NaN</td>\n",
       "      <td>5.000000</td>\n",
       "      <td>NaN</td>\n",
       "      <td>10.0</td>\n",
       "      <td>93 sold</td>\n",
       "      <td>300</td>\n",
       "    </tr>\n",
       "    <tr>\n",
       "      <th>1</th>\n",
       "      <td>1</td>\n",
       "      <td>Spring Rain Global: Care for the Indigenous Pe...</td>\n",
       "      <td>723918107</td>\n",
       "      <td>[12576, 24735, 21018201]</td>\n",
       "      <td>NaN</td>\n",
       "      <td>5.000000</td>\n",
       "      <td>NaN</td>\n",
       "      <td>500.0</td>\n",
       "      <td>19 sold</td>\n",
       "      <td>300</td>\n",
       "    </tr>\n",
       "    <tr>\n",
       "      <th>2</th>\n",
       "      <td>2</td>\n",
       "      <td>1 Dollar per Day for 100 Days Campaign by SRG</td>\n",
       "      <td>4222496808</td>\n",
       "      <td>[12576, 24735, 21018201]</td>\n",
       "      <td>NaN</td>\n",
       "      <td>0.000000</td>\n",
       "      <td>NaN</td>\n",
       "      <td>50.0</td>\n",
       "      <td>NaN</td>\n",
       "      <td>300</td>\n",
       "    </tr>\n",
       "    <tr>\n",
       "      <th>3</th>\n",
       "      <td>3</td>\n",
       "      <td>Spring Rain Global Care for Disaster Response ...</td>\n",
       "      <td>1407070805</td>\n",
       "      <td>[12576, 24735, 21018201]</td>\n",
       "      <td>NaN</td>\n",
       "      <td>4.921569</td>\n",
       "      <td>NaN</td>\n",
       "      <td>20.0</td>\n",
       "      <td>227 sold</td>\n",
       "      <td>300</td>\n",
       "    </tr>\n",
       "    <tr>\n",
       "      <th>4</th>\n",
       "      <td>4</td>\n",
       "      <td>5 PESOS FOR DUMAGAT COMMUNITY IN NAKAR BULACAN</td>\n",
       "      <td>2985533224</td>\n",
       "      <td>[12576, 24735, 21018201]</td>\n",
       "      <td>NaN</td>\n",
       "      <td>0.000000</td>\n",
       "      <td>NaN</td>\n",
       "      <td>5.0</td>\n",
       "      <td>18 sold</td>\n",
       "      <td>300</td>\n",
       "    </tr>\n",
       "  </tbody>\n",
       "</table>\n",
       "</div>"
      ],
      "text/plain": [
       "   Unnamed: 0                                               name     item_id  \\\n",
       "0           0                      SRG Christmas Giving Tree P10  3354849788   \n",
       "1           1  Spring Rain Global: Care for the Indigenous Pe...   723918107   \n",
       "2           2      1 Dollar per Day for 100 Days Campaign by SRG  4222496808   \n",
       "3           3  Spring Rain Global Care for Disaster Response ...  1407070805   \n",
       "4           4     5 PESOS FOR DUMAGAT COMMUNITY IN NAKAR BULACAN  2985533224   \n",
       "\n",
       "                category_id discount  rating_score  original_price  price  \\\n",
       "0  [12576, 24735, 21018201]      NaN      5.000000             NaN   10.0   \n",
       "1  [12576, 24735, 21018201]      NaN      5.000000             NaN  500.0   \n",
       "2  [12576, 24735, 21018201]      NaN      0.000000             NaN   50.0   \n",
       "3  [12576, 24735, 21018201]      NaN      4.921569             NaN   20.0   \n",
       "4  [12576, 24735, 21018201]      NaN      0.000000             NaN    5.0   \n",
       "\n",
       "  item_sold_count  temp_category_index  \n",
       "0         93 sold                  300  \n",
       "1         19 sold                  300  \n",
       "2             NaN                  300  \n",
       "3        227 sold                  300  \n",
       "4         18 sold                  300  "
      ]
     },
     "execution_count": 28,
     "metadata": {},
     "output_type": "execute_result"
    }
   ],
   "source": [
    "sample_conso_df.head()"
   ]
  },
  {
   "cell_type": "code",
   "execution_count": 29,
   "id": "cf0350a3-5e5f-47ed-b495-45312477886f",
   "metadata": {
    "execution": {
     "iopub.execute_input": "2023-11-24T10:43:55.083165Z",
     "iopub.status.busy": "2023-11-24T10:43:55.082413Z",
     "iopub.status.idle": "2023-11-24T10:43:55.092046Z",
     "shell.execute_reply": "2023-11-24T10:43:55.090427Z",
     "shell.execute_reply.started": "2023-11-24T10:43:55.083105Z"
    },
    "tags": []
   },
   "outputs": [
    {
     "name": "stdout",
     "output_type": "stream",
     "text": [
      "Total listings from the two sample runs: 400\n"
     ]
    }
   ],
   "source": [
    "print(f'Total listings from the two sample runs: {len(sample_conso_df)}')"
   ]
  },
  {
   "cell_type": "code",
   "execution_count": 30,
   "id": "128cd476-c703-481b-8109-e71a7ae69321",
   "metadata": {
    "execution": {
     "iopub.execute_input": "2023-11-24T10:43:56.439742Z",
     "iopub.status.busy": "2023-11-24T10:43:56.438998Z",
     "iopub.status.idle": "2023-11-24T10:43:56.813076Z",
     "shell.execute_reply": "2023-11-24T10:43:56.811911Z",
     "shell.execute_reply.started": "2023-11-24T10:43:56.439683Z"
    },
    "tags": []
   },
   "outputs": [],
   "source": [
    "first_run_lzd_df = pd.read_csv('first_run_lzd_df.csv')\n",
    "del first_run_lzd_df[first_run_lzd_df.columns[0]]"
   ]
  },
  {
   "cell_type": "markdown",
   "id": "2f7351d9-fe58-4990-88f8-6a78aba2d22f",
   "metadata": {},
   "source": [
    "The unnecessary column was then removed from the consolidated DataFrame.\n",
    "    \n",
    "The snippet of the clean DataFrame is shown below."
   ]
  },
  {
   "cell_type": "code",
   "execution_count": 31,
   "id": "a1053f32-c21e-4eb2-8634-ab83cafdc63d",
   "metadata": {
    "execution": {
     "iopub.execute_input": "2023-11-24T10:43:58.140800Z",
     "iopub.status.busy": "2023-11-24T10:43:58.140012Z",
     "iopub.status.idle": "2023-11-24T10:43:58.169491Z",
     "shell.execute_reply": "2023-11-24T10:43:58.168279Z",
     "shell.execute_reply.started": "2023-11-24T10:43:58.140737Z"
    },
    "tags": []
   },
   "outputs": [
    {
     "data": {
      "text/html": [
       "<div>\n",
       "<style scoped>\n",
       "    .dataframe tbody tr th:only-of-type {\n",
       "        vertical-align: middle;\n",
       "    }\n",
       "\n",
       "    .dataframe tbody tr th {\n",
       "        vertical-align: top;\n",
       "    }\n",
       "\n",
       "    .dataframe thead th {\n",
       "        text-align: right;\n",
       "    }\n",
       "</style>\n",
       "<table border=\"1\" class=\"dataframe\">\n",
       "  <thead>\n",
       "    <tr style=\"text-align: right;\">\n",
       "      <th></th>\n",
       "      <th>name</th>\n",
       "      <th>item_id</th>\n",
       "      <th>category_id</th>\n",
       "      <th>discount</th>\n",
       "      <th>rating_score</th>\n",
       "      <th>original_price</th>\n",
       "      <th>price</th>\n",
       "      <th>item_sold_count</th>\n",
       "      <th>temp_category_index</th>\n",
       "    </tr>\n",
       "  </thead>\n",
       "  <tbody>\n",
       "    <tr>\n",
       "      <th>0</th>\n",
       "      <td>【☞☞】【3Years Warranty】Original cctv camera conn...</td>\n",
       "      <td>2.801853e+09</td>\n",
       "      <td>[5185, 5200, 24956]</td>\n",
       "      <td>56% Off</td>\n",
       "      <td>5.0</td>\n",
       "      <td>1799.0</td>\n",
       "      <td>799.00</td>\n",
       "      <td>1,861 sold</td>\n",
       "      <td>2.0</td>\n",
       "    </tr>\n",
       "    <tr>\n",
       "      <th>1</th>\n",
       "      <td>MOK FWRD DEVICE MOK FRWRD</td>\n",
       "      <td>4.040168e+09</td>\n",
       "      <td>[5185, 5200, 24956]</td>\n",
       "      <td>49% Off</td>\n",
       "      <td>5.0</td>\n",
       "      <td>1990.0</td>\n",
       "      <td>1010.00</td>\n",
       "      <td>14 sold</td>\n",
       "      <td>2.0</td>\n",
       "    </tr>\n",
       "    <tr>\n",
       "      <th>2</th>\n",
       "      <td>Insta360 Bullet Time Accessory Bundle for ONE ...</td>\n",
       "      <td>5.587683e+08</td>\n",
       "      <td>[5185, 5200, 24956]</td>\n",
       "      <td>NaN</td>\n",
       "      <td>4.0</td>\n",
       "      <td>NaN</td>\n",
       "      <td>2590.00</td>\n",
       "      <td>14 sold</td>\n",
       "      <td>2.0</td>\n",
       "    </tr>\n",
       "    <tr>\n",
       "      <th>3</th>\n",
       "      <td>V380 USB Wifi Camera With SD Card Recorder</td>\n",
       "      <td>1.627659e+09</td>\n",
       "      <td>[5185, 5200, 24956]</td>\n",
       "      <td>57% Off</td>\n",
       "      <td>0.0</td>\n",
       "      <td>1599.0</td>\n",
       "      <td>693.55</td>\n",
       "      <td>NaN</td>\n",
       "      <td>2.0</td>\n",
       "    </tr>\n",
       "    <tr>\n",
       "      <th>4</th>\n",
       "      <td>[Ready Stock] Obsbot Tiny 4k + Remote Control</td>\n",
       "      <td>3.410223e+09</td>\n",
       "      <td>[5185, 5200, 24956]</td>\n",
       "      <td>NaN</td>\n",
       "      <td>0.0</td>\n",
       "      <td>NaN</td>\n",
       "      <td>15819.00</td>\n",
       "      <td>NaN</td>\n",
       "      <td>2.0</td>\n",
       "    </tr>\n",
       "  </tbody>\n",
       "</table>\n",
       "</div>"
      ],
      "text/plain": [
       "                                                name       item_id  \\\n",
       "0  【☞☞】【3Years Warranty】Original cctv camera conn...  2.801853e+09   \n",
       "1                          MOK FWRD DEVICE MOK FRWRD  4.040168e+09   \n",
       "2  Insta360 Bullet Time Accessory Bundle for ONE ...  5.587683e+08   \n",
       "3         V380 USB Wifi Camera With SD Card Recorder  1.627659e+09   \n",
       "4      [Ready Stock] Obsbot Tiny 4k + Remote Control  3.410223e+09   \n",
       "\n",
       "           category_id discount  rating_score  original_price     price  \\\n",
       "0  [5185, 5200, 24956]  56% Off           5.0          1799.0    799.00   \n",
       "1  [5185, 5200, 24956]  49% Off           5.0          1990.0   1010.00   \n",
       "2  [5185, 5200, 24956]      NaN           4.0             NaN   2590.00   \n",
       "3  [5185, 5200, 24956]  57% Off           0.0          1599.0    693.55   \n",
       "4  [5185, 5200, 24956]      NaN           0.0             NaN  15819.00   \n",
       "\n",
       "  item_sold_count  temp_category_index  \n",
       "0      1,861 sold                  2.0  \n",
       "1         14 sold                  2.0  \n",
       "2         14 sold                  2.0  \n",
       "3             NaN                  2.0  \n",
       "4             NaN                  2.0  "
      ]
     },
     "execution_count": 31,
     "metadata": {},
     "output_type": "execute_result"
    }
   ],
   "source": [
    "first_run_lzd_df.head()"
   ]
  },
  {
   "cell_type": "code",
   "execution_count": 32,
   "id": "7586feb8-fca6-466b-b4b8-0846f6c1736e",
   "metadata": {
    "execution": {
     "iopub.execute_input": "2023-11-24T10:43:59.010608Z",
     "iopub.status.busy": "2023-11-24T10:43:59.009809Z",
     "iopub.status.idle": "2023-11-24T10:43:59.019605Z",
     "shell.execute_reply": "2023-11-24T10:43:59.017692Z",
     "shell.execute_reply.started": "2023-11-24T10:43:59.010544Z"
    },
    "tags": []
   },
   "outputs": [
    {
     "name": "stdout",
     "output_type": "stream",
     "text": [
      "Total listings collected on first webscrape run: 81926\n"
     ]
    }
   ],
   "source": [
    "print(f'Total listings collected on first webscrape run: '\n",
    "      f'{len(first_run_lzd_df)}')"
   ]
  },
  {
   "cell_type": "markdown",
   "id": "f61cffca-ebcc-49f1-af76-3a89f8b034eb",
   "metadata": {},
   "source": [
    "<div style='display: flex; justify-content: space-between; align-items: center; background-color: #2D0151; color: white; padding: 10px; width: 100%;'>\n",
    "    <h2>LAZADA LISTINGS DATA USING SEARCH QUERY</h2>\n",
    "    <img src='lazada_logo.png' style='height: 50px; width: auto; margin-left: auto;'>\n",
    "</div>"
   ]
  },
  {
   "cell_type": "markdown",
   "id": "19f7bd7f-2d2a-4912-ac3f-d880935a5f18",
   "metadata": {},
   "source": [
    "\n",
    "<div style='display: flex; justify-content: space-between; align-items: center; background-color: #2D0151; color: white; padding: 10px; width: 100%;'>\n",
    "    <h3>Prepare Data for Identification of Uncaptured Listing Entries</h3>\n",
    "    <img src='lazada_logo.png' style='height: 50px; width: auto; margin-left: auto;'>\n",
    "</div>"
   ]
  },
  {
   "cell_type": "code",
   "execution_count": 33,
   "id": "16f881c5-8c66-4567-937e-26b857c96118",
   "metadata": {
    "execution": {
     "iopub.execute_input": "2023-11-24T10:44:01.262019Z",
     "iopub.status.busy": "2023-11-24T10:44:01.261279Z",
     "iopub.status.idle": "2023-11-24T10:44:01.272697Z",
     "shell.execute_reply": "2023-11-24T10:44:01.270944Z",
     "shell.execute_reply.started": "2023-11-24T10:44:01.261956Z"
    },
    "tags": []
   },
   "outputs": [],
   "source": [
    "def get_third_or_second_category_id(cat_id_path):\n",
    "    \"\"\"Retrieve third or second level category ID from category_id column\"\"\"\n",
    "    match_third = re.search(\n",
    "        r'(?:\\[(?:\\d+\\s*,\\s*){2}(\\d+)(?:\\s*,\\s*\\d+\\s*)*\\])', cat_id_path)\n",
    "    match_second = re.search(\n",
    "        r'\\[(?:\\d+\\s*,\\s*(\\d+)(?:\\s*,\\s*\\d+\\s*)?)\\]', cat_id_path)\n",
    "    \n",
    "    if match_third:\n",
    "        return int(match_third.group(1))\n",
    "    else:\n",
    "        return int(match_second.group(1))"
   ]
  },
  {
   "cell_type": "code",
   "execution_count": 34,
   "id": "c5f4eb3f-1020-4d80-9052-20f05c33d4be",
   "metadata": {
    "execution": {
     "iopub.execute_input": "2023-11-24T10:44:01.931118Z",
     "iopub.status.busy": "2023-11-24T10:44:01.930388Z",
     "iopub.status.idle": "2023-11-24T10:44:01.940575Z",
     "shell.execute_reply": "2023-11-24T10:44:01.938662Z",
     "shell.execute_reply.started": "2023-11-24T10:44:01.931059Z"
    },
    "tags": []
   },
   "outputs": [],
   "source": [
    "def create_third_category_id_col(df, cat_id_col, third_cat_id_col):\n",
    "    \"\"\"Create additional column consisting of third_category_id\"\"\"\n",
    "    df[third_cat_id_col] = df[cat_id_col].apply(\n",
    "        lambda x: get_third_or_second_category_id(x))\n",
    "    \n",
    "    return df"
   ]
  },
  {
   "cell_type": "code",
   "execution_count": 35,
   "id": "69fcbc47-5369-4783-a7a2-44ddacd3c6d9",
   "metadata": {
    "execution": {
     "iopub.execute_input": "2023-11-24T10:44:02.707364Z",
     "iopub.status.busy": "2023-11-24T10:44:02.706614Z",
     "iopub.status.idle": "2023-11-24T10:44:02.939598Z",
     "shell.execute_reply": "2023-11-24T10:44:02.938619Z",
     "shell.execute_reply.started": "2023-11-24T10:44:02.707305Z"
    },
    "tags": []
   },
   "outputs": [],
   "source": [
    "first_run_lzd_df = create_third_category_id_col(\n",
    "    first_run_lzd_df, 'category_id', 'third_category_id')"
   ]
  },
  {
   "cell_type": "markdown",
   "id": "776e495a-0d51-42fa-b6f4-b8b622eda2bb",
   "metadata": {},
   "source": [
    "In preparation for identifying the missing categories, the `third_category_id` was added to the consolidated DataFrame, using two functions. Firstly, the `get_third_or_second_category` function successfully captures the third level category from each `category_id` column values. This is used in conjunction with the `create_third_category_id_col` function in order to create the additional `third_category_id` column to the DataFrame.\n",
    "\n",
    "The snippet of the DataFrame is shown below."
   ]
  },
  {
   "cell_type": "code",
   "execution_count": 36,
   "id": "aa43b25b-09d6-4008-9457-a881ec2fd22b",
   "metadata": {
    "execution": {
     "iopub.execute_input": "2023-11-24T10:44:04.477475Z",
     "iopub.status.busy": "2023-11-24T10:44:04.476728Z",
     "iopub.status.idle": "2023-11-24T10:44:04.506742Z",
     "shell.execute_reply": "2023-11-24T10:44:04.505043Z",
     "shell.execute_reply.started": "2023-11-24T10:44:04.477415Z"
    },
    "tags": []
   },
   "outputs": [
    {
     "data": {
      "text/html": [
       "<div>\n",
       "<style scoped>\n",
       "    .dataframe tbody tr th:only-of-type {\n",
       "        vertical-align: middle;\n",
       "    }\n",
       "\n",
       "    .dataframe tbody tr th {\n",
       "        vertical-align: top;\n",
       "    }\n",
       "\n",
       "    .dataframe thead th {\n",
       "        text-align: right;\n",
       "    }\n",
       "</style>\n",
       "<table border=\"1\" class=\"dataframe\">\n",
       "  <thead>\n",
       "    <tr style=\"text-align: right;\">\n",
       "      <th></th>\n",
       "      <th>name</th>\n",
       "      <th>item_id</th>\n",
       "      <th>category_id</th>\n",
       "      <th>discount</th>\n",
       "      <th>rating_score</th>\n",
       "      <th>original_price</th>\n",
       "      <th>price</th>\n",
       "      <th>item_sold_count</th>\n",
       "      <th>temp_category_index</th>\n",
       "      <th>third_category_id</th>\n",
       "    </tr>\n",
       "  </thead>\n",
       "  <tbody>\n",
       "    <tr>\n",
       "      <th>0</th>\n",
       "      <td>【☞☞】【3Years Warranty】Original cctv camera conn...</td>\n",
       "      <td>2.801853e+09</td>\n",
       "      <td>[5185, 5200, 24956]</td>\n",
       "      <td>56% Off</td>\n",
       "      <td>5.0</td>\n",
       "      <td>1799.0</td>\n",
       "      <td>799.00</td>\n",
       "      <td>1,861 sold</td>\n",
       "      <td>2.0</td>\n",
       "      <td>24956</td>\n",
       "    </tr>\n",
       "    <tr>\n",
       "      <th>1</th>\n",
       "      <td>MOK FWRD DEVICE MOK FRWRD</td>\n",
       "      <td>4.040168e+09</td>\n",
       "      <td>[5185, 5200, 24956]</td>\n",
       "      <td>49% Off</td>\n",
       "      <td>5.0</td>\n",
       "      <td>1990.0</td>\n",
       "      <td>1010.00</td>\n",
       "      <td>14 sold</td>\n",
       "      <td>2.0</td>\n",
       "      <td>24956</td>\n",
       "    </tr>\n",
       "    <tr>\n",
       "      <th>2</th>\n",
       "      <td>Insta360 Bullet Time Accessory Bundle for ONE ...</td>\n",
       "      <td>5.587683e+08</td>\n",
       "      <td>[5185, 5200, 24956]</td>\n",
       "      <td>NaN</td>\n",
       "      <td>4.0</td>\n",
       "      <td>NaN</td>\n",
       "      <td>2590.00</td>\n",
       "      <td>14 sold</td>\n",
       "      <td>2.0</td>\n",
       "      <td>24956</td>\n",
       "    </tr>\n",
       "    <tr>\n",
       "      <th>3</th>\n",
       "      <td>V380 USB Wifi Camera With SD Card Recorder</td>\n",
       "      <td>1.627659e+09</td>\n",
       "      <td>[5185, 5200, 24956]</td>\n",
       "      <td>57% Off</td>\n",
       "      <td>0.0</td>\n",
       "      <td>1599.0</td>\n",
       "      <td>693.55</td>\n",
       "      <td>NaN</td>\n",
       "      <td>2.0</td>\n",
       "      <td>24956</td>\n",
       "    </tr>\n",
       "    <tr>\n",
       "      <th>4</th>\n",
       "      <td>[Ready Stock] Obsbot Tiny 4k + Remote Control</td>\n",
       "      <td>3.410223e+09</td>\n",
       "      <td>[5185, 5200, 24956]</td>\n",
       "      <td>NaN</td>\n",
       "      <td>0.0</td>\n",
       "      <td>NaN</td>\n",
       "      <td>15819.00</td>\n",
       "      <td>NaN</td>\n",
       "      <td>2.0</td>\n",
       "      <td>24956</td>\n",
       "    </tr>\n",
       "  </tbody>\n",
       "</table>\n",
       "</div>"
      ],
      "text/plain": [
       "                                                name       item_id  \\\n",
       "0  【☞☞】【3Years Warranty】Original cctv camera conn...  2.801853e+09   \n",
       "1                          MOK FWRD DEVICE MOK FRWRD  4.040168e+09   \n",
       "2  Insta360 Bullet Time Accessory Bundle for ONE ...  5.587683e+08   \n",
       "3         V380 USB Wifi Camera With SD Card Recorder  1.627659e+09   \n",
       "4      [Ready Stock] Obsbot Tiny 4k + Remote Control  3.410223e+09   \n",
       "\n",
       "           category_id discount  rating_score  original_price     price  \\\n",
       "0  [5185, 5200, 24956]  56% Off           5.0          1799.0    799.00   \n",
       "1  [5185, 5200, 24956]  49% Off           5.0          1990.0   1010.00   \n",
       "2  [5185, 5200, 24956]      NaN           4.0             NaN   2590.00   \n",
       "3  [5185, 5200, 24956]  57% Off           0.0          1599.0    693.55   \n",
       "4  [5185, 5200, 24956]      NaN           0.0             NaN  15819.00   \n",
       "\n",
       "  item_sold_count  temp_category_index  third_category_id  \n",
       "0      1,861 sold                  2.0              24956  \n",
       "1         14 sold                  2.0              24956  \n",
       "2         14 sold                  2.0              24956  \n",
       "3             NaN                  2.0              24956  \n",
       "4             NaN                  2.0              24956  "
      ]
     },
     "execution_count": 36,
     "metadata": {},
     "output_type": "execute_result"
    }
   ],
   "source": [
    "first_run_lzd_df.head()"
   ]
  },
  {
   "cell_type": "markdown",
   "id": "3f5ad7bd-940c-4728-a4fa-31ea95842fd4",
   "metadata": {},
   "source": [
    "\n",
    "<div style='display: flex; justify-content: space-between; align-items: center; background-color: #2D0151; color: white; padding: 10px; width: 100%;'>\n",
    "    <h3>Identify Categories with Uncaptured Listing Entries</h3>\n",
    "    <img src='lazada_logo.png' style='height: 50px; width: auto; margin-left: auto;'>\n",
    "</div>"
   ]
  },
  {
   "cell_type": "code",
   "execution_count": 37,
   "id": "b55acf84-e3b5-4f61-8ec9-1962adaf8dfc",
   "metadata": {
    "execution": {
     "iopub.execute_input": "2023-11-24T10:44:06.215830Z",
     "iopub.status.busy": "2023-11-24T10:44:06.215092Z",
     "iopub.status.idle": "2023-11-24T10:44:06.227587Z",
     "shell.execute_reply": "2023-11-24T10:44:06.225948Z",
     "shell.execute_reply.started": "2023-11-24T10:44:06.215771Z"
    },
    "tags": []
   },
   "outputs": [],
   "source": [
    "def retrieve_uncaptured_categories(df):\n",
    "    \"\"\"Retrieve category paths with uncaptured listing entries\"\"\"\n",
    "    pattern = r'(\\d+)\\b'\n",
    "    captured_cat_ids = list(df['third_category_id'].unique())\n",
    "    uncaptured_cats = []\n",
    "\n",
    "    for cat, cat_ids in third_level_dict.items():\n",
    "        cat_id_matches = re.findall(pattern, cat_ids)\n",
    "        if int(cat_id_matches[-1]) not in captured_cat_ids:\n",
    "            cat = cat.replace(' > ', ' ')\n",
    "            uncaptured_cats.append(cat)\n",
    "    \n",
    "    return uncaptured_cats"
   ]
  },
  {
   "cell_type": "code",
   "execution_count": 38,
   "id": "71f70ed8-5ad7-46ca-b132-026cc56e5f0a",
   "metadata": {
    "execution": {
     "iopub.execute_input": "2023-11-24T10:44:06.835140Z",
     "iopub.status.busy": "2023-11-24T10:44:06.834410Z",
     "iopub.status.idle": "2023-11-24T10:44:06.847380Z",
     "shell.execute_reply": "2023-11-24T10:44:06.845497Z",
     "shell.execute_reply.started": "2023-11-24T10:44:06.835081Z"
    },
    "tags": []
   },
   "outputs": [],
   "source": [
    "def retrieve_uncaptured_last_categories(df):\n",
    "    \"\"\"Retrieve third level sub-categories of uncaptured listing categories\"\"\"\n",
    "    pattern = r'[^>]+$'\n",
    "    captured_cat_ids = list(df['third_category_id'].unique())\n",
    "    uncaptured_last_cats = []\n",
    "\n",
    "    for cat, cat_ids in third_level_dict.items():\n",
    "        cat_id_matches = re.findall(pattern, cat_ids)\n",
    "        cat_matches = re.findall(pattern, cat)\n",
    "        if int(cat_id_matches[-1]) not in captured_cat_ids:\n",
    "            uncaptured_last_cats.append(cat_matches[0].strip())\n",
    "\n",
    "    return uncaptured_last_cats"
   ]
  },
  {
   "cell_type": "code",
   "execution_count": 39,
   "id": "f8a4b5ff-be25-4c9d-adda-dd6c762612e5",
   "metadata": {
    "execution": {
     "iopub.execute_input": "2023-11-24T10:44:07.646413Z",
     "iopub.status.busy": "2023-11-24T10:44:07.645682Z",
     "iopub.status.idle": "2023-11-24T10:44:07.720902Z",
     "shell.execute_reply": "2023-11-24T10:44:07.719856Z",
     "shell.execute_reply.started": "2023-11-24T10:44:07.646353Z"
    },
    "tags": []
   },
   "outputs": [],
   "source": [
    "uncaptured_cats = retrieve_uncaptured_categories(first_run_lzd_df)\n",
    "uncaptured_last_cats = retrieve_uncaptured_last_categories(first_run_lzd_df)"
   ]
  },
  {
   "cell_type": "markdown",
   "id": "dde2a8a9-c07e-4218-aa9f-ddb1c622f337",
   "metadata": {},
   "source": [
    "Categories and their corresponding last categories are identified and separated into two different lists in preparation for the next step, using functions `retrieve_uncaptured_categories` and `retrieve_uncaptured_last_categories` respectively.\n",
    "    \n",
    "Below is a snippet of the uncaptured categories and its corresponding last categories, respectively."
   ]
  },
  {
   "cell_type": "code",
   "execution_count": 40,
   "id": "938333f8-de8c-4ec7-b1dc-7624b876b839",
   "metadata": {
    "execution": {
     "iopub.execute_input": "2023-11-24T10:44:09.355415Z",
     "iopub.status.busy": "2023-11-24T10:44:09.354678Z",
     "iopub.status.idle": "2023-11-24T10:44:09.367188Z",
     "shell.execute_reply": "2023-11-24T10:44:09.365251Z",
     "shell.execute_reply.started": "2023-11-24T10:44:09.355353Z"
    },
    "tags": []
   },
   "outputs": [
    {
     "data": {
      "text/plain": [
       "['Mobiles & Tablets Smartphones',\n",
       " 'Mobiles & Tablets Feature Phones',\n",
       " 'Computers & Laptops Desktops Computers All-In-One',\n",
       " 'Computers & Laptops Desktops Computers DIY',\n",
       " 'Computers & Laptops Laptops 2-in-1s',\n",
       " 'Cameras & Drones Bridge',\n",
       " 'Cameras & Drones Video & Action Camcorder Underwater Camcorders',\n",
       " 'Cameras & Drones Video & Action Camcorder Sports & Action Camera',\n",
       " 'Cameras & Drones Video & Action Camcorder Video Camera',\n",
       " 'Cameras & Drones Instant Camera Instant Cameras']"
      ]
     },
     "execution_count": 40,
     "metadata": {},
     "output_type": "execute_result"
    }
   ],
   "source": [
    "uncaptured_cats[:10]"
   ]
  },
  {
   "cell_type": "code",
   "execution_count": 41,
   "id": "eb4e6e77-1b16-4d32-83c4-22a62fb1c277",
   "metadata": {
    "execution": {
     "iopub.execute_input": "2023-11-24T10:44:10.139329Z",
     "iopub.status.busy": "2023-11-24T10:44:10.138578Z",
     "iopub.status.idle": "2023-11-24T10:44:10.151553Z",
     "shell.execute_reply": "2023-11-24T10:44:10.149393Z",
     "shell.execute_reply.started": "2023-11-24T10:44:10.139268Z"
    },
    "tags": []
   },
   "outputs": [
    {
     "data": {
      "text/plain": [
       "['Smartphones',\n",
       " 'Feature Phones',\n",
       " 'All-In-One',\n",
       " 'DIY',\n",
       " '2-in-1s',\n",
       " 'Bridge',\n",
       " 'Underwater Camcorders',\n",
       " 'Sports & Action Camera',\n",
       " 'Video Camera',\n",
       " 'Instant Cameras']"
      ]
     },
     "execution_count": 41,
     "metadata": {},
     "output_type": "execute_result"
    }
   ],
   "source": [
    "uncaptured_last_cats[:10]"
   ]
  },
  {
   "cell_type": "markdown",
   "id": "e37e1cb4-f4c3-4621-aa59-4c76ef15dfee",
   "metadata": {},
   "source": [
    "\n",
    "<div style='display: flex; justify-content: space-between; align-items: center; background-color: #2D0151; color: white; padding: 10px; width: 100%;'>\n",
    "    <h3>Retrieve URLs for Categories with Uncaptured Listings with Search Query</h3>\n",
    "    <img src='lazada_logo.png' style='height: 50px; width: auto; margin-left: auto;'>\n",
    "</div>"
   ]
  },
  {
   "cell_type": "code",
   "execution_count": 42,
   "id": "8fb1e9d7-5933-4c66-b619-afe5feb95196",
   "metadata": {
    "execution": {
     "iopub.execute_input": "2023-11-24T10:44:12.040585Z",
     "iopub.status.busy": "2023-11-24T10:44:12.039791Z",
     "iopub.status.idle": "2023-11-24T10:44:12.049505Z",
     "shell.execute_reply": "2023-11-24T10:44:12.047157Z",
     "shell.execute_reply.started": "2023-11-24T10:44:12.040522Z"
    },
    "tags": []
   },
   "outputs": [],
   "source": [
    "cat_url_dct = {}"
   ]
  },
  {
   "cell_type": "code",
   "execution_count": 43,
   "id": "74969840-fdf9-4639-bae9-62f88a9570fb",
   "metadata": {
    "execution": {
     "iopub.execute_input": "2023-11-24T10:44:13.667099Z",
     "iopub.status.busy": "2023-11-24T10:44:13.666354Z",
     "iopub.status.idle": "2023-11-24T10:44:13.687106Z",
     "shell.execute_reply": "2023-11-24T10:44:13.685590Z",
     "shell.execute_reply.started": "2023-11-24T10:44:13.667039Z"
    },
    "tags": []
   },
   "outputs": [],
   "source": [
    "def retrieve_uncaptured_category_urls(start, end, headers):\n",
    "    \"\"\"Webscrape Lazada to retrieve URLs of uncapture category listings\"\"\"\n",
    "    i = 0\n",
    "    for cat in uncaptured_cats[start:end]:\n",
    "        try:\n",
    "            lzd = requests.get('https://www.lazada.com.ph/catalog/',\n",
    "                         headers=headers, params={'q': f'{cat}'}).text\n",
    "            time.sleep(5)\n",
    "\n",
    "        except JSONDecodeError as e:\n",
    "            print(f'JSONDecodeError: {e}')\n",
    "            continue\n",
    "\n",
    "        soup = BeautifulSoup(lzd, 'html.parser')\n",
    "        script_tags = soup.find_all('script')\n",
    "        script_tags = soup.find_all(\n",
    "            'script', {'class': re.compile(r'J_data_\\d+')})\n",
    "\n",
    "        child_cat_names = []\n",
    "        child_cat_urls = []\n",
    "\n",
    "        for script in script_tags:\n",
    "            content = script.string.strip()\n",
    "            json_content = re.search(r'\\[{.*}\\]', content)\n",
    "\n",
    "            if json_content:\n",
    "                json_data = json_content.group()\n",
    "                data = json.loads(json_data)\n",
    "\n",
    "                for item in data:\n",
    "                    name = item.get('childCategoryName')\n",
    "                    url = item.get('childCategoryUrl')\n",
    "\n",
    "                    if name and url:\n",
    "                        child_cat_names.append(name)\n",
    "                        child_cat_urls.append(url)\n",
    "\n",
    "        data = {\n",
    "            'child_cat_name': child_cat_names,\n",
    "            'child_cat_url': child_cat_urls\n",
    "        }\n",
    "        df = pd.DataFrame(data)\n",
    "        df = df.drop_duplicates(subset='child_cat_name')\n",
    "        df = df.reset_index(drop=True)\n",
    "\n",
    "        url = (df[df['child_cat_name'] ==\n",
    "                  f'{uncaptured_last_cats[i+start]}']['child_cat_url'])\n",
    "        cat_url_dct[cat] = url\n",
    "        i += 1"
   ]
  },
  {
   "cell_type": "code",
   "execution_count": 44,
   "id": "904e09cd-d2d7-4339-a4a2-7d3ef84643e4",
   "metadata": {
    "execution": {
     "iopub.execute_input": "2023-11-24T10:44:15.250256Z",
     "iopub.status.busy": "2023-11-24T10:44:15.249508Z",
     "iopub.status.idle": "2023-11-24T10:44:15.264827Z",
     "shell.execute_reply": "2023-11-24T10:44:15.263133Z",
     "shell.execute_reply.started": "2023-11-24T10:44:15.250196Z"
    },
    "tags": []
   },
   "outputs": [],
   "source": [
    "# Initialize with the following sample parameters\n",
    "headers = {\n",
    "    'Accept': 'application/json, text/plain, */*',\n",
    "    'Accept-Encoding': 'gzip, deflate, br',\n",
    "    'Accept-Language': 'en-US,en;q=0.9',\n",
    "    'Cookie': ('__wpkreporterwid_=3fe582be-6d6e-463d-3dd1-7ba13b5f49ff; lzd_cid'\n",
    "               '=c1add782-8880-4a9d-d2bb-4f998db23cac; t_uid=c1add782-8880-4a9d'\n",
    "               '-d2bb-4f998db23cac; t_fv=1700280938528; lwrid=AQGL4KQwN3O1ot2bK'\n",
    "               '%2Fk8X39uI9jH; hng=PH|en-PH|PHP|608; userLanguageML=en; cna=aij'\n",
    "               'fHTBRfhwCAZJYTCK8Xjwt; _bl_uid=sjlw3p763azjLddv7lz8891g7F3t; __'\n",
    "               'itrace_wid=4233bd3d-25b0-4ee9-1268-986e501061b0; _gcl_au=1.1.21'\n",
    "               '01806292.1700281477; _uetvid=6ba4d9c085ca11eebfadd5053eb33830; '\n",
    "               '_fbp=fb.2.1700281493102.857291082; sgcookie=E100FFrZs3pSnXrfa2Q'\n",
    "               '2e%2Bre9%2FsIir3s1C7cJ8gyw8N7OMRCBzqJVoFhm2eUXftZ4YyNV0uOqIh%2B'\n",
    "               'KIxoC92rlMcbcajjzryCMH2lYyYlCUC%2FIuQ%3D; pdp_sfo=1; lzd_sid=16'\n",
    "               '2bc36d95867700f181066e84f26ad3; _tb_token_=ee7eb7896fe78; xlly_'\n",
    "               's=1; tfstk=dHDyqBXhILpzir4W672U3K10An28eRL_-vaQxDm3Vz4lFT_ngq3F'\n",
    "               'A3LpwjzEoqP3Rvwu-Mumx7b7F06ETD4VdzaB2xPERVB7rvodLkmnJ3UB2Ii-2Je'\n",
    "               'H5FweC7nJwTY653qYOm2LKFT6OwnUKJ3wy0ARUS3PvT9uMFmToYKhjxUN3yaVKO'\n",
    "               'SY470eBrWHIxrrIPXNEwE09vMKawfUZoE45n-4GuITT; t_sid=0FQ3cJ68EG1q'\n",
    "               'kLeMDfm3pOBWZ3FLai4t; utm_channel=NA; _m_h5_tk=fa815492ff2071e1'\n",
    "               '41c62cb96ab0ecc3_1700766922943; _m_h5_tk_enc=095022a4c1e0fc028d'\n",
    "               '7df7af3bcb3df5; epssw=1*ic1611iDjCECG_GS7zFQK79Stdfw8Pz4IlmYNez'\n",
    "               '4urz8BgedNR_8uVz8t0wTfhdWH96VIL5jgzJS11Gz1Apx7UeoHfBW-5CWH1BWsC'\n",
    "               'nPE91G_rYp3hYKNtCOeGxGf8tGj3mOvpCt9rLauayuv1Rug5NYmahdkQURII7_-'\n",
    "               '20krTB4hUHJ3zQRxDDR3DqheKz5PKBvetzRGbvOGb1j_Q1JcPczBF3tet4Rh43-'\n",
    "               'yaBp; isg=BLe3W9-qntHRBRpaw_-3p1ODRqsBfIve2IjgfAlk0wbtuNf6EUwbL'\n",
    "               'nWemhDma2NW'),\n",
    "    'Referer': 'https://www.lazada.com.ph/',\n",
    "    'Sec-Ch-Ua': ('\"Google Chrome\";v=\"119\", \"Chromium\";v=\"119\", \"Not?A_Brand\";'\n",
    "                  'v=\"24\"'),\n",
    "    'Sec-Ch-Ua-Mobile': '?0',\n",
    "    'Sec-Ch-Ua-Platform': '\"Windows\"',\n",
    "    'Sec-Fetch-Dest': 'empty',\n",
    "    'Sec-Fetch-Mode': 'cors',\n",
    "    'Sec-Fetch-Site': 'same-origin',\n",
    "    'User-Agent': ('Mozilla/5.0 (Windows NT 10.0; Win64; x64) '\n",
    "                   'AppleWebKit/537.36 (KHTML, like Gecko) '\n",
    "                   'Chrome/119.0.0.0 Safari/537.36'),\n",
    "    'X-Csrf-Token': 'ee7eb7896fe78',\n",
    "    'X-Requested-With': 'XMLHttpRequest'\n",
    "}\n",
    "\n",
    "start = 200\n",
    "end = 205"
   ]
  },
  {
   "cell_type": "code",
   "execution_count": 45,
   "id": "73b55fc7-0abe-4773-8d97-713ed4a80687",
   "metadata": {
    "execution": {
     "iopub.execute_input": "2023-11-24T10:44:18.157068Z",
     "iopub.status.busy": "2023-11-24T10:44:18.156282Z",
     "iopub.status.idle": "2023-11-24T10:44:44.761656Z",
     "shell.execute_reply": "2023-11-24T10:44:44.759903Z",
     "shell.execute_reply.started": "2023-11-24T10:44:18.157008Z"
    },
    "tags": []
   },
   "outputs": [],
   "source": [
    "retrieve_uncaptured_category_urls(start, end, headers)"
   ]
  },
  {
   "cell_type": "markdown",
   "id": "5b56bc6b-8c30-4f5f-9b51-8170280e5599",
   "metadata": {},
   "source": [
    "Using the list of uncaptured categories and its corresponding third levels, the URLs can be retrieved via webscraping from the Lazada website, with the steps as follows.\n",
    "\n",
    "\n",
    "<div style='display: flex; justify-content: space-between; align-items: center; background-color: #2D0151; color: white; padding: 10px; width: 100%;'>\n",
    "    <h5>1. A request is sent to the Lazada target endpoint leading to the page results when inputting the category path in the site's search bar.</h5>\n",
    "    <img src='lazada_logo.png' style='height: 30px; width: auto; margin-left: auto;'>\n",
    "</div>\n",
    "<br>\n",
    "<div style='display: flex; justify-content: space-between; align-items: center; background-color: #2D0151; color: white; padding: 10px; width: 100%;'>\n",
    "    <h5>2. The HTML is parsed to locate the portion containing the category name and corresponding category URL.</h5>\n",
    "    <img src='lazada_logo.png' style='height: 30px; width: auto; margin-left: auto;'>\n",
    "</div>\n",
    "<br>\n",
    "<div style='display: flex; justify-content: space-between; align-items: center; background-color: #2D0151; color: white; padding: 10px; width: 100%;'>\n",
    "    <h5>3. The results are consolidated into the `cat_url_dct` dictionary per run of the `retrieve_uncaptured_category_urls` function.</h5>\n",
    "    <img src='lazada_logo.png' style='height: 30px; width: auto; margin-left: auto;'>\n",
    "</div>\n",
    "<br>\n",
    "\n",
    "Displayed below is the a sample portion of the resulting `cat_url_dct` dictionary containing the category name and corresponding URL string."
   ]
  },
  {
   "cell_type": "code",
   "execution_count": 46,
   "id": "1caa6fcc-5118-4316-8d1f-87fd3192391a",
   "metadata": {
    "execution": {
     "iopub.execute_input": "2023-11-24T10:44:48.434508Z",
     "iopub.status.busy": "2023-11-24T10:44:48.433765Z",
     "iopub.status.idle": "2023-11-24T10:44:48.449332Z",
     "shell.execute_reply": "2023-11-24T10:44:48.447880Z",
     "shell.execute_reply.started": "2023-11-24T10:44:48.434445Z"
    },
    "tags": []
   },
   "outputs": [
    {
     "data": {
      "text/plain": [
       "{'Smart Devices Gadgets Walkie-Talkies': 23    //www.lazada.com.ph/shop-walkie-talkie/\n",
       " Name: child_cat_url, dtype: object,\n",
       " 'Smart Devices Smartwatches & Accessories Smartwatches for Kids': Series([], Name: child_cat_url, dtype: object),\n",
       " 'Smart Devices Smartwatches & Accessories Smartwatches': 87    //www.lazada.com.ph/shop-smartwatches/\n",
       " Name: child_cat_url, dtype: object,\n",
       " 'Smart Devices Smartwatches & Accessories Screen Protectors': 28    //www.lazada.com.ph/shop-screen-protectors/\n",
       " Name: child_cat_url, dtype: object,\n",
       " 'Smart Devices Smartwatches & Accessories Straps': Series([], Name: child_cat_url, dtype: object)}"
      ]
     },
     "execution_count": 46,
     "metadata": {},
     "output_type": "execute_result"
    }
   ],
   "source": [
    "cat_url_dct"
   ]
  },
  {
   "cell_type": "code",
   "execution_count": 47,
   "id": "2ae21252-a620-4ebc-9529-2fda9fec427a",
   "metadata": {
    "execution": {
     "iopub.execute_input": "2023-11-24T10:44:49.275556Z",
     "iopub.status.busy": "2023-11-24T10:44:49.274833Z",
     "iopub.status.idle": "2023-11-24T10:44:49.283314Z",
     "shell.execute_reply": "2023-11-24T10:44:49.281921Z",
     "shell.execute_reply.started": "2023-11-24T10:44:49.275496Z"
    },
    "tags": []
   },
   "outputs": [],
   "source": [
    "retrieved_urls = {}"
   ]
  },
  {
   "cell_type": "code",
   "execution_count": 48,
   "id": "0392f6cb-8cd5-4fc4-b19b-4283d3ef35be",
   "metadata": {
    "execution": {
     "iopub.execute_input": "2023-11-24T10:44:50.367453Z",
     "iopub.status.busy": "2023-11-24T10:44:50.366725Z",
     "iopub.status.idle": "2023-11-24T10:44:50.378831Z",
     "shell.execute_reply": "2023-11-24T10:44:50.377281Z",
     "shell.execute_reply.started": "2023-11-24T10:44:50.367394Z"
    },
    "tags": []
   },
   "outputs": [],
   "source": [
    "for cat, url in cat_url_dct.items():\n",
    "    if '//www' in str(url):\n",
    "        retrieved_urls[cat] = url"
   ]
  },
  {
   "cell_type": "markdown",
   "id": "6aafc063-0778-48fd-9f41-5dbd6dfd130e",
   "metadata": {},
   "source": [
    "The URLs captured can further be reduced based on it's validity. Specifically, the values of the `cat_url_dct` is iterated through in order to identify only values containing '//www' as valid URL entries.\n",
    "\n",
    "Displayed below is a sample of the reduced dictionary `retrieved_urls` containing only key-value pairs containing valid URL strings."
   ]
  },
  {
   "cell_type": "code",
   "execution_count": 49,
   "id": "1a0a289e-89b8-4933-9094-0dddc3522503",
   "metadata": {
    "execution": {
     "iopub.execute_input": "2023-11-24T10:44:52.300672Z",
     "iopub.status.busy": "2023-11-24T10:44:52.299891Z",
     "iopub.status.idle": "2023-11-24T10:44:52.314257Z",
     "shell.execute_reply": "2023-11-24T10:44:52.312715Z",
     "shell.execute_reply.started": "2023-11-24T10:44:52.300611Z"
    },
    "tags": []
   },
   "outputs": [
    {
     "data": {
      "text/plain": [
       "{'Smart Devices Gadgets Walkie-Talkies': 23    //www.lazada.com.ph/shop-walkie-talkie/\n",
       " Name: child_cat_url, dtype: object,\n",
       " 'Smart Devices Smartwatches & Accessories Smartwatches': 87    //www.lazada.com.ph/shop-smartwatches/\n",
       " Name: child_cat_url, dtype: object,\n",
       " 'Smart Devices Smartwatches & Accessories Screen Protectors': 28    //www.lazada.com.ph/shop-screen-protectors/\n",
       " Name: child_cat_url, dtype: object}"
      ]
     },
     "execution_count": 49,
     "metadata": {},
     "output_type": "execute_result"
    }
   ],
   "source": [
    "retrieved_urls"
   ]
  },
  {
   "cell_type": "code",
   "execution_count": 50,
   "id": "474aa53e-7303-4d41-8ac1-699d24825fee",
   "metadata": {
    "execution": {
     "iopub.execute_input": "2023-11-24T10:44:53.431827Z",
     "iopub.status.busy": "2023-11-24T10:44:53.431111Z",
     "iopub.status.idle": "2023-11-24T10:44:53.442297Z",
     "shell.execute_reply": "2023-11-24T10:44:53.440479Z",
     "shell.execute_reply.started": "2023-11-24T10:44:53.431769Z"
    },
    "tags": []
   },
   "outputs": [],
   "source": [
    "cat_list = []\n",
    "url_list = []\n",
    "\n",
    "for cat, url in list(retrieved_urls.items()):\n",
    "    cat_list.append(cat)\n",
    "    url_list.append(url.astype(str).values[0])"
   ]
  },
  {
   "cell_type": "markdown",
   "id": "7be86e43-77be-4da7-8273-598ead384773",
   "metadata": {},
   "source": [
    "Lastly, the string of the values in the `retrieved_urls` dictionary is cleaned in order to include only the section containing the needed URL string and consolidated into the `url_list` list.\n",
    "\n",
    "Displayed below is a snapshot of the resulting `url_list`."
   ]
  },
  {
   "cell_type": "code",
   "execution_count": 51,
   "id": "a98973d5-4389-44df-91d4-53b7d578ce30",
   "metadata": {
    "execution": {
     "iopub.execute_input": "2023-11-24T10:44:55.105577Z",
     "iopub.status.busy": "2023-11-24T10:44:55.104857Z",
     "iopub.status.idle": "2023-11-24T10:44:55.116195Z",
     "shell.execute_reply": "2023-11-24T10:44:55.114406Z",
     "shell.execute_reply.started": "2023-11-24T10:44:55.105518Z"
    },
    "tags": []
   },
   "outputs": [
    {
     "data": {
      "text/plain": [
       "['//www.lazada.com.ph/shop-walkie-talkie/',\n",
       " '//www.lazada.com.ph/shop-smartwatches/',\n",
       " '//www.lazada.com.ph/shop-screen-protectors/']"
      ]
     },
     "execution_count": 51,
     "metadata": {},
     "output_type": "execute_result"
    }
   ],
   "source": [
    "url_list"
   ]
  },
  {
   "cell_type": "markdown",
   "id": "fcbe222d-b480-45af-8889-19fe7dcb4817",
   "metadata": {},
   "source": [
    "\n",
    "<div style='display: flex; justify-content: space-between; align-items: center; background-color: #2D0151; color: white; padding: 10px; width: 100%;'>\n",
    "    <h3>Webscrape the Remaining Listings per Lazada Category URL</h3>\n",
    "    <img src='lazada_logo.png' style='height: 50px; width: auto; margin-left: auto;'>\n",
    "</div>"
   ]
  },
  {
   "cell_type": "code",
   "execution_count": 52,
   "id": "fc23e4b5-1f31-468c-a3e1-3d80a01e8719",
   "metadata": {
    "execution": {
     "iopub.execute_input": "2023-11-24T10:44:56.809557Z",
     "iopub.status.busy": "2023-11-24T10:44:56.808826Z",
     "iopub.status.idle": "2023-11-24T10:44:56.848971Z",
     "shell.execute_reply": "2023-11-24T10:44:56.847190Z",
     "shell.execute_reply.started": "2023-11-24T10:44:56.809495Z"
    },
    "tags": []
   },
   "outputs": [],
   "source": [
    "file_path = 'urls.txt'\n",
    "with open(file_path, 'r') as file:\n",
    "    url_list = [line.strip() for line in file]"
   ]
  },
  {
   "cell_type": "markdown",
   "id": "d8374d64-b262-4366-a68e-da9bd4a61fb1",
   "metadata": {},
   "source": [
    "After running through all uncaptured categories in the `retrieve_uncaptured_category_urls` function, and the data is cleaned, a consolidated list containing all valid URL strings is generated that will be used to webscrape through the Lazada Category landing pages again, similar to the first run.\n",
    "\n",
    "Displayed below is a snapshot of the completed `url_list`."
   ]
  },
  {
   "cell_type": "code",
   "execution_count": 53,
   "id": "7409569b-16a4-43e4-b6da-7c65034207fd",
   "metadata": {
    "execution": {
     "iopub.execute_input": "2023-11-24T10:44:58.280063Z",
     "iopub.status.busy": "2023-11-24T10:44:58.279327Z",
     "iopub.status.idle": "2023-11-24T10:44:58.291972Z",
     "shell.execute_reply": "2023-11-24T10:44:58.290039Z",
     "shell.execute_reply.started": "2023-11-24T10:44:58.280004Z"
    },
    "tags": []
   },
   "outputs": [
    {
     "data": {
      "text/plain": [
       "['//www.lazada.com.ph/shop-all-in-one-desktops/',\n",
       " '//www.lazada.com.ph/shop-diy-desktops/',\n",
       " '//www.lazada.com.ph/shop-2in1-laptops/',\n",
       " '//www.lazada.com.ph/shop-action-camcorders/',\n",
       " '//www.lazada.com.ph/shop-camcorders/',\n",
       " '//www.lazada.com.ph/shop-ip-cameras/',\n",
       " '//www.lazada.com.ph/shop-cctv-cameras/',\n",
       " '//www.lazada.com.ph/shop-dummy-security-cameras/',\n",
       " '//www.lazada.com.ph/shop-projectors-2/',\n",
       " '//www.lazada.com.ph/shop-blu-ray-players/']"
      ]
     },
     "execution_count": 53,
     "metadata": {},
     "output_type": "execute_result"
    }
   ],
   "source": [
    "url_list[:10]"
   ]
  },
  {
   "cell_type": "code",
   "execution_count": 54,
   "id": "c04bf209-7e06-479a-91a3-2d34cdd253f9",
   "metadata": {
    "execution": {
     "iopub.execute_input": "2023-11-24T10:44:59.094923Z",
     "iopub.status.busy": "2023-11-24T10:44:59.094158Z",
     "iopub.status.idle": "2023-11-24T10:44:59.114273Z",
     "shell.execute_reply": "2023-11-24T10:44:59.112807Z",
     "shell.execute_reply.started": "2023-11-24T10:44:59.094857Z"
    },
    "tags": []
   },
   "outputs": [],
   "source": [
    "def webscrape_category_listings_with_url(start, end, headers):\n",
    "    \"\"\"Webscrape category listings based on the uncaptured listing URLs\n",
    "    \"\"\"\n",
    "    start_index = start\n",
    "    end_index = end\n",
    "    conso_df = pd.DataFrame()\n",
    "\n",
    "    for url in url_list[start_index:end_index]:\n",
    "        products_info = []\n",
    "        for page_number in list(range(1, 6)):\n",
    "            try:\n",
    "                lzd = requests.get(\n",
    "                    f'https:{url}?ajax=true&isFirstRequest=true&page='\n",
    "                    f'{page_number}',\n",
    "                    headers=headers).json()\n",
    "                time.sleep(10)\n",
    "\n",
    "            except JSONDecodeError as e:\n",
    "                print(f'JSONDecodeError: {e} - category {start}')\n",
    "                continue\n",
    "\n",
    "            for item in lzd.get('mods', {}).get('listItems', []):\n",
    "                info = {\n",
    "                    'name': item.get('name', ''),\n",
    "                    'item_id': item.get('itemId', ''),\n",
    "                    'category_id': item.get('categories', ''),\n",
    "                    'discount': item.get('discount', ''),\n",
    "                    'rating_score': item.get('ratingScore', ''),\n",
    "                    'original_price': item.get('originalPrice', ''),\n",
    "                    'price': item.get('price', ''),\n",
    "                    'item_sold_count': item.get('itemSoldCntShow', ''),\n",
    "                }\n",
    "                products_info.append(info)\n",
    "\n",
    "        df = pd.DataFrame(products_info)\n",
    "        conso_df = pd.concat([conso_df, df], ignore_index=True)\n",
    "        start += 1\n",
    "    \n",
    "    return conso_df"
   ]
  },
  {
   "cell_type": "code",
   "execution_count": 55,
   "id": "94ae7989-b221-4145-a0ee-f6c6cd7ce7a2",
   "metadata": {
    "execution": {
     "iopub.execute_input": "2023-11-24T10:45:00.357181Z",
     "iopub.status.busy": "2023-11-24T10:45:00.356372Z",
     "iopub.status.idle": "2023-11-24T10:45:00.371579Z",
     "shell.execute_reply": "2023-11-24T10:45:00.369898Z",
     "shell.execute_reply.started": "2023-11-24T10:45:00.357117Z"
    },
    "tags": []
   },
   "outputs": [],
   "source": [
    "# Initialize with the following sample parameters\n",
    "headers = {\n",
    "    'Accept': 'application/json, text/plain, */*',\n",
    "    'Accept-Encoding': 'gzip, deflate, br',\n",
    "    'Accept-Language': 'en-US,en;q=0.9',\n",
    "    'Cookie': ('__wpkreporterwid_=8e651684-b87d-492b-89d7-515195173d0b; lzd_cid'\n",
    "               '=c1add782-8880-4a9d-d2bb-4f998db23cac; t_uid=c1add782-8880-4a9d'\n",
    "               '-d2bb-4f998db23cac; t_fv=1700280938528; lwrid=AQGL4KQwN3O1ot2bK'\n",
    "               '%2Fk8X39uI9jH; hng=PH|en-PH|PHP|608; userLanguageML=en; cna=aij'\n",
    "               'fHTBRfhwCAZJYTCK8Xjwt; _bl_uid=sjlw3p763azjLddv7lz8891g7F3t; __'\n",
    "               'itrace_wid=4233bd3d-25b0-4ee9-1268-986e501061b0; _gcl_au=1.1.21'\n",
    "               '01806292.1700281477; _uetvid=6ba4d9c085ca11eebfadd5053eb33830; '\n",
    "               '_fbp=fb.2.1700281493102.857291082; sgcookie=E100FFrZs3pSnXrfa2Q'\n",
    "               '2e%2Bre9%2FsIir3s1C7cJ8gyw8N7OMRCBzqJVoFhm2eUXftZ4YyNV0uOqIh%2B'\n",
    "               'KIxoC92rlMcbcajjzryCMH2lYyYlCUC%2FIuQ%3D; pdp_sfo=1; lzd_sid=16'\n",
    "               '2bc36d95867700f181066e84f26ad3; _tb_token_=ee7eb7896fe78; xlly_'\n",
    "               's=1; tfstk=dHDyqBXhILpzir4W672U3K10An28eRL_-vaQxDm3Vz4lFT_ngq3F'\n",
    "               'A3LpwjzEoqP3Rvwu-Mumx7b7F06ETD4VdzaB2xPERVB7rvodLkmnJ3UB2Ii-2Je'\n",
    "               'H5FweC7nJwTY653qYOm2LKFT6OwnUKJ3wy0ARUS3PvT9uMFmToYKhjxUN3yaVKO'\n",
    "               'SY470eBrWHIxrrIPXNEwE09vMKawfUZoE45n-4GuITT; t_sid=QfKt0XcLkL6N'\n",
    "               'PaSZHMBHyFjdAQR8MoTS; utm_channel=NA; _m_h5_tk=efeee0d0dabde6b3'\n",
    "               'd1deb5673c936f64_1700807560686; _m_h5_tk_enc=bd577d72ad84342c60'\n",
    "               'bb3ad230a5c691; utm_origin=https://students.jojie.accesslab.aim'\n",
    "               '.edu/; epssw=1*NLVO11MN8CXhiIb4JzlRDO2GdzF4M5ITHRiwdVz4IkzbDOG5'\n",
    "               'ITpgZNzL53nFjf087VrsT-WGBxAWHGjMdwZUFKHA23CX3hlKyLAOFd__Y8O91hx'\n",
    "               'Mj1jtafW5uG55zcxMUxCOFG-w6NGAHQ_4nF-kbAgBAuAIZnvBJmYYWGjmOzflyO'\n",
    "               'vSjLy-eTEn5ga-xkDBe4QRxD2CbT64FtkTjN28dLHBeYB4dFD6AvHQcPcG7dH4x'\n",
    "               'Donxv9-yaC.; isg=BODgXtCCkUMiMi1_MIooerAuse6y6cSz2xX3mVrxrPuOVY'\n",
    "               'B_AvmUQ7Zj7PVVOnyL'),\n",
    "    'Referer': 'https://www.lazada.com.ph/',\n",
    "    'Sec-Ch-Ua': ('\"Google Chrome\";v=\"119\", \"Chromium\";v=\"119\", \"Not?A_Brand\";'\n",
    "                  'v=\"24\"'),\n",
    "    'Sec-Ch-Ua-Mobile': '?0',\n",
    "    'Sec-Ch-Ua-Platform': '\"Windows\"',\n",
    "    'Sec-Fetch-Dest': 'empty',\n",
    "    'Sec-Fetch-Mode': 'cors',\n",
    "    'Sec-Fetch-Site': 'same-origin',\n",
    "    'User-Agent': ('Mozilla/5.0 (Windows NT 10.0; Win64; x64) '\n",
    "                   'AppleWebKit/537.36 (KHTML, like Gecko) '\n",
    "                   'Chrome/119.0.0.0 Safari/537.36'),\n",
    "    'X-Csrf-Token': 'ee7eb7896fe78',\n",
    "    'X-Requested-With': 'XMLHttpRequest'\n",
    "}\n",
    "\n",
    "start_3 = 0\n",
    "end_3 = 1"
   ]
  },
  {
   "cell_type": "code",
   "execution_count": 56,
   "id": "9ee80725-3f3e-4d71-b954-ba6d1b81d268",
   "metadata": {
    "execution": {
     "iopub.execute_input": "2023-11-24T10:45:15.924076Z",
     "iopub.status.busy": "2023-11-24T10:45:15.923309Z",
     "iopub.status.idle": "2023-11-24T10:46:08.730874Z",
     "shell.execute_reply": "2023-11-24T10:46:08.728240Z",
     "shell.execute_reply.started": "2023-11-24T10:45:15.924015Z"
    },
    "tags": []
   },
   "outputs": [],
   "source": [
    "sample_webscrape_df_3 = webscrape_category_listings_with_url(\n",
    "    start_3, end_3, headers)"
   ]
  },
  {
   "cell_type": "markdown",
   "id": "9d145f6f-b201-4dab-b289-d7e25ae6f1a5",
   "metadata": {
    "execution": {
     "iopub.execute_input": "2023-11-24T09:58:39.115564Z",
     "iopub.status.busy": "2023-11-24T09:58:39.114798Z",
     "iopub.status.idle": "2023-11-24T09:58:39.137431Z",
     "shell.execute_reply": "2023-11-24T09:58:39.135486Z",
     "shell.execute_reply.started": "2023-11-24T09:58:39.115496Z"
    },
    "tags": []
   },
   "source": [
    "<div style='display: flex; justify-content: space-between; align-items: center; background-color: #2D0151; color: white; padding: 10px; width: 100%;'>\n",
    "    <h5>1. The endpoint is created by using the valid URL from the `url_list`, from which a request is created to arrive at the category path landing page.</h5>\n",
    "    <img src='lazada_logo.png' style='height: 30px; width: auto; margin-left: auto;'>\n",
    "</div>\n",
    "\n",
    "* Categories are pulled in small sets in order to manage potential errors resulting from Captcha requests from the Lazada website.\n",
    "* Cookies are updated every few pulls in order to manage potential errors resulting from Captcha requests from the Lazada website.\n",
    "    \n",
    "    <b>NOTE:</b> Headers are unique per user and must be updated in order to run the code successfully.\n",
    "\n",
    "<div style='display: flex; justify-content: space-between; align-items: center; background-color: #2D0151; color: white; padding: 10px; width: 100%;'>\n",
    "    <h5>2. The process will iterate through each of the listings in the first landing page and collect the request info such as the product name, category_id path, price and other details.</h5>\n",
    "    <img src='lazada_logo.png' style='height: 30px; width: auto; margin-left: auto;'>\n",
    "</div>\n",
    "<br>\n",
    "<div style='display: flex; justify-content: space-between; align-items: center; background-color: #2D0151; color: white; padding: 10px; width: 100%;'>\n",
    "    <h5>3. After retrieving all relevant info from the first page, the process iterates through the remaining of the first five pages of the requested category path and saved into a dataframe.</h5>\n",
    "    <img src='lazada_logo.png' style='height: 30px; width: auto; margin-left: auto;'>\n",
    "</div>\n",
    "<br>\n",
    "<div style='display: flex; justify-content: space-between; align-items: center; background-color: #2D0151; color: white; padding: 10px; width: 100%;'>\n",
    "    <h5>4. Lastly, the generated DataFrame is saved into a CSV file, for consolidation once all runs have been completed.</h5>\n",
    "    <img src='lazada_logo.png' style='height: 30px; width: auto; margin-left: auto;'>\n",
    "</div>\n",
    "\n",
    "* Method to save DataFrames into CSV files per pull in order to avoid loss of data in case of crash\n",
    "\n",
    "Displayed below are two sample snippets of the listings info collected, returning DataFrames from the function `webscrape_category_listings_with_url`."
   ]
  },
  {
   "cell_type": "code",
   "execution_count": 57,
   "id": "66336e9d-ec89-4e23-b7c0-459bd5f84ab8",
   "metadata": {
    "execution": {
     "iopub.execute_input": "2023-11-24T10:46:51.043199Z",
     "iopub.status.busy": "2023-11-24T10:46:51.042420Z",
     "iopub.status.idle": "2023-11-24T10:46:51.072133Z",
     "shell.execute_reply": "2023-11-24T10:46:51.070685Z",
     "shell.execute_reply.started": "2023-11-24T10:46:51.043134Z"
    },
    "tags": []
   },
   "outputs": [
    {
     "data": {
      "text/html": [
       "<div>\n",
       "<style scoped>\n",
       "    .dataframe tbody tr th:only-of-type {\n",
       "        vertical-align: middle;\n",
       "    }\n",
       "\n",
       "    .dataframe tbody tr th {\n",
       "        vertical-align: top;\n",
       "    }\n",
       "\n",
       "    .dataframe thead th {\n",
       "        text-align: right;\n",
       "    }\n",
       "</style>\n",
       "<table border=\"1\" class=\"dataframe\">\n",
       "  <thead>\n",
       "    <tr style=\"text-align: right;\">\n",
       "      <th></th>\n",
       "      <th>name</th>\n",
       "      <th>item_id</th>\n",
       "      <th>category_id</th>\n",
       "      <th>discount</th>\n",
       "      <th>rating_score</th>\n",
       "      <th>original_price</th>\n",
       "      <th>price</th>\n",
       "      <th>item_sold_count</th>\n",
       "    </tr>\n",
       "  </thead>\n",
       "  <tbody>\n",
       "    <tr>\n",
       "      <th>0</th>\n",
       "      <td>Acer All-in-one Desktop Computer All-in-one Ul...</td>\n",
       "      <td>4109470168</td>\n",
       "      <td>[5141, 5148, 11151]</td>\n",
       "      <td>35% Off</td>\n",
       "      <td>0</td>\n",
       "      <td>30999</td>\n",
       "      <td>20295</td>\n",
       "      <td></td>\n",
       "    </tr>\n",
       "    <tr>\n",
       "      <th>1</th>\n",
       "      <td>D-02L MULTIMEDIA COMPUTER DESKTOP / LAPTOP SPE...</td>\n",
       "      <td>1278396857</td>\n",
       "      <td>[5141, 5148, 11151]</td>\n",
       "      <td>13% Off</td>\n",
       "      <td>4.787234042553192</td>\n",
       "      <td>100</td>\n",
       "      <td>87.03</td>\n",
       "      <td>272 sold</td>\n",
       "    </tr>\n",
       "    <tr>\n",
       "      <th>2</th>\n",
       "      <td>POS Machine Complete set iMin D3-503 dual moni...</td>\n",
       "      <td>2506519851</td>\n",
       "      <td>[5141, 5148, 11151]</td>\n",
       "      <td></td>\n",
       "      <td>5.0</td>\n",
       "      <td></td>\n",
       "      <td>38000</td>\n",
       "      <td></td>\n",
       "    </tr>\n",
       "    <tr>\n",
       "      <th>3</th>\n",
       "      <td>Advance POS machine with cloud based software ...</td>\n",
       "      <td>2433610235</td>\n",
       "      <td>[5141, 5148, 11151]</td>\n",
       "      <td></td>\n",
       "      <td>0</td>\n",
       "      <td></td>\n",
       "      <td>22800</td>\n",
       "      <td></td>\n",
       "    </tr>\n",
       "    <tr>\n",
       "      <th>4</th>\n",
       "      <td>Dell Optiplex 3020 Micro Desktop Computer i3-4...</td>\n",
       "      <td>3280750189</td>\n",
       "      <td>[5141, 5148, 11151]</td>\n",
       "      <td>48% Off</td>\n",
       "      <td>5.0</td>\n",
       "      <td>9150</td>\n",
       "      <td>4800</td>\n",
       "      <td>16 sold</td>\n",
       "    </tr>\n",
       "  </tbody>\n",
       "</table>\n",
       "</div>"
      ],
      "text/plain": [
       "                                                name     item_id  \\\n",
       "0  Acer All-in-one Desktop Computer All-in-one Ul...  4109470168   \n",
       "1  D-02L MULTIMEDIA COMPUTER DESKTOP / LAPTOP SPE...  1278396857   \n",
       "2  POS Machine Complete set iMin D3-503 dual moni...  2506519851   \n",
       "3  Advance POS machine with cloud based software ...  2433610235   \n",
       "4  Dell Optiplex 3020 Micro Desktop Computer i3-4...  3280750189   \n",
       "\n",
       "           category_id discount       rating_score original_price  price  \\\n",
       "0  [5141, 5148, 11151]  35% Off                  0          30999  20295   \n",
       "1  [5141, 5148, 11151]  13% Off  4.787234042553192            100  87.03   \n",
       "2  [5141, 5148, 11151]                         5.0                 38000   \n",
       "3  [5141, 5148, 11151]                           0                 22800   \n",
       "4  [5141, 5148, 11151]  48% Off                5.0           9150   4800   \n",
       "\n",
       "  item_sold_count  \n",
       "0                  \n",
       "1        272 sold  \n",
       "2                  \n",
       "3                  \n",
       "4         16 sold  "
      ]
     },
     "execution_count": 57,
     "metadata": {},
     "output_type": "execute_result"
    }
   ],
   "source": [
    "sample_webscrape_df_3.head()"
   ]
  },
  {
   "cell_type": "markdown",
   "id": "02c23dd0-fee4-4c6d-9c14-68fef59d768d",
   "metadata": {},
   "source": [
    "After consolidation of all CSV files from the second run, the columns of the two DataFrames generated from the first and second run were compared prior to consolidation, represented below."
   ]
  },
  {
   "cell_type": "code",
   "execution_count": 58,
   "id": "e9d4db0a-e28d-4714-a49c-2511ef0f7b1d",
   "metadata": {
    "execution": {
     "iopub.execute_input": "2023-11-24T10:46:53.027010Z",
     "iopub.status.busy": "2023-11-24T10:46:53.026258Z",
     "iopub.status.idle": "2023-11-24T10:46:53.036814Z",
     "shell.execute_reply": "2023-11-24T10:46:53.034907Z",
     "shell.execute_reply.started": "2023-11-24T10:46:53.026951Z"
    },
    "tags": []
   },
   "outputs": [
    {
     "name": "stdout",
     "output_type": "stream",
     "text": [
      "First Run Columns: ['name', 'item_id', 'category_id', 'discount', 'rating_score', 'original_price', 'price', 'item_sold_count', 'temp_category_index', 'third_category_id']\n",
      "Second Run Columns: ['name', 'item_id', 'category_id', 'discount', 'rating_score', 'original_price', 'price', 'item_sold_count']\n"
     ]
    }
   ],
   "source": [
    "print(f'First Run Columns: {list(first_run_lzd_df.columns)}')\n",
    "print(f'Second Run Columns: {list(sample_webscrape_df_3.columns)}')"
   ]
  },
  {
   "cell_type": "code",
   "execution_count": 59,
   "id": "eff1430a-254a-4f6f-afcc-991a4fdc5377",
   "metadata": {
    "execution": {
     "iopub.execute_input": "2023-11-24T10:46:53.686515Z",
     "iopub.status.busy": "2023-11-24T10:46:53.685802Z",
     "iopub.status.idle": "2023-11-24T10:46:53.727023Z",
     "shell.execute_reply": "2023-11-24T10:46:53.725188Z",
     "shell.execute_reply.started": "2023-11-24T10:46:53.686455Z"
    },
    "tags": []
   },
   "outputs": [],
   "source": [
    "del first_run_lzd_df[first_run_lzd_df.columns[-1]]\n",
    "del first_run_lzd_df[first_run_lzd_df.columns[-1]]\n",
    "sample_final_lzd_df = pd.concat([first_run_lzd_df, sample_webscrape_df_3], ignore_index=True)"
   ]
  },
  {
   "cell_type": "code",
   "execution_count": 60,
   "id": "ff0b1f4a-fcdf-45d0-8b7b-5ea300723f31",
   "metadata": {
    "execution": {
     "iopub.execute_input": "2023-11-24T10:46:54.852988Z",
     "iopub.status.busy": "2023-11-24T10:46:54.852208Z",
     "iopub.status.idle": "2023-11-24T10:46:55.580890Z",
     "shell.execute_reply": "2023-11-24T10:46:55.579184Z",
     "shell.execute_reply.started": "2023-11-24T10:46:54.852927Z"
    },
    "tags": []
   },
   "outputs": [],
   "source": [
    "final_lzd_df = pd.read_csv('final_lzd_df.csv')\n",
    "del final_lzd_df[final_lzd_df.columns[0]]\n",
    "final_lzd_df.drop_duplicates(subset=['item_id'], inplace=True, ignore_index=True)"
   ]
  },
  {
   "cell_type": "markdown",
   "id": "b993f618-e3e5-4c06-b0c2-b4033b820910",
   "metadata": {},
   "source": [
    "The additional columns were dropped from the first run before concatenating with the second run DataFrame.\n",
    "\n",
    "Displayed below is a sample snippet from the consolidated DataFrame with all listing entries captured."
   ]
  },
  {
   "cell_type": "code",
   "execution_count": 61,
   "id": "18c5b671-3076-4aec-b257-89515172c472",
   "metadata": {
    "execution": {
     "iopub.execute_input": "2023-11-24T10:46:57.389411Z",
     "iopub.status.busy": "2023-11-24T10:46:57.388601Z",
     "iopub.status.idle": "2023-11-24T10:46:57.416768Z",
     "shell.execute_reply": "2023-11-24T10:46:57.415327Z",
     "shell.execute_reply.started": "2023-11-24T10:46:57.389345Z"
    },
    "tags": []
   },
   "outputs": [
    {
     "data": {
      "text/html": [
       "<div>\n",
       "<style scoped>\n",
       "    .dataframe tbody tr th:only-of-type {\n",
       "        vertical-align: middle;\n",
       "    }\n",
       "\n",
       "    .dataframe tbody tr th {\n",
       "        vertical-align: top;\n",
       "    }\n",
       "\n",
       "    .dataframe thead th {\n",
       "        text-align: right;\n",
       "    }\n",
       "</style>\n",
       "<table border=\"1\" class=\"dataframe\">\n",
       "  <thead>\n",
       "    <tr style=\"text-align: right;\">\n",
       "      <th></th>\n",
       "      <th>name</th>\n",
       "      <th>item_id</th>\n",
       "      <th>category_id</th>\n",
       "      <th>discount</th>\n",
       "      <th>rating_score</th>\n",
       "      <th>original_price</th>\n",
       "      <th>price</th>\n",
       "      <th>item_sold_count</th>\n",
       "    </tr>\n",
       "  </thead>\n",
       "  <tbody>\n",
       "    <tr>\n",
       "      <th>0</th>\n",
       "      <td>UCORP High Quality Pretty women Two-Sided Wear...</td>\n",
       "      <td>2.890959e+09</td>\n",
       "      <td>[13604, 7346, 7355]</td>\n",
       "      <td>70% Off</td>\n",
       "      <td>4.829545</td>\n",
       "      <td>199.0</td>\n",
       "      <td>59.0</td>\n",
       "      <td>4,555 sold</td>\n",
       "    </tr>\n",
       "    <tr>\n",
       "      <th>1</th>\n",
       "      <td>Unisex Short Brim Sun Fedora Hat with Solid Ba...</td>\n",
       "      <td>6.709312e+06</td>\n",
       "      <td>[13604, 7346, 7355]</td>\n",
       "      <td>69% Off</td>\n",
       "      <td>4.846154</td>\n",
       "      <td>600.0</td>\n",
       "      <td>188.0</td>\n",
       "      <td>187 sold</td>\n",
       "    </tr>\n",
       "    <tr>\n",
       "      <th>2</th>\n",
       "      <td>Summer Hat Plain Reversible double side Women'...</td>\n",
       "      <td>2.890137e+09</td>\n",
       "      <td>[13604, 7346, 7355]</td>\n",
       "      <td>76% Off</td>\n",
       "      <td>4.862369</td>\n",
       "      <td>199.0</td>\n",
       "      <td>47.0</td>\n",
       "      <td>4,899 sold</td>\n",
       "    </tr>\n",
       "    <tr>\n",
       "      <th>3</th>\n",
       "      <td>Summer Ladies Sun Hat Sun Protection UV Protec...</td>\n",
       "      <td>3.949315e+09</td>\n",
       "      <td>[13604, 7346, 7355]</td>\n",
       "      <td>68% Off</td>\n",
       "      <td>5.000000</td>\n",
       "      <td>265.0</td>\n",
       "      <td>85.0</td>\n",
       "      <td>5 sold</td>\n",
       "    </tr>\n",
       "    <tr>\n",
       "      <th>4</th>\n",
       "      <td>Korean Ins Hot Adjustable Nice quality NET Cap...</td>\n",
       "      <td>3.793653e+09</td>\n",
       "      <td>[13604, 7346, 7355]</td>\n",
       "      <td>NaN</td>\n",
       "      <td>4.929448</td>\n",
       "      <td>NaN</td>\n",
       "      <td>65.0</td>\n",
       "      <td>1,390 sold</td>\n",
       "    </tr>\n",
       "  </tbody>\n",
       "</table>\n",
       "</div>"
      ],
      "text/plain": [
       "                                                name       item_id  \\\n",
       "0  UCORP High Quality Pretty women Two-Sided Wear...  2.890959e+09   \n",
       "1  Unisex Short Brim Sun Fedora Hat with Solid Ba...  6.709312e+06   \n",
       "2  Summer Hat Plain Reversible double side Women'...  2.890137e+09   \n",
       "3  Summer Ladies Sun Hat Sun Protection UV Protec...  3.949315e+09   \n",
       "4  Korean Ins Hot Adjustable Nice quality NET Cap...  3.793653e+09   \n",
       "\n",
       "           category_id discount  rating_score  original_price  price  \\\n",
       "0  [13604, 7346, 7355]  70% Off      4.829545           199.0   59.0   \n",
       "1  [13604, 7346, 7355]  69% Off      4.846154           600.0  188.0   \n",
       "2  [13604, 7346, 7355]  76% Off      4.862369           199.0   47.0   \n",
       "3  [13604, 7346, 7355]  68% Off      5.000000           265.0   85.0   \n",
       "4  [13604, 7346, 7355]      NaN      4.929448             NaN   65.0   \n",
       "\n",
       "  item_sold_count  \n",
       "0      4,555 sold  \n",
       "1        187 sold  \n",
       "2      4,899 sold  \n",
       "3          5 sold  \n",
       "4      1,390 sold  "
      ]
     },
     "execution_count": 61,
     "metadata": {},
     "output_type": "execute_result"
    }
   ],
   "source": [
    "final_lzd_df.head()"
   ]
  },
  {
   "cell_type": "code",
   "execution_count": 62,
   "id": "84298999-c545-4bd5-b8e2-ffdb88a4716e",
   "metadata": {
    "execution": {
     "iopub.execute_input": "2023-11-24T10:46:58.536930Z",
     "iopub.status.busy": "2023-11-24T10:46:58.536147Z",
     "iopub.status.idle": "2023-11-24T10:46:58.546395Z",
     "shell.execute_reply": "2023-11-24T10:46:58.544490Z",
     "shell.execute_reply.started": "2023-11-24T10:46:58.536868Z"
    },
    "tags": []
   },
   "outputs": [
    {
     "name": "stdout",
     "output_type": "stream",
     "text": [
      "Total listings collected from both run cyles: 127753\n"
     ]
    }
   ],
   "source": [
    "print(f'Total listings collected from both run cyles: {len(final_lzd_df)}')"
   ]
  },
  {
   "cell_type": "markdown",
   "id": "7cc6d7ed-7687-48b3-84e6-a544a0a79543",
   "metadata": {},
   "source": [
    "\n",
    "\n",
    "<div style='display: flex; justify-content: space-between; align-items: center; background-color: #2D0151; color: white; padding: 10px; width: 100%;'>\n",
    "    <h1>DATA OVERVIEW</h1>\n",
    "    <img src='lazada_logo.png' style='height: 50px; width: auto; margin-left: auto;'>\n",
    "</div>"
   ]
  },
  {
   "cell_type": "markdown",
   "id": "c4209fe7-e4c9-4cff-8231-cb3d0e3575e6",
   "metadata": {},
   "source": [
    "The following tables, <b>Table 3</b> and <b>Table 4</b>, display the characteristics of the data collected so far, to be utilized for data exploration followed by creation of the information retrieval system.\n",
    "\n",
    "<center><h5><b>Table 3. Category Tree Data from Lazada API</b></h5></center>\n",
    "\n",
    "| <center>Features</center> | <center>Type</center> | <center>Description</center> |\n",
    "|:---------|:-----------|:--------------------------------------------------------------------------------------------|\n",
    "| children    | dictionary | Dictionary that contains the child categories and their details                          |\n",
    "| var         | boolean    | True or False statement referring to (Include reference here)                            |\n",
    "| name        | string     | Name of the category                                                                     |\n",
    "| leaf        | boolean    | True or False statement that determines whether the category is an endpoint sub-category |\n",
    "| category_id | integer    | ID of the category                                                                       |\n",
    "\n",
    "\n",
    "\n",
    "<center><h5><b>Table 4. Data extracted from webscraping the Lazada Website</b></h5></center>\n",
    "\n",
    "| <center>Features</center> | <center>Type</center> | <center>Description</center> |\n",
    "|:--------------------|:--------|:--------------------------------------------------------------------------|\n",
    "| name                | string  | Name of the product                                                       |\n",
    "| item_id             | integer | Unique item ID of the product                                             |\n",
    "| category_id         | list    | The category ID's of the categories and subcategories the item belongs in |\n",
    "| discount            | string  | The discount rate on the date of extraction                               |\n",
    "| rating_score        | float   | The rating of the product given by those who purchased the products       |\n",
    "| original_price      | float   | The original price of the product prior to discount                       |\n",
    "| price               | float   | The current price of the product including the discount                   |\n",
    "| item_sold_count     | string  | Number of lifetime sales in quantity                                      |"
   ]
  },
  {
   "cell_type": "markdown",
   "id": "0236dc60-7f93-4efd-b9f8-3a60db2ee86e",
   "metadata": {},
   "source": [
    "<div style='display: flex; justify-content: space-between; align-items: center; background-color: #2D0151; color: white; padding: 10px; width: 100%;'>\n",
    "    <h1>EXPLORATORY DATA ANALYSIS</h1>\n",
    "    <img src='lazada_logo.png' style='height: 50px; width: auto; margin-left: auto;'>\n",
    "</div>"
   ]
  },
  {
   "cell_type": "markdown",
   "id": "d8b736ea-9be0-468b-be65-569e9d55c700",
   "metadata": {},
   "source": [
    "\n",
    "<div style='display: flex; justify-content: space-between; align-items: center; background-color: #2D0151; color: white; padding: 10px; width: 100%;'>\n",
    "    <h2>Data Preprocessing</h2>\n",
    "    <img src='lazada_logo.png' style='height: 50px; width: auto; margin-left: auto;'>\n",
    "</div>"
   ]
  },
  {
   "cell_type": "code",
   "execution_count": 63,
   "id": "f121d213-1d7d-4e94-8ae8-ddbc39451833",
   "metadata": {
    "execution": {
     "iopub.execute_input": "2023-11-24T10:47:03.012459Z",
     "iopub.status.busy": "2023-11-24T10:47:03.011675Z",
     "iopub.status.idle": "2023-11-24T10:47:03.369571Z",
     "shell.execute_reply": "2023-11-24T10:47:03.367827Z",
     "shell.execute_reply.started": "2023-11-24T10:47:03.012361Z"
    },
    "tags": []
   },
   "outputs": [],
   "source": [
    "final_lzd_df = create_third_category_id_col(final_lzd_df, 'category_id', 'third_category_id')"
   ]
  },
  {
   "cell_type": "markdown",
   "id": "1db0e74b-6321-4ac7-a017-5827758dab33",
   "metadata": {},
   "source": [
    "The first step to preparing the data for analysis is to include the third category ID again, using the previously created `create_third_category_id_col` function.\n",
    "\n",
    "Displayed below is the snapshot of the DataFrame with the third category_id"
   ]
  },
  {
   "cell_type": "code",
   "execution_count": 64,
   "id": "d094dc03-5d70-4f63-8535-9d6805acf200",
   "metadata": {
    "execution": {
     "iopub.execute_input": "2023-11-24T10:47:04.427013Z",
     "iopub.status.busy": "2023-11-24T10:47:04.426279Z",
     "iopub.status.idle": "2023-11-24T10:47:04.452505Z",
     "shell.execute_reply": "2023-11-24T10:47:04.451362Z",
     "shell.execute_reply.started": "2023-11-24T10:47:04.426955Z"
    },
    "tags": []
   },
   "outputs": [
    {
     "data": {
      "text/html": [
       "<div>\n",
       "<style scoped>\n",
       "    .dataframe tbody tr th:only-of-type {\n",
       "        vertical-align: middle;\n",
       "    }\n",
       "\n",
       "    .dataframe tbody tr th {\n",
       "        vertical-align: top;\n",
       "    }\n",
       "\n",
       "    .dataframe thead th {\n",
       "        text-align: right;\n",
       "    }\n",
       "</style>\n",
       "<table border=\"1\" class=\"dataframe\">\n",
       "  <thead>\n",
       "    <tr style=\"text-align: right;\">\n",
       "      <th></th>\n",
       "      <th>name</th>\n",
       "      <th>item_id</th>\n",
       "      <th>category_id</th>\n",
       "      <th>discount</th>\n",
       "      <th>rating_score</th>\n",
       "      <th>original_price</th>\n",
       "      <th>price</th>\n",
       "      <th>item_sold_count</th>\n",
       "      <th>third_category_id</th>\n",
       "    </tr>\n",
       "  </thead>\n",
       "  <tbody>\n",
       "    <tr>\n",
       "      <th>0</th>\n",
       "      <td>UCORP High Quality Pretty women Two-Sided Wear...</td>\n",
       "      <td>2.890959e+09</td>\n",
       "      <td>[13604, 7346, 7355]</td>\n",
       "      <td>70% Off</td>\n",
       "      <td>4.829545</td>\n",
       "      <td>199.0</td>\n",
       "      <td>59.0</td>\n",
       "      <td>4,555 sold</td>\n",
       "      <td>7355</td>\n",
       "    </tr>\n",
       "    <tr>\n",
       "      <th>1</th>\n",
       "      <td>Unisex Short Brim Sun Fedora Hat with Solid Ba...</td>\n",
       "      <td>6.709312e+06</td>\n",
       "      <td>[13604, 7346, 7355]</td>\n",
       "      <td>69% Off</td>\n",
       "      <td>4.846154</td>\n",
       "      <td>600.0</td>\n",
       "      <td>188.0</td>\n",
       "      <td>187 sold</td>\n",
       "      <td>7355</td>\n",
       "    </tr>\n",
       "    <tr>\n",
       "      <th>2</th>\n",
       "      <td>Summer Hat Plain Reversible double side Women'...</td>\n",
       "      <td>2.890137e+09</td>\n",
       "      <td>[13604, 7346, 7355]</td>\n",
       "      <td>76% Off</td>\n",
       "      <td>4.862369</td>\n",
       "      <td>199.0</td>\n",
       "      <td>47.0</td>\n",
       "      <td>4,899 sold</td>\n",
       "      <td>7355</td>\n",
       "    </tr>\n",
       "    <tr>\n",
       "      <th>3</th>\n",
       "      <td>Summer Ladies Sun Hat Sun Protection UV Protec...</td>\n",
       "      <td>3.949315e+09</td>\n",
       "      <td>[13604, 7346, 7355]</td>\n",
       "      <td>68% Off</td>\n",
       "      <td>5.000000</td>\n",
       "      <td>265.0</td>\n",
       "      <td>85.0</td>\n",
       "      <td>5 sold</td>\n",
       "      <td>7355</td>\n",
       "    </tr>\n",
       "    <tr>\n",
       "      <th>4</th>\n",
       "      <td>Korean Ins Hot Adjustable Nice quality NET Cap...</td>\n",
       "      <td>3.793653e+09</td>\n",
       "      <td>[13604, 7346, 7355]</td>\n",
       "      <td>NaN</td>\n",
       "      <td>4.929448</td>\n",
       "      <td>NaN</td>\n",
       "      <td>65.0</td>\n",
       "      <td>1,390 sold</td>\n",
       "      <td>7355</td>\n",
       "    </tr>\n",
       "  </tbody>\n",
       "</table>\n",
       "</div>"
      ],
      "text/plain": [
       "                                                name       item_id  \\\n",
       "0  UCORP High Quality Pretty women Two-Sided Wear...  2.890959e+09   \n",
       "1  Unisex Short Brim Sun Fedora Hat with Solid Ba...  6.709312e+06   \n",
       "2  Summer Hat Plain Reversible double side Women'...  2.890137e+09   \n",
       "3  Summer Ladies Sun Hat Sun Protection UV Protec...  3.949315e+09   \n",
       "4  Korean Ins Hot Adjustable Nice quality NET Cap...  3.793653e+09   \n",
       "\n",
       "           category_id discount  rating_score  original_price  price  \\\n",
       "0  [13604, 7346, 7355]  70% Off      4.829545           199.0   59.0   \n",
       "1  [13604, 7346, 7355]  69% Off      4.846154           600.0  188.0   \n",
       "2  [13604, 7346, 7355]  76% Off      4.862369           199.0   47.0   \n",
       "3  [13604, 7346, 7355]  68% Off      5.000000           265.0   85.0   \n",
       "4  [13604, 7346, 7355]      NaN      4.929448             NaN   65.0   \n",
       "\n",
       "  item_sold_count  third_category_id  \n",
       "0      4,555 sold               7355  \n",
       "1        187 sold               7355  \n",
       "2      4,899 sold               7355  \n",
       "3          5 sold               7355  \n",
       "4      1,390 sold               7355  "
      ]
     },
     "execution_count": 64,
     "metadata": {},
     "output_type": "execute_result"
    }
   ],
   "source": [
    "final_lzd_df.head()"
   ]
  },
  {
   "cell_type": "code",
   "execution_count": 65,
   "id": "d26e05f8-ab44-4340-bbbe-e3e1f6d8530d",
   "metadata": {
    "execution": {
     "iopub.execute_input": "2023-11-24T10:47:05.592665Z",
     "iopub.status.busy": "2023-11-24T10:47:05.591888Z",
     "iopub.status.idle": "2023-11-24T10:47:05.604851Z",
     "shell.execute_reply": "2023-11-24T10:47:05.603159Z",
     "shell.execute_reply.started": "2023-11-24T10:47:05.592605Z"
    },
    "tags": []
   },
   "outputs": [],
   "source": [
    "def clean_item_sold_count(df):\n",
    "    \"\"\"Transform item_sold_count column into integers\n",
    "    \"\"\"\n",
    "    df['item_sold_count'] = df['item_sold_count'].str.replace('sold', '')\n",
    "    df['item_sold_count'] = df['item_sold_count'].str.replace(',', '')\n",
    "    df['item_sold_count'] = df['item_sold_count'].str.replace('+', '')\n",
    "    df['item_sold_count'] = df['item_sold_count'].str.replace('k', '000')\n",
    "    df['item_sold_count'] = pd.to_numeric(df['item_sold_count']).fillna(0).astype(int)\n",
    "    \n",
    "    return df"
   ]
  },
  {
   "cell_type": "code",
   "execution_count": 66,
   "id": "0b4e428c-0e17-4c76-953d-4a3ce670d286",
   "metadata": {
    "execution": {
     "iopub.execute_input": "2023-11-24T10:47:06.861740Z",
     "iopub.status.busy": "2023-11-24T10:47:06.860489Z",
     "iopub.status.idle": "2023-11-24T10:47:07.029473Z",
     "shell.execute_reply": "2023-11-24T10:47:07.028447Z",
     "shell.execute_reply.started": "2023-11-24T10:47:06.861675Z"
    },
    "tags": []
   },
   "outputs": [],
   "source": [
    "final_lzd_df = clean_item_sold_count(final_lzd_df)"
   ]
  },
  {
   "cell_type": "markdown",
   "id": "bc94e64a-2641-4d3f-bfac-c04b2bf9c31e",
   "metadata": {},
   "source": [
    "Next, the `clean_item_sold_count` function was created to transform the values under the `item_sold_count` into integers.\n",
    "\n",
    "Displayed below is the snapshot of the DataFrame with the revised `item_sold_count` column."
   ]
  },
  {
   "cell_type": "code",
   "execution_count": 67,
   "id": "14dde815-0dd4-4b73-a834-beee7b9c64fb",
   "metadata": {
    "execution": {
     "iopub.execute_input": "2023-11-24T10:47:09.276029Z",
     "iopub.status.busy": "2023-11-24T10:47:09.275291Z",
     "iopub.status.idle": "2023-11-24T10:47:09.304908Z",
     "shell.execute_reply": "2023-11-24T10:47:09.303512Z",
     "shell.execute_reply.started": "2023-11-24T10:47:09.275966Z"
    },
    "tags": []
   },
   "outputs": [
    {
     "data": {
      "text/html": [
       "<div>\n",
       "<style scoped>\n",
       "    .dataframe tbody tr th:only-of-type {\n",
       "        vertical-align: middle;\n",
       "    }\n",
       "\n",
       "    .dataframe tbody tr th {\n",
       "        vertical-align: top;\n",
       "    }\n",
       "\n",
       "    .dataframe thead th {\n",
       "        text-align: right;\n",
       "    }\n",
       "</style>\n",
       "<table border=\"1\" class=\"dataframe\">\n",
       "  <thead>\n",
       "    <tr style=\"text-align: right;\">\n",
       "      <th></th>\n",
       "      <th>name</th>\n",
       "      <th>item_id</th>\n",
       "      <th>category_id</th>\n",
       "      <th>discount</th>\n",
       "      <th>rating_score</th>\n",
       "      <th>original_price</th>\n",
       "      <th>price</th>\n",
       "      <th>item_sold_count</th>\n",
       "      <th>third_category_id</th>\n",
       "    </tr>\n",
       "  </thead>\n",
       "  <tbody>\n",
       "    <tr>\n",
       "      <th>0</th>\n",
       "      <td>UCORP High Quality Pretty women Two-Sided Wear...</td>\n",
       "      <td>2.890959e+09</td>\n",
       "      <td>[13604, 7346, 7355]</td>\n",
       "      <td>70% Off</td>\n",
       "      <td>4.829545</td>\n",
       "      <td>199.0</td>\n",
       "      <td>59.0</td>\n",
       "      <td>4555</td>\n",
       "      <td>7355</td>\n",
       "    </tr>\n",
       "    <tr>\n",
       "      <th>1</th>\n",
       "      <td>Unisex Short Brim Sun Fedora Hat with Solid Ba...</td>\n",
       "      <td>6.709312e+06</td>\n",
       "      <td>[13604, 7346, 7355]</td>\n",
       "      <td>69% Off</td>\n",
       "      <td>4.846154</td>\n",
       "      <td>600.0</td>\n",
       "      <td>188.0</td>\n",
       "      <td>187</td>\n",
       "      <td>7355</td>\n",
       "    </tr>\n",
       "    <tr>\n",
       "      <th>2</th>\n",
       "      <td>Summer Hat Plain Reversible double side Women'...</td>\n",
       "      <td>2.890137e+09</td>\n",
       "      <td>[13604, 7346, 7355]</td>\n",
       "      <td>76% Off</td>\n",
       "      <td>4.862369</td>\n",
       "      <td>199.0</td>\n",
       "      <td>47.0</td>\n",
       "      <td>4899</td>\n",
       "      <td>7355</td>\n",
       "    </tr>\n",
       "    <tr>\n",
       "      <th>3</th>\n",
       "      <td>Summer Ladies Sun Hat Sun Protection UV Protec...</td>\n",
       "      <td>3.949315e+09</td>\n",
       "      <td>[13604, 7346, 7355]</td>\n",
       "      <td>68% Off</td>\n",
       "      <td>5.000000</td>\n",
       "      <td>265.0</td>\n",
       "      <td>85.0</td>\n",
       "      <td>5</td>\n",
       "      <td>7355</td>\n",
       "    </tr>\n",
       "    <tr>\n",
       "      <th>4</th>\n",
       "      <td>Korean Ins Hot Adjustable Nice quality NET Cap...</td>\n",
       "      <td>3.793653e+09</td>\n",
       "      <td>[13604, 7346, 7355]</td>\n",
       "      <td>NaN</td>\n",
       "      <td>4.929448</td>\n",
       "      <td>NaN</td>\n",
       "      <td>65.0</td>\n",
       "      <td>1390</td>\n",
       "      <td>7355</td>\n",
       "    </tr>\n",
       "  </tbody>\n",
       "</table>\n",
       "</div>"
      ],
      "text/plain": [
       "                                                name       item_id  \\\n",
       "0  UCORP High Quality Pretty women Two-Sided Wear...  2.890959e+09   \n",
       "1  Unisex Short Brim Sun Fedora Hat with Solid Ba...  6.709312e+06   \n",
       "2  Summer Hat Plain Reversible double side Women'...  2.890137e+09   \n",
       "3  Summer Ladies Sun Hat Sun Protection UV Protec...  3.949315e+09   \n",
       "4  Korean Ins Hot Adjustable Nice quality NET Cap...  3.793653e+09   \n",
       "\n",
       "           category_id discount  rating_score  original_price  price  \\\n",
       "0  [13604, 7346, 7355]  70% Off      4.829545           199.0   59.0   \n",
       "1  [13604, 7346, 7355]  69% Off      4.846154           600.0  188.0   \n",
       "2  [13604, 7346, 7355]  76% Off      4.862369           199.0   47.0   \n",
       "3  [13604, 7346, 7355]  68% Off      5.000000           265.0   85.0   \n",
       "4  [13604, 7346, 7355]      NaN      4.929448             NaN   65.0   \n",
       "\n",
       "   item_sold_count  third_category_id  \n",
       "0             4555               7355  \n",
       "1              187               7355  \n",
       "2             4899               7355  \n",
       "3                5               7355  \n",
       "4             1390               7355  "
      ]
     },
     "execution_count": 67,
     "metadata": {},
     "output_type": "execute_result"
    }
   ],
   "source": [
    "final_lzd_df.head()"
   ]
  },
  {
   "cell_type": "code",
   "execution_count": 68,
   "id": "cb7d93fc-279a-4522-9137-c52278659532",
   "metadata": {
    "execution": {
     "iopub.execute_input": "2023-11-24T10:47:10.141864Z",
     "iopub.status.busy": "2023-11-24T10:47:10.140486Z",
     "iopub.status.idle": "2023-11-24T10:47:10.152793Z",
     "shell.execute_reply": "2023-11-24T10:47:10.150907Z",
     "shell.execute_reply.started": "2023-11-24T10:47:10.141783Z"
    },
    "tags": []
   },
   "outputs": [],
   "source": [
    "def compute_total_revenue(df):\n",
    "    \"\"\"Compute for total revenue and add as new column to DataFrame\n",
    "    \"\"\"\n",
    "    df['total_revenue'] = df['price'] * df['item_sold_count']\n",
    "    \n",
    "    return df"
   ]
  },
  {
   "cell_type": "code",
   "execution_count": 69,
   "id": "d65e07e2-70c1-4e47-abcc-67b689f35a17",
   "metadata": {
    "execution": {
     "iopub.execute_input": "2023-11-24T10:47:11.375445Z",
     "iopub.status.busy": "2023-11-24T10:47:11.374711Z",
     "iopub.status.idle": "2023-11-24T10:47:11.391358Z",
     "shell.execute_reply": "2023-11-24T10:47:11.389740Z",
     "shell.execute_reply.started": "2023-11-24T10:47:11.375384Z"
    },
    "tags": []
   },
   "outputs": [],
   "source": [
    "final_lzd_df = compute_total_revenue(final_lzd_df)"
   ]
  },
  {
   "cell_type": "markdown",
   "id": "e703af2f-92fe-4257-9281-1130e7821f72",
   "metadata": {},
   "source": [
    "Lastly, the `compute_total_revenue` function computes for the total revenue based on the `item_sold_count` and the `price` values.\n",
    "\n",
    "Displayed below is the snapshot of the DataFrame with the added `total_revenue`."
   ]
  },
  {
   "cell_type": "code",
   "execution_count": 70,
   "id": "728e0e91-3a8f-42e2-bf8d-d4403b32700b",
   "metadata": {
    "execution": {
     "iopub.execute_input": "2023-11-24T10:47:12.975447Z",
     "iopub.status.busy": "2023-11-24T10:47:12.974718Z",
     "iopub.status.idle": "2023-11-24T10:47:13.006200Z",
     "shell.execute_reply": "2023-11-24T10:47:13.004755Z",
     "shell.execute_reply.started": "2023-11-24T10:47:12.975388Z"
    },
    "tags": []
   },
   "outputs": [
    {
     "data": {
      "text/html": [
       "<div>\n",
       "<style scoped>\n",
       "    .dataframe tbody tr th:only-of-type {\n",
       "        vertical-align: middle;\n",
       "    }\n",
       "\n",
       "    .dataframe tbody tr th {\n",
       "        vertical-align: top;\n",
       "    }\n",
       "\n",
       "    .dataframe thead th {\n",
       "        text-align: right;\n",
       "    }\n",
       "</style>\n",
       "<table border=\"1\" class=\"dataframe\">\n",
       "  <thead>\n",
       "    <tr style=\"text-align: right;\">\n",
       "      <th></th>\n",
       "      <th>name</th>\n",
       "      <th>item_id</th>\n",
       "      <th>category_id</th>\n",
       "      <th>discount</th>\n",
       "      <th>rating_score</th>\n",
       "      <th>original_price</th>\n",
       "      <th>price</th>\n",
       "      <th>item_sold_count</th>\n",
       "      <th>third_category_id</th>\n",
       "      <th>total_revenue</th>\n",
       "    </tr>\n",
       "  </thead>\n",
       "  <tbody>\n",
       "    <tr>\n",
       "      <th>0</th>\n",
       "      <td>UCORP High Quality Pretty women Two-Sided Wear...</td>\n",
       "      <td>2.890959e+09</td>\n",
       "      <td>[13604, 7346, 7355]</td>\n",
       "      <td>70% Off</td>\n",
       "      <td>4.829545</td>\n",
       "      <td>199.0</td>\n",
       "      <td>59.0</td>\n",
       "      <td>4555</td>\n",
       "      <td>7355</td>\n",
       "      <td>268745.0</td>\n",
       "    </tr>\n",
       "    <tr>\n",
       "      <th>1</th>\n",
       "      <td>Unisex Short Brim Sun Fedora Hat with Solid Ba...</td>\n",
       "      <td>6.709312e+06</td>\n",
       "      <td>[13604, 7346, 7355]</td>\n",
       "      <td>69% Off</td>\n",
       "      <td>4.846154</td>\n",
       "      <td>600.0</td>\n",
       "      <td>188.0</td>\n",
       "      <td>187</td>\n",
       "      <td>7355</td>\n",
       "      <td>35156.0</td>\n",
       "    </tr>\n",
       "    <tr>\n",
       "      <th>2</th>\n",
       "      <td>Summer Hat Plain Reversible double side Women'...</td>\n",
       "      <td>2.890137e+09</td>\n",
       "      <td>[13604, 7346, 7355]</td>\n",
       "      <td>76% Off</td>\n",
       "      <td>4.862369</td>\n",
       "      <td>199.0</td>\n",
       "      <td>47.0</td>\n",
       "      <td>4899</td>\n",
       "      <td>7355</td>\n",
       "      <td>230253.0</td>\n",
       "    </tr>\n",
       "    <tr>\n",
       "      <th>3</th>\n",
       "      <td>Summer Ladies Sun Hat Sun Protection UV Protec...</td>\n",
       "      <td>3.949315e+09</td>\n",
       "      <td>[13604, 7346, 7355]</td>\n",
       "      <td>68% Off</td>\n",
       "      <td>5.000000</td>\n",
       "      <td>265.0</td>\n",
       "      <td>85.0</td>\n",
       "      <td>5</td>\n",
       "      <td>7355</td>\n",
       "      <td>425.0</td>\n",
       "    </tr>\n",
       "    <tr>\n",
       "      <th>4</th>\n",
       "      <td>Korean Ins Hot Adjustable Nice quality NET Cap...</td>\n",
       "      <td>3.793653e+09</td>\n",
       "      <td>[13604, 7346, 7355]</td>\n",
       "      <td>NaN</td>\n",
       "      <td>4.929448</td>\n",
       "      <td>NaN</td>\n",
       "      <td>65.0</td>\n",
       "      <td>1390</td>\n",
       "      <td>7355</td>\n",
       "      <td>90350.0</td>\n",
       "    </tr>\n",
       "  </tbody>\n",
       "</table>\n",
       "</div>"
      ],
      "text/plain": [
       "                                                name       item_id  \\\n",
       "0  UCORP High Quality Pretty women Two-Sided Wear...  2.890959e+09   \n",
       "1  Unisex Short Brim Sun Fedora Hat with Solid Ba...  6.709312e+06   \n",
       "2  Summer Hat Plain Reversible double side Women'...  2.890137e+09   \n",
       "3  Summer Ladies Sun Hat Sun Protection UV Protec...  3.949315e+09   \n",
       "4  Korean Ins Hot Adjustable Nice quality NET Cap...  3.793653e+09   \n",
       "\n",
       "           category_id discount  rating_score  original_price  price  \\\n",
       "0  [13604, 7346, 7355]  70% Off      4.829545           199.0   59.0   \n",
       "1  [13604, 7346, 7355]  69% Off      4.846154           600.0  188.0   \n",
       "2  [13604, 7346, 7355]  76% Off      4.862369           199.0   47.0   \n",
       "3  [13604, 7346, 7355]  68% Off      5.000000           265.0   85.0   \n",
       "4  [13604, 7346, 7355]      NaN      4.929448             NaN   65.0   \n",
       "\n",
       "   item_sold_count  third_category_id  total_revenue  \n",
       "0             4555               7355       268745.0  \n",
       "1              187               7355        35156.0  \n",
       "2             4899               7355       230253.0  \n",
       "3                5               7355          425.0  \n",
       "4             1390               7355        90350.0  "
      ]
     },
     "execution_count": 70,
     "metadata": {},
     "output_type": "execute_result"
    }
   ],
   "source": [
    "final_lzd_df.head()"
   ]
  },
  {
   "cell_type": "markdown",
   "id": "3df68e7e-b2aa-4acc-a34f-f0aab76e74bc",
   "metadata": {},
   "source": [
    "\n",
    "<div style='display: flex; justify-content: space-between; align-items: center; background-color: #2D0151; color: white; padding: 10px; width: 100%;'>\n",
    "    <h2>Data Analysis</h2>\n",
    "    <img src='lazada_logo.png' style='height: 50px; width: auto; margin-left: auto;'>\n",
    "</div>"
   ]
  },
  {
   "cell_type": "markdown",
   "id": "c2198ca5-816e-42e4-975c-d77a7a9fc69b",
   "metadata": {
    "execution": {
     "iopub.execute_input": "2023-11-24T08:04:55.652998Z",
     "iopub.status.busy": "2023-11-24T08:04:55.652260Z",
     "iopub.status.idle": "2023-11-24T08:04:55.663702Z",
     "shell.execute_reply": "2023-11-24T08:04:55.661652Z",
     "shell.execute_reply.started": "2023-11-24T08:04:55.652937Z"
    },
    "tags": []
   },
   "source": [
    "\n",
    "<div style='display: flex; justify-content: space-between; align-items: center; background-color: #2D0151; color: white; padding: 10px; width: 100%;'>\n",
    "    <h3>Count of Direct Sub-categories in Each Main Category</h3>\n",
    "    <img src='lazada_logo.png' style='height: 50px; width: auto; margin-left: auto;'>\n",
    "</div>"
   ]
  },
  {
   "cell_type": "markdown",
   "id": "a0c331fc-3150-430f-bfff-4d160cc55fad",
   "metadata": {},
   "source": [
    "First, the team explored the quantity of direct sub-categories per main or parent category in order to gain a better understanding on the number of paths that compose of the category tree, as illustrated in <b>Figure 2. Count of Direct Sub-categories in Each Main Category.</b>"
   ]
  },
  {
   "cell_type": "code",
   "execution_count": 124,
   "id": "82434b5f-2e3b-492d-b9ee-1743c96ca5ba",
   "metadata": {
    "execution": {
     "iopub.execute_input": "2023-11-24T13:41:37.786245Z",
     "iopub.status.busy": "2023-11-24T13:41:37.785460Z",
     "iopub.status.idle": "2023-11-24T13:41:38.263056Z",
     "shell.execute_reply": "2023-11-24T13:41:38.261056Z",
     "shell.execute_reply.started": "2023-11-24T13:41:37.786180Z"
    },
    "tags": []
   },
   "outputs": [
    {
     "data": {
      "image/png": "[encoded data removed]",
      "text/plain": [
       "<Figure size 1000x600 with 1 Axes>"
      ]
     },
     "metadata": {},
     "output_type": "display_data"
    }
   ],
   "source": [
    "categories = {}\n",
    "\n",
    "for item in all_cat_path_list:\n",
    "    split_items = item.split(' > ')\n",
    "    if len(split_items) >= 2:\n",
    "        category = split_items[0]\n",
    "        subcategory = split_items[1]\n",
    "        if category not in categories:\n",
    "            categories[category] = set()\n",
    "        categories[category].add(subcategory)\n",
    "\n",
    "unique_counts = {category: len(subcategories) for category, subcategories in categories.items()}\n",
    "sorted_categories = dict(sorted(unique_counts.items(), key=lambda x: x[1], reverse=True))\n",
    "\n",
    "plt.figure(figsize=(10, 6))\n",
    "plt.bar(sorted_categories.keys(), sorted_categories.values(), color='#2D0151')\n",
    "plt.xlabel('Main Categories')\n",
    "plt.ylabel('Direct Sub-category Count')\n",
    "plt.title('Figure 2. Count of Direct Sub-categories in Each Main Category')\n",
    "plt.xticks(rotation=45, ha='right')\n",
    "plt.tight_layout()\n",
    "\n",
    "plt.show()"
   ]
  },
  {
   "cell_type": "markdown",
   "id": "032948ff-5636-4e9c-be5b-59ec66128208",
   "metadata": {
    "execution": {
     "iopub.execute_input": "2023-11-24T08:11:10.490464Z",
     "iopub.status.busy": "2023-11-24T08:11:10.489705Z",
     "iopub.status.idle": "2023-11-24T08:11:10.501794Z",
     "shell.execute_reply": "2023-11-24T08:11:10.499646Z",
     "shell.execute_reply.started": "2023-11-24T08:11:10.490402Z"
    },
    "tags": []
   },
   "source": [
    "\n",
    "<div style='display: flex; justify-content: space-between; align-items: center; background-color: #2D0151; color: white; padding: 10px; width: 100%;'>\n",
    "    <h3>Boxplot Comparison between All Listings vs Top Listings of Category Path Listings</h3>\n",
    "    <img src='lazada_logo.png' style='height: 50px; width: auto; margin-left: auto;'>\n",
    "</div>"
   ]
  },
  {
   "cell_type": "markdown",
   "id": "15baa435-0f87-4984-afc4-f0fb840eb19e",
   "metadata": {},
   "source": [
    "Secondly, the team compared the boxplots generated when comparing the distribution of price points from all listings found within the first five pages versus the top listings based on quantity sold. The idea behind the exploration was to determine if variance of price points would reduce when focusing only on products with the highest item sold counts.\n",
    "\n",
    "Reviewing the results based on the top five category paths based on `item_sold_count`, variance and outliers are significantly reduced when limiting it to only the top listings based on `item_sold_count`. The results are displayed below in <b>Figure 3. Boxplot Comparisons of All vs Top Listings per Category Path.</b>"
   ]
  },
  {
   "cell_type": "code",
   "execution_count": 130,
   "id": "f91bada2-00cb-42a5-ad31-af88ec229d21",
   "metadata": {
    "execution": {
     "iopub.execute_input": "2023-11-24T14:18:26.705428Z",
     "iopub.status.busy": "2023-11-24T14:18:26.704687Z",
     "iopub.status.idle": "2023-11-24T14:18:27.636285Z",
     "shell.execute_reply": "2023-11-24T14:18:27.634927Z",
     "shell.execute_reply.started": "2023-11-24T14:18:26.705365Z"
    },
    "tags": []
   },
   "outputs": [
    {
     "data": {
      "image/png": "[encoded data removed]",
      "text/plain": [
       "<Figure size 1400x1700 with 5 Axes>"
      ]
     },
     "metadata": {},
     "output_type": "display_data"
    }
   ],
   "source": [
    "final_lzd_df['category_id_mod'] = final_lzd_df['category_id'].str.replace('[', '').str.replace(']', '').str.replace(',', ' >')\n",
    "top_categories = final_lzd_df.groupby('category_id_mod')['item_sold_count'].sum().nlargest(5).index.tolist()\n",
    "\n",
    "plt.figure(figsize=(14, 17))\n",
    "\n",
    "for idx, category_id_mod in enumerate(top_categories, start=1):\n",
    "    filtered_df = final_lzd_df[final_lzd_df['category_id_mod'] == category_id_mod]\n",
    "    \n",
    "    sorted_df = filtered_df.sort_values(by='item_sold_count', ascending=False)\n",
    "    \n",
    "    top_40_items = sorted_df.head(40)\n",
    "    \n",
    "    category_path = [k for k, v in cat_id_path_dict.items() if v == category_id_mod]\n",
    "    \n",
    "    plt.subplot(3, 2, idx)\n",
    "    \n",
    "    plt.boxplot(filtered_df['price'], positions=[1], widths=0.6, patch_artist=True, boxprops=dict(facecolor='#2D0151'))\n",
    "    plt.boxplot(top_40_items['price'], positions=[2], widths=0.6, patch_artist=True, boxprops=dict(facecolor='salmon'))\n",
    "    \n",
    "    plt.title(f'Category Path: {category_path}')\n",
    "    plt.xticks([1, 2], ['All Items', 'Top 40 Sold'])\n",
    "    plt.xlabel('Item Groups')\n",
    "    plt.ylabel('Price')\n",
    "    plt.grid(True)\n",
    "\n",
    "plt.suptitle('Figure 3. Boxplot Comparisons of All vs Top Listings per Category Path', fontsize=15, y=1)\n",
    "plt.tight_layout()\n",
    "plt.show()"
   ]
  },
  {
   "cell_type": "markdown",
   "id": "44c99732-5e73-443f-a01d-2a6d878899b5",
   "metadata": {},
   "source": [
    "<div style='display: flex; justify-content: space-between; align-items: center; background-color: #2D0151; color: white; padding: 10px; width: 100%;'>\n",
    "    <h1>DATA VECTORIZATION AND FEATURE ENGINEERING</h1>\n",
    "    <img src='lazada_logo.png' style='height: 50px; width: auto; margin-left: auto;'>\n",
    "</div>"
   ]
  },
  {
   "cell_type": "markdown",
   "id": "7adeb26f-4ef9-46e9-be35-8c50d7f967e3",
   "metadata": {},
   "source": [
    "<div style='display: flex; justify-content: space-between; align-items: center; background-color: #2D0151; color: white; padding: 10px; width: 100%;'>\n",
    "    <h2>BAG-OF-WORDS REPRESENTATION</h2>\n",
    "    <img src='lazada_logo.png' style='height: 50px; width: auto; margin-left: auto;'>\n",
    "</div>"
   ]
  },
  {
   "cell_type": "code",
   "execution_count": 73,
   "id": "ac28f5f6-b80d-489f-810b-468128d33862",
   "metadata": {
    "execution": {
     "iopub.execute_input": "2023-11-24T10:47:26.887939Z",
     "iopub.status.busy": "2023-11-24T10:47:26.887132Z",
     "iopub.status.idle": "2023-11-24T10:47:26.899108Z",
     "shell.execute_reply": "2023-11-24T10:47:26.897406Z",
     "shell.execute_reply.started": "2023-11-24T10:47:26.887873Z"
    },
    "tags": []
   },
   "outputs": [],
   "source": [
    "def bow_representation(df, search_query):\n",
    "    \"\"\"Create a bag-of-words representation\n",
    "    \"\"\"\n",
    "    lzd_product_names = df['name'].tolist()\n",
    "    count_vect = CountVectorizer(token_pattern=r\"\\S+\")\n",
    "    lzd_bow = count_vect.fit_transform(lzd_product_names)\n",
    "    search_bow = count_vect.transform(search_query)\n",
    "    \n",
    "    return lzd_bow, search_bow"
   ]
  },
  {
   "cell_type": "code",
   "execution_count": 101,
   "id": "18305aaf-2860-4ba4-8536-123dfddf0ecd",
   "metadata": {
    "execution": {
     "iopub.execute_input": "2023-11-24T10:58:32.286386Z",
     "iopub.status.busy": "2023-11-24T10:58:32.285650Z",
     "iopub.status.idle": "2023-11-24T10:58:33.927228Z",
     "shell.execute_reply": "2023-11-24T10:58:33.925653Z",
     "shell.execute_reply.started": "2023-11-24T10:58:32.286325Z"
    },
    "tags": []
   },
   "outputs": [],
   "source": [
    "search_query = ['Portable External SSD Storage Drive']\n",
    "\n",
    "lzd_bow, search_bow = bow_representation(final_lzd_df, search_query)"
   ]
  },
  {
   "cell_type": "code",
   "execution_count": 75,
   "id": "b75dc946-5654-41bc-8d4b-cfa06c5bdd0d",
   "metadata": {
    "execution": {
     "iopub.execute_input": "2023-11-24T10:47:44.890948Z",
     "iopub.status.busy": "2023-11-24T10:47:44.890162Z",
     "iopub.status.idle": "2023-11-24T10:47:44.903200Z",
     "shell.execute_reply": "2023-11-24T10:47:44.901675Z",
     "shell.execute_reply.started": "2023-11-24T10:47:44.890880Z"
    },
    "tags": []
   },
   "outputs": [],
   "source": [
    "def create_bow_df(df, bow_matrix):\n",
    "    \"\"\"Create a bag-of-words DataFrame\n",
    "    \"\"\"\n",
    "    lzd_product_names = df['name'].tolist()\n",
    "    count_vect = CountVectorizer(token_pattern=r\"\\S+\")\n",
    "    lzd_bow = count_vect.fit_transform(lzd_product_names)\n",
    "    feature_names = count_vect.get_feature_names_out()\n",
    "    bow_df = pd.DataFrame(bow_matrix.toarray(), columns=feature_names)\n",
    "    \n",
    "    return bow_df"
   ]
  },
  {
   "cell_type": "code",
   "execution_count": 76,
   "id": "6bb7cbe9-1896-48ce-9c35-0e0943a24cc6",
   "metadata": {
    "execution": {
     "iopub.execute_input": "2023-11-24T10:47:48.362269Z",
     "iopub.status.busy": "2023-11-24T10:47:48.361544Z",
     "iopub.status.idle": "2023-11-24T10:47:52.686063Z",
     "shell.execute_reply": "2023-11-24T10:47:52.684620Z",
     "shell.execute_reply.started": "2023-11-24T10:47:48.362207Z"
    },
    "tags": []
   },
   "outputs": [],
   "source": [
    "bow_df = create_bow_df(final_lzd_df, lzd_bow)"
   ]
  },
  {
   "cell_type": "code",
   "execution_count": 77,
   "id": "b495a70e-be65-4ffa-a14a-047250d457dd",
   "metadata": {
    "execution": {
     "iopub.execute_input": "2023-11-24T10:47:58.985812Z",
     "iopub.status.busy": "2023-11-24T10:47:58.985008Z",
     "iopub.status.idle": "2023-11-24T10:48:00.711256Z",
     "shell.execute_reply": "2023-11-24T10:48:00.709739Z",
     "shell.execute_reply.started": "2023-11-24T10:47:58.985745Z"
    },
    "tags": []
   },
   "outputs": [],
   "source": [
    "start = 20\n",
    "end = 22\n",
    "\n",
    "rows_to_process = final_lzd_df['name'].iloc[start:end]\n",
    "words_list = [word.lower() for row in rows_to_process for word in row.split()]\n",
    "\n",
    "filtered_bow_df = bow_df[bow_df.columns.intersection(words_list)]\n",
    "filtered_bow_df = filtered_bow_df[start:end]\n",
    "filtered_bow_df.index = list(rows_to_process)"
   ]
  },
  {
   "cell_type": "markdown",
   "id": "54d922e7-516d-49f9-822b-701b4a18f5b5",
   "metadata": {},
   "source": [
    "With the data collected, the text from the product names can be represented as vectors. Bag-of-words (BoW) representation can be used to achieve this. It works by representing the values of the actual text via its frequency, with each row representing an individual product name, and the columns as individual text.\n",
    "\n",
    "<br>\n",
    "<div style='display: flex; justify-content: space-between; align-items: center; background-color: #2D0151; color: white; padding: 10px; width: 100%;'>\n",
    "    <h4>1. Break Down the Product Name into Terms:</h4>\n",
    "    <img src='lazada_logo.png' style='height: 30px; width: auto; margin-left: auto;'>\n",
    "</div>\n",
    "\n",
    "* Consider the product name `Night Cap Simple Studio Summer Hat Bucket Hat For women`. The first step is to split this name into individual terms (words).\n",
    "\n",
    "<div style='display: flex; justify-content: space-between; align-items: center; background-color: #2D0151; color: white; padding: 10px; width: 100%;'>\n",
    "    <h4>2. Calculate Word Frequency:</h4>\n",
    "    <img src='lazada_logo.png' style='height: 30px; width: auto; margin-left: auto;'>\n",
    "</div>\n",
    "\n",
    "* For each term in this product name, count the frequency and assign to the matrix."
   ]
  },
  {
   "cell_type": "markdown",
   "id": "d8f128e4-f457-4d04-b1b7-127fa21e6bea",
   "metadata": {},
   "source": [
    "Displayed below is a sample snapshot of a section in the bag-of-words representation."
   ]
  },
  {
   "cell_type": "code",
   "execution_count": 78,
   "id": "0abd2bba-a080-49b6-b6b8-c70b0c82da43",
   "metadata": {
    "execution": {
     "iopub.execute_input": "2023-11-24T10:48:04.448942Z",
     "iopub.status.busy": "2023-11-24T10:48:04.448181Z",
     "iopub.status.idle": "2023-11-24T10:48:04.478755Z",
     "shell.execute_reply": "2023-11-24T10:48:04.477467Z",
     "shell.execute_reply.started": "2023-11-24T10:48:04.448881Z"
    },
    "tags": []
   },
   "outputs": [
    {
     "data": {
      "text/html": [
       "<div>\n",
       "<style scoped>\n",
       "    .dataframe tbody tr th:only-of-type {\n",
       "        vertical-align: middle;\n",
       "    }\n",
       "\n",
       "    .dataframe tbody tr th {\n",
       "        vertical-align: top;\n",
       "    }\n",
       "\n",
       "    .dataframe thead th {\n",
       "        text-align: right;\n",
       "    }\n",
       "</style>\n",
       "<table border=\"1\" class=\"dataframe\">\n",
       "  <thead>\n",
       "    <tr style=\"text-align: right;\">\n",
       "      <th></th>\n",
       "      <th>[uv-08]</th>\n",
       "      <th>baguio</th>\n",
       "      <th>beach</th>\n",
       "      <th>bucket</th>\n",
       "      <th>cap</th>\n",
       "      <th>city</th>\n",
       "      <th>farming</th>\n",
       "      <th>for</th>\n",
       "      <th>hat</th>\n",
       "      <th>la</th>\n",
       "      <th>...</th>\n",
       "      <th>presa</th>\n",
       "      <th>protection</th>\n",
       "      <th>shop</th>\n",
       "      <th>simple</th>\n",
       "      <th>stop</th>\n",
       "      <th>studio</th>\n",
       "      <th>summer</th>\n",
       "      <th>sun</th>\n",
       "      <th>women</th>\n",
       "      <th>|</th>\n",
       "    </tr>\n",
       "  </thead>\n",
       "  <tbody>\n",
       "    <tr>\n",
       "      <th>Night Cap Simple Studio Summer Hat Bucket Hat For women</th>\n",
       "      <td>0</td>\n",
       "      <td>0</td>\n",
       "      <td>0</td>\n",
       "      <td>1</td>\n",
       "      <td>1</td>\n",
       "      <td>0</td>\n",
       "      <td>0</td>\n",
       "      <td>1</td>\n",
       "      <td>2</td>\n",
       "      <td>0</td>\n",
       "      <td>...</td>\n",
       "      <td>0</td>\n",
       "      <td>0</td>\n",
       "      <td>0</td>\n",
       "      <td>1</td>\n",
       "      <td>0</td>\n",
       "      <td>1</td>\n",
       "      <td>1</td>\n",
       "      <td>0</td>\n",
       "      <td>1</td>\n",
       "      <td>0</td>\n",
       "    </tr>\n",
       "    <tr>\n",
       "      <th>[UV-08] LARGE Sun Protection Hat Beach Hat Farming Hat La Presa Baguio City | Stop Ober Shop</th>\n",
       "      <td>1</td>\n",
       "      <td>1</td>\n",
       "      <td>1</td>\n",
       "      <td>0</td>\n",
       "      <td>0</td>\n",
       "      <td>1</td>\n",
       "      <td>1</td>\n",
       "      <td>0</td>\n",
       "      <td>3</td>\n",
       "      <td>1</td>\n",
       "      <td>...</td>\n",
       "      <td>1</td>\n",
       "      <td>1</td>\n",
       "      <td>1</td>\n",
       "      <td>0</td>\n",
       "      <td>1</td>\n",
       "      <td>0</td>\n",
       "      <td>0</td>\n",
       "      <td>1</td>\n",
       "      <td>0</td>\n",
       "      <td>1</td>\n",
       "    </tr>\n",
       "  </tbody>\n",
       "</table>\n",
       "<p>2 rows × 23 columns</p>\n",
       "</div>"
      ],
      "text/plain": [
       "                                                    [uv-08]  baguio  beach  \\\n",
       "Night Cap Simple Studio Summer Hat Bucket Hat F...        0       0      0   \n",
       "[UV-08] LARGE Sun Protection Hat Beach Hat Farm...        1       1      1   \n",
       "\n",
       "                                                    bucket  cap  city  \\\n",
       "Night Cap Simple Studio Summer Hat Bucket Hat F...       1    1     0   \n",
       "[UV-08] LARGE Sun Protection Hat Beach Hat Farm...       0    0     1   \n",
       "\n",
       "                                                    farming  for  hat  la  \\\n",
       "Night Cap Simple Studio Summer Hat Bucket Hat F...        0    1    2   0   \n",
       "[UV-08] LARGE Sun Protection Hat Beach Hat Farm...        1    0    3   1   \n",
       "\n",
       "                                                    ...  presa  protection  \\\n",
       "Night Cap Simple Studio Summer Hat Bucket Hat F...  ...      0           0   \n",
       "[UV-08] LARGE Sun Protection Hat Beach Hat Farm...  ...      1           1   \n",
       "\n",
       "                                                    shop  simple  stop  \\\n",
       "Night Cap Simple Studio Summer Hat Bucket Hat F...     0       1     0   \n",
       "[UV-08] LARGE Sun Protection Hat Beach Hat Farm...     1       0     1   \n",
       "\n",
       "                                                    studio  summer  sun  \\\n",
       "Night Cap Simple Studio Summer Hat Bucket Hat F...       1       1    0   \n",
       "[UV-08] LARGE Sun Protection Hat Beach Hat Farm...       0       0    1   \n",
       "\n",
       "                                                    women  |  \n",
       "Night Cap Simple Studio Summer Hat Bucket Hat F...      1  0  \n",
       "[UV-08] LARGE Sun Protection Hat Beach Hat Farm...      0  1  \n",
       "\n",
       "[2 rows x 23 columns]"
      ]
     },
     "execution_count": 78,
     "metadata": {},
     "output_type": "execute_result"
    }
   ],
   "source": [
    "filtered_bow_df"
   ]
  },
  {
   "cell_type": "markdown",
   "id": "e2dc2be5-c722-4a4e-ae81-317328b9717d",
   "metadata": {},
   "source": [
    "<div style='display: flex; justify-content: space-between; align-items: center; background-color: #2D0151; color: white; padding: 10px; width: 100%;'>\n",
    "    <h2>BAG of WORDS WITH TF-IDF</h2>\n",
    "    <img src='lazada_logo.png' style='height: 50px; width: auto; margin-left: auto;'>\n",
    "</div>"
   ]
  },
  {
   "cell_type": "markdown",
   "id": "5d3ffdfe-0eaa-45e0-96b3-8c5868fc0b6b",
   "metadata": {},
   "source": [
    "TF-IDF works as an extension to the bag-of-words wherein it can take into account the importance of words relative to their occurence in the corpus. In turn, it can help to reduce the importance of common words.\n",
    "\n",
    "<br>\n",
    "<div style='display: flex; justify-content: space-between; align-items: center; background-color: #2D0151; color: white; padding: 10px; width: 100%;'>\n",
    "    <h4>1. Break Down the Product Name into Terms:</h4>\n",
    "    <img src='lazada_logo.png' style='height: 30px; width: auto; margin-left: auto;'>\n",
    "</div>\n",
    "\n",
    "* Consider the product name `Night Cap Simple Studio Summer Hat Bucket Hat For women`. The first step is to split this name into individual terms (words).\n",
    "\n",
    "<div style='display: flex; justify-content: space-between; align-items: center; background-color: #2D0151; color: white; padding: 10px; width: 100%;'>\n",
    "    <h4>2. Calculate Term Frequency (TF):</h4>\n",
    "    <img src='lazada_logo.png' style='height: 30px; width: auto; margin-left: auto;'>\n",
    "</div>\n",
    "\n",
    "* For each term in this product name, calculate the TF. The TF is the frequency of the term in this product name compared to the total number of terms in the name.\n",
    "* The formula for TF of a term `t` is: `TF(t) = (Number of times term t appears in a document) / (Total number of terms in the document)`.\n",
    "\n",
    "<div style='display: flex; justify-content: space-between; align-items: center; background-color: #2D0151; color: white; padding: 10px; width: 100%;'>\n",
    "    <h4>3. Calculate Inverse Document Frequency (IDF):</h4>\n",
    "    <img src='lazada_logo.png' style='height: 30px; width: auto; margin-left: auto;'>\n",
    "</div>\n",
    "\n",
    "* Next, calculate the IDF for each term. This involves determining how many product names contain the term across the entire dataset.\n",
    "* The formula for IDF of a term `t` is: `IDF(t) = log(N / nt)`, where `N` is the total number of documents (products) and `nt` is the number of documents containing term `t`.\n",
    "\n",
    "\n",
    "<div style='display: flex; justify-content: space-between; align-items: center; background-color: #2D0151; color: white; padding: 10px; width: 100%;'>\n",
    "    <h4>4. Compute TF-IDF Score:</h4>\n",
    "    <img src='lazada_logo.png' style='height: 30px; width: auto; margin-left: auto;'>\n",
    "</div>\n",
    "\n",
    "* For each term in the product name, calculate the TF-IDF score, which is the product of TF and IDF.\n",
    "* The formula for TF-IDF is: `TF-IDF(t) = TF(t) × IDF(t)`.\n",
    "\n",
    "By applying these steps to the `name` column, we can determine the relative importance of each term in the context of the entire dataset."
   ]
  },
  {
   "cell_type": "code",
   "execution_count": 79,
   "id": "2befeab8-edd5-46c2-a8cd-301d44f9b975",
   "metadata": {
    "execution": {
     "iopub.execute_input": "2023-11-24T10:51:07.726532Z",
     "iopub.status.busy": "2023-11-24T10:51:07.725611Z",
     "iopub.status.idle": "2023-11-24T10:51:07.736168Z",
     "shell.execute_reply": "2023-11-24T10:51:07.734671Z",
     "shell.execute_reply.started": "2023-11-24T10:51:07.726461Z"
    },
    "tags": []
   },
   "outputs": [],
   "source": [
    "def bow_tfidf_representation(df, search_query):\n",
    "    \"\"\"Create a TD-IDF representation\n",
    "    \"\"\"\n",
    "    lzd_product_names = df['name'].tolist()\n",
    "    tfidf_vect = TfidfVectorizer()\n",
    "    lzd_bow_tfidf = tfidf_vect.fit_transform(lzd_product_names)\n",
    "    search_bow_tfidf = tfidf_vect.transform(search_query)\n",
    "    \n",
    "    return lzd_bow_tfidf, search_bow_tfidf"
   ]
  },
  {
   "cell_type": "code",
   "execution_count": 102,
   "id": "d03f8c21-0a6e-45a3-8e9c-ae519a75f2f1",
   "metadata": {
    "execution": {
     "iopub.execute_input": "2023-11-24T10:59:03.248496Z",
     "iopub.status.busy": "2023-11-24T10:59:03.247712Z",
     "iopub.status.idle": "2023-11-24T10:59:04.947976Z",
     "shell.execute_reply": "2023-11-24T10:59:04.946378Z",
     "shell.execute_reply.started": "2023-11-24T10:59:03.248431Z"
    },
    "tags": []
   },
   "outputs": [],
   "source": [
    "search_query = ['Portable External SSD Storage Drive']\n",
    "\n",
    "lzd_bow_tfidf, search_bow_tfidf = bow_tfidf_representation(final_lzd_df, search_query)"
   ]
  },
  {
   "cell_type": "markdown",
   "id": "e93b7eb0-893d-48bf-8b50-f5d9c43e97e5",
   "metadata": {},
   "source": [
    "<div style='display: flex; justify-content: space-between; align-items: center; background-color: #2D0151; color: white; padding: 10px; width: 100%;'>\n",
    "    <h2>COSINE SIMILARITY</h2>\n",
    "    <img src='lazada_logo.png' style='height: 50px; width: auto; margin-left: auto;'>\n",
    "</div>"
   ]
  },
  {
   "cell_type": "code",
   "execution_count": 92,
   "id": "997793e5-fc4c-4f57-80ce-91fcbf81d0bd",
   "metadata": {
    "execution": {
     "iopub.execute_input": "2023-11-24T10:54:27.372389Z",
     "iopub.status.busy": "2023-11-24T10:54:27.371656Z",
     "iopub.status.idle": "2023-11-24T10:54:27.388007Z",
     "shell.execute_reply": "2023-11-24T10:54:27.385815Z",
     "shell.execute_reply.started": "2023-11-24T10:54:27.372328Z"
    },
    "tags": []
   },
   "outputs": [],
   "source": [
    "def most_similar_products_cos(df, number_of_searches, bow, search_bow):\n",
    "    \"\"\"Determine the most similar products based on cosine similarity\n",
    "    \"\"\"\n",
    "    cosine_similarities = cosine_similarity(search_bow, bow)\n",
    "    top_similar_indices = np.argsort(cosine_similarities[0])[::-1][:number_of_searches]\n",
    "\n",
    "    lzd_product_names = df['name'].tolist()\n",
    "    similar_list = []\n",
    "    for index in top_similar_indices:\n",
    "        similar_list.append({\n",
    "            'row': index,\n",
    "            'product_name': lzd_product_names[index],\n",
    "            'cosine_similarity': cosine_similarities[0, index],\n",
    "            'third_category_id': df['third_category_id'][index].astype(int),\n",
    "            'price': df['price'][index],\n",
    "            'item_sold_count': df['item_sold_count'][index],\n",
    "            'total_revenue':  df['total_revenue'][index]\n",
    "        })\n",
    "\n",
    "    top_result_df = pd.DataFrame(similar_list)\n",
    "    \n",
    "    return top_result_df"
   ]
  },
  {
   "cell_type": "code",
   "execution_count": 93,
   "id": "fe4b4df2-db77-458b-af27-cf27a7e20a07",
   "metadata": {
    "execution": {
     "iopub.execute_input": "2023-11-24T10:54:30.242537Z",
     "iopub.status.busy": "2023-11-24T10:54:30.241320Z",
     "iopub.status.idle": "2023-11-24T10:54:30.371279Z",
     "shell.execute_reply": "2023-11-24T10:54:30.369748Z",
     "shell.execute_reply.started": "2023-11-24T10:54:30.242474Z"
    },
    "tags": []
   },
   "outputs": [],
   "source": [
    "top_result_df = most_similar_products_cos(final_lzd_df, 40, lzd_bow, search_bow)"
   ]
  },
  {
   "cell_type": "markdown",
   "id": "303304d4-8ae9-453b-8bbf-3d381a54e2a3",
   "metadata": {
    "tags": []
   },
   "source": [
    "Each product description contains various words from a predetermined vocabulary, each product will be represented as a vector of word frequencies.\n",
    "\n",
    "Since we have 120,000+ unique products, the basic formula for cosine similarity remains the same.\n",
    " \n",
    "    \n",
    "<div style='display: flex; justify-content: space-between; align-items: center; background-color: #2D0151; color: white; padding: 10px; width: 100%;'>\n",
    "    <h4>1. Vector Representation:</h4>\n",
    "    <img src='lazada_logo.png' style='height: 30px; width: auto; margin-left: auto;'>\n",
    "</div>    \n",
    "    \n",
    "* Each product is represented as a vector. In a dataset with 128,000 products, this results in 128,000 vectors, denoted as $(\\vec{v}_1, \\vec{v}_2, ..., \\vec{v}_{128000})$.\n",
    "\n",
    "\n",
    "<div style='display: flex; justify-content: space-between; align-items: center; background-color: #2D0151; color: white; padding: 10px; width: 100%;'>\n",
    "    <h4>2. Cosine Similarity Formula:</h4>\n",
    "    <img src='lazada_logo.png' style='height: 30px; width: auto; margin-left: auto;'>\n",
    "</div>    \n",
    "\n",
    "* The cosine similarity between any two vectors $(\\vec{v}_i)$ and $(\\vec{v}_j)$ is given by:\n",
    "     $$ S_{\\text{cos}}(\\vec{v}_i, \\vec{v}_j) = \\frac{\\vec{v}_i \\cdot \\vec{v}_j}{||\\vec{v}_i|| \\times ||\\vec{v}_j||} $$\n",
    "* Here, $(\\vec{v}_i \\cdot \\vec{v}_j)$ is the dot product of the vectors, and $(||\\vec{v}_i||)$ and $(||\\vec{v}_j||)$ are the magnitudes (lengths) of these vectors.\n",
    "\n",
    "\n",
    "The closer the cosine similarity score is to 1, the more similar the products are considered in the context of their descriptions.\n",
    "\n",
    "Displayed below is a snapshot of the top similar results based on the cosine similarity measure."
   ]
  },
  {
   "cell_type": "code",
   "execution_count": 94,
   "id": "c53ae1c0-f166-4417-adfb-3e0a39510dd9",
   "metadata": {
    "execution": {
     "iopub.execute_input": "2023-11-24T10:54:32.303874Z",
     "iopub.status.busy": "2023-11-24T10:54:32.303144Z",
     "iopub.status.idle": "2023-11-24T10:54:32.330766Z",
     "shell.execute_reply": "2023-11-24T10:54:32.329386Z",
     "shell.execute_reply.started": "2023-11-24T10:54:32.303814Z"
    },
    "tags": []
   },
   "outputs": [
    {
     "data": {
      "text/html": [
       "<div>\n",
       "<style scoped>\n",
       "    .dataframe tbody tr th:only-of-type {\n",
       "        vertical-align: middle;\n",
       "    }\n",
       "\n",
       "    .dataframe tbody tr th {\n",
       "        vertical-align: top;\n",
       "    }\n",
       "\n",
       "    .dataframe thead th {\n",
       "        text-align: right;\n",
       "    }\n",
       "</style>\n",
       "<table border=\"1\" class=\"dataframe\">\n",
       "  <thead>\n",
       "    <tr style=\"text-align: right;\">\n",
       "      <th></th>\n",
       "      <th>row</th>\n",
       "      <th>product_name</th>\n",
       "      <th>cosine_similarity</th>\n",
       "      <th>third_category_id</th>\n",
       "      <th>price</th>\n",
       "      <th>item_sold_count</th>\n",
       "      <th>total_revenue</th>\n",
       "    </tr>\n",
       "  </thead>\n",
       "  <tbody>\n",
       "    <tr>\n",
       "      <th>0</th>\n",
       "      <td>38549</td>\n",
       "      <td>WD My Passport SSD External Portable Storage S...</td>\n",
       "      <td>0.674200</td>\n",
       "      <td>24947</td>\n",
       "      <td>4480.00</td>\n",
       "      <td>0</td>\n",
       "      <td>0.00</td>\n",
       "    </tr>\n",
       "    <tr>\n",
       "      <th>1</th>\n",
       "      <td>118320</td>\n",
       "      <td>External SSD 256GB 512GB 1T Portable SSD USB 3...</td>\n",
       "      <td>0.664364</td>\n",
       "      <td>22059</td>\n",
       "      <td>2203.20</td>\n",
       "      <td>0</td>\n",
       "      <td>0.00</td>\n",
       "    </tr>\n",
       "    <tr>\n",
       "      <th>2</th>\n",
       "      <td>38708</td>\n",
       "      <td>SAMSUNG SSD T7 Portable External Solid State D...</td>\n",
       "      <td>0.632456</td>\n",
       "      <td>24947</td>\n",
       "      <td>4995.00</td>\n",
       "      <td>0</td>\n",
       "      <td>0.00</td>\n",
       "    </tr>\n",
       "    <tr>\n",
       "      <th>3</th>\n",
       "      <td>77930</td>\n",
       "      <td>Portable SSD 2TB External Solid State Drive 50...</td>\n",
       "      <td>0.613941</td>\n",
       "      <td>5171</td>\n",
       "      <td>3105.00</td>\n",
       "      <td>0</td>\n",
       "      <td>0.00</td>\n",
       "    </tr>\n",
       "    <tr>\n",
       "      <th>4</th>\n",
       "      <td>38721</td>\n",
       "      <td>Toshiba Dynabook Boost X20 250GB USB 3.2 Porta...</td>\n",
       "      <td>0.597614</td>\n",
       "      <td>24947</td>\n",
       "      <td>2609.00</td>\n",
       "      <td>0</td>\n",
       "      <td>0.00</td>\n",
       "    </tr>\n",
       "    <tr>\n",
       "      <th>5</th>\n",
       "      <td>38702</td>\n",
       "      <td>Kingston 2TB XS2000 Portable SSD High-performa...</td>\n",
       "      <td>0.596285</td>\n",
       "      <td>24947</td>\n",
       "      <td>12428.00</td>\n",
       "      <td>12</td>\n",
       "      <td>149136.00</td>\n",
       "    </tr>\n",
       "    <tr>\n",
       "      <th>6</th>\n",
       "      <td>38602</td>\n",
       "      <td>Kingston 500GB XS2000 Portable SSD High-perfor...</td>\n",
       "      <td>0.596285</td>\n",
       "      <td>24947</td>\n",
       "      <td>4742.00</td>\n",
       "      <td>10</td>\n",
       "      <td>47420.00</td>\n",
       "    </tr>\n",
       "    <tr>\n",
       "      <th>7</th>\n",
       "      <td>38732</td>\n",
       "      <td>Samsung MU-PC 500GB T7 Portable Solid State Dr...</td>\n",
       "      <td>0.574989</td>\n",
       "      <td>24947</td>\n",
       "      <td>4838.00</td>\n",
       "      <td>11</td>\n",
       "      <td>53218.00</td>\n",
       "    </tr>\n",
       "    <tr>\n",
       "      <th>8</th>\n",
       "      <td>38577</td>\n",
       "      <td>Kingston XS2000 500GB/1TB/2TB High-performance...</td>\n",
       "      <td>0.565685</td>\n",
       "      <td>24947</td>\n",
       "      <td>4742.00</td>\n",
       "      <td>44</td>\n",
       "      <td>208648.00</td>\n",
       "    </tr>\n",
       "    <tr>\n",
       "      <th>9</th>\n",
       "      <td>38716</td>\n",
       "      <td>Kingston XS2000 500GB Portable SSD High-perfor...</td>\n",
       "      <td>0.565685</td>\n",
       "      <td>24947</td>\n",
       "      <td>3950.00</td>\n",
       "      <td>0</td>\n",
       "      <td>0.00</td>\n",
       "    </tr>\n",
       "    <tr>\n",
       "      <th>10</th>\n",
       "      <td>38733</td>\n",
       "      <td>Corsair EX100U 1TB Portable USB-C Storage Driv...</td>\n",
       "      <td>0.565685</td>\n",
       "      <td>24947</td>\n",
       "      <td>4779.00</td>\n",
       "      <td>0</td>\n",
       "      <td>0.00</td>\n",
       "    </tr>\n",
       "    <tr>\n",
       "      <th>11</th>\n",
       "      <td>38670</td>\n",
       "      <td>Samsung 1TB Portable SSD T7 Shield Rugged Port...</td>\n",
       "      <td>0.559017</td>\n",
       "      <td>24947</td>\n",
       "      <td>8509.00</td>\n",
       "      <td>0</td>\n",
       "      <td>0.00</td>\n",
       "    </tr>\n",
       "    <tr>\n",
       "      <th>12</th>\n",
       "      <td>94226</td>\n",
       "      <td>Toshiba Canvio Basics 1TB 2TB External Hard Dr...</td>\n",
       "      <td>0.545595</td>\n",
       "      <td>5180</td>\n",
       "      <td>1608.26</td>\n",
       "      <td>1162</td>\n",
       "      <td>1868798.12</td>\n",
       "    </tr>\n",
       "    <tr>\n",
       "      <th>13</th>\n",
       "      <td>38544</td>\n",
       "      <td>Western Digital 1TB WD External Hard Drive Sto...</td>\n",
       "      <td>0.542326</td>\n",
       "      <td>24947</td>\n",
       "      <td>1200.00</td>\n",
       "      <td>0</td>\n",
       "      <td>0.00</td>\n",
       "    </tr>\n",
       "    <tr>\n",
       "      <th>14</th>\n",
       "      <td>108684</td>\n",
       "      <td>Holds 2 SSD Hard Drive Case Fits Sandisk 1TB/2...</td>\n",
       "      <td>0.542326</td>\n",
       "      <td>5180</td>\n",
       "      <td>928.00</td>\n",
       "      <td>0</td>\n",
       "      <td>0.00</td>\n",
       "    </tr>\n",
       "  </tbody>\n",
       "</table>\n",
       "</div>"
      ],
      "text/plain": [
       "       row                                       product_name  \\\n",
       "0    38549  WD My Passport SSD External Portable Storage S...   \n",
       "1   118320  External SSD 256GB 512GB 1T Portable SSD USB 3...   \n",
       "2    38708  SAMSUNG SSD T7 Portable External Solid State D...   \n",
       "3    77930  Portable SSD 2TB External Solid State Drive 50...   \n",
       "4    38721  Toshiba Dynabook Boost X20 250GB USB 3.2 Porta...   \n",
       "5    38702  Kingston 2TB XS2000 Portable SSD High-performa...   \n",
       "6    38602  Kingston 500GB XS2000 Portable SSD High-perfor...   \n",
       "7    38732  Samsung MU-PC 500GB T7 Portable Solid State Dr...   \n",
       "8    38577  Kingston XS2000 500GB/1TB/2TB High-performance...   \n",
       "9    38716  Kingston XS2000 500GB Portable SSD High-perfor...   \n",
       "10   38733  Corsair EX100U 1TB Portable USB-C Storage Driv...   \n",
       "11   38670  Samsung 1TB Portable SSD T7 Shield Rugged Port...   \n",
       "12   94226  Toshiba Canvio Basics 1TB 2TB External Hard Dr...   \n",
       "13   38544  Western Digital 1TB WD External Hard Drive Sto...   \n",
       "14  108684  Holds 2 SSD Hard Drive Case Fits Sandisk 1TB/2...   \n",
       "\n",
       "    cosine_similarity  third_category_id     price  item_sold_count  \\\n",
       "0            0.674200              24947   4480.00                0   \n",
       "1            0.664364              22059   2203.20                0   \n",
       "2            0.632456              24947   4995.00                0   \n",
       "3            0.613941               5171   3105.00                0   \n",
       "4            0.597614              24947   2609.00                0   \n",
       "5            0.596285              24947  12428.00               12   \n",
       "6            0.596285              24947   4742.00               10   \n",
       "7            0.574989              24947   4838.00               11   \n",
       "8            0.565685              24947   4742.00               44   \n",
       "9            0.565685              24947   3950.00                0   \n",
       "10           0.565685              24947   4779.00                0   \n",
       "11           0.559017              24947   8509.00                0   \n",
       "12           0.545595               5180   1608.26             1162   \n",
       "13           0.542326              24947   1200.00                0   \n",
       "14           0.542326               5180    928.00                0   \n",
       "\n",
       "    total_revenue  \n",
       "0            0.00  \n",
       "1            0.00  \n",
       "2            0.00  \n",
       "3            0.00  \n",
       "4            0.00  \n",
       "5       149136.00  \n",
       "6        47420.00  \n",
       "7        53218.00  \n",
       "8       208648.00  \n",
       "9            0.00  \n",
       "10           0.00  \n",
       "11           0.00  \n",
       "12     1868798.12  \n",
       "13           0.00  \n",
       "14           0.00  "
      ]
     },
     "execution_count": 94,
     "metadata": {},
     "output_type": "execute_result"
    }
   ],
   "source": [
    "top_result_df.head(15)"
   ]
  },
  {
   "cell_type": "markdown",
   "id": "0a31237e-e0be-4918-b697-7e4c47d1ebc9",
   "metadata": {
    "execution": {
     "iopub.execute_input": "2023-11-22T14:14:06.129411Z",
     "iopub.status.busy": "2023-11-22T14:14:06.128647Z",
     "iopub.status.idle": "2023-11-22T14:14:06.141073Z",
     "shell.execute_reply": "2023-11-22T14:14:06.138635Z",
     "shell.execute_reply.started": "2023-11-22T14:14:06.129343Z"
    },
    "tags": []
   },
   "source": [
    "<div style='display: flex; justify-content: space-between; align-items: center; background-color: #2D0151; color: white; padding: 10px; width: 100%;'>\n",
    "    <h2>COSINE SIMILARITY WITH TF-IDF</h2>\n",
    "    <img src='lazada_logo.png' style='height: 50px; width: auto; margin-left: auto;'>\n",
    "</div>"
   ]
  },
  {
   "cell_type": "code",
   "execution_count": 95,
   "id": "00f9845f-02cc-4fdb-af4b-dd31d3c825d4",
   "metadata": {
    "execution": {
     "iopub.execute_input": "2023-11-24T10:54:35.667316Z",
     "iopub.status.busy": "2023-11-24T10:54:35.666582Z",
     "iopub.status.idle": "2023-11-24T10:54:35.735892Z",
     "shell.execute_reply": "2023-11-24T10:54:35.734820Z",
     "shell.execute_reply.started": "2023-11-24T10:54:35.667257Z"
    },
    "tags": []
   },
   "outputs": [],
   "source": [
    "top_result_tfidf_df = most_similar_products_cos(final_lzd_df, 40, lzd_bow_tfidf, search_bow_tfidf)"
   ]
  },
  {
   "cell_type": "markdown",
   "id": "eab60cf1-6873-44cb-a78b-7119bc71f68b",
   "metadata": {},
   "source": [
    "Cosine similarity can also be measured using Bag-of-Words vectorized using TF-IDF. The results will be compared in the performance evaluations to determine which vectorization method yields the best performance consistently.\n",
    "\n",
    "Displayed below is a snapshot of the top similar products based on cosine similarity measures that is TF-IDF vectorized."
   ]
  },
  {
   "cell_type": "code",
   "execution_count": 96,
   "id": "333c2229-b971-4890-96d6-395ed9a21ff1",
   "metadata": {
    "execution": {
     "iopub.execute_input": "2023-11-24T10:54:36.406810Z",
     "iopub.status.busy": "2023-11-24T10:54:36.406075Z",
     "iopub.status.idle": "2023-11-24T10:54:36.431918Z",
     "shell.execute_reply": "2023-11-24T10:54:36.430499Z",
     "shell.execute_reply.started": "2023-11-24T10:54:36.406752Z"
    },
    "tags": []
   },
   "outputs": [
    {
     "data": {
      "text/html": [
       "<div>\n",
       "<style scoped>\n",
       "    .dataframe tbody tr th:only-of-type {\n",
       "        vertical-align: middle;\n",
       "    }\n",
       "\n",
       "    .dataframe tbody tr th {\n",
       "        vertical-align: top;\n",
       "    }\n",
       "\n",
       "    .dataframe thead th {\n",
       "        text-align: right;\n",
       "    }\n",
       "</style>\n",
       "<table border=\"1\" class=\"dataframe\">\n",
       "  <thead>\n",
       "    <tr style=\"text-align: right;\">\n",
       "      <th></th>\n",
       "      <th>row</th>\n",
       "      <th>product_name</th>\n",
       "      <th>cosine_similarity</th>\n",
       "      <th>third_category_id</th>\n",
       "      <th>price</th>\n",
       "      <th>item_sold_count</th>\n",
       "      <th>total_revenue</th>\n",
       "    </tr>\n",
       "  </thead>\n",
       "  <tbody>\n",
       "    <tr>\n",
       "      <th>0</th>\n",
       "      <td>38732</td>\n",
       "      <td>Samsung MU-PC 500GB T7 Portable Solid State Dr...</td>\n",
       "      <td>0.642963</td>\n",
       "      <td>24947</td>\n",
       "      <td>4838.00</td>\n",
       "      <td>11</td>\n",
       "      <td>53218.00</td>\n",
       "    </tr>\n",
       "    <tr>\n",
       "      <th>1</th>\n",
       "      <td>118320</td>\n",
       "      <td>External SSD 256GB 512GB 1T Portable SSD USB 3...</td>\n",
       "      <td>0.632914</td>\n",
       "      <td>22059</td>\n",
       "      <td>2203.20</td>\n",
       "      <td>0</td>\n",
       "      <td>0.00</td>\n",
       "    </tr>\n",
       "    <tr>\n",
       "      <th>2</th>\n",
       "      <td>77930</td>\n",
       "      <td>Portable SSD 2TB External Solid State Drive 50...</td>\n",
       "      <td>0.572462</td>\n",
       "      <td>5171</td>\n",
       "      <td>3105.00</td>\n",
       "      <td>0</td>\n",
       "      <td>0.00</td>\n",
       "    </tr>\n",
       "    <tr>\n",
       "      <th>3</th>\n",
       "      <td>38654</td>\n",
       "      <td>Transcend ESD260C USB 3.2 Gen 2 Type-C Portabl...</td>\n",
       "      <td>0.561779</td>\n",
       "      <td>24947</td>\n",
       "      <td>3284.00</td>\n",
       "      <td>59</td>\n",
       "      <td>193756.00</td>\n",
       "    </tr>\n",
       "    <tr>\n",
       "      <th>4</th>\n",
       "      <td>38549</td>\n",
       "      <td>WD My Passport SSD External Portable Storage S...</td>\n",
       "      <td>0.558294</td>\n",
       "      <td>24947</td>\n",
       "      <td>4480.00</td>\n",
       "      <td>0</td>\n",
       "      <td>0.00</td>\n",
       "    </tr>\n",
       "    <tr>\n",
       "      <th>5</th>\n",
       "      <td>38708</td>\n",
       "      <td>SAMSUNG SSD T7 Portable External Solid State D...</td>\n",
       "      <td>0.556395</td>\n",
       "      <td>24947</td>\n",
       "      <td>4995.00</td>\n",
       "      <td>0</td>\n",
       "      <td>0.00</td>\n",
       "    </tr>\n",
       "    <tr>\n",
       "      <th>6</th>\n",
       "      <td>38544</td>\n",
       "      <td>Western Digital 1TB WD External Hard Drive Sto...</td>\n",
       "      <td>0.529245</td>\n",
       "      <td>24947</td>\n",
       "      <td>1200.00</td>\n",
       "      <td>0</td>\n",
       "      <td>0.00</td>\n",
       "    </tr>\n",
       "    <tr>\n",
       "      <th>7</th>\n",
       "      <td>94226</td>\n",
       "      <td>Toshiba Canvio Basics 1TB 2TB External Hard Dr...</td>\n",
       "      <td>0.512578</td>\n",
       "      <td>5180</td>\n",
       "      <td>1608.26</td>\n",
       "      <td>1162</td>\n",
       "      <td>1868798.12</td>\n",
       "    </tr>\n",
       "    <tr>\n",
       "      <th>8</th>\n",
       "      <td>38679</td>\n",
       "      <td>Samsung 4TB T7 Shield USB 3.2 Portable SSD  | ...</td>\n",
       "      <td>0.509955</td>\n",
       "      <td>24947</td>\n",
       "      <td>16998.00</td>\n",
       "      <td>26</td>\n",
       "      <td>441948.00</td>\n",
       "    </tr>\n",
       "    <tr>\n",
       "      <th>9</th>\n",
       "      <td>94106</td>\n",
       "      <td>Seagate Backup Plus Slim External Hard Drive E...</td>\n",
       "      <td>0.508420</td>\n",
       "      <td>5180</td>\n",
       "      <td>726.53</td>\n",
       "      <td>0</td>\n",
       "      <td>0.00</td>\n",
       "    </tr>\n",
       "    <tr>\n",
       "      <th>10</th>\n",
       "      <td>94243</td>\n",
       "      <td>Western Digital WD Elements 1TB/2TB Data Stora...</td>\n",
       "      <td>0.507321</td>\n",
       "      <td>5180</td>\n",
       "      <td>1647.06</td>\n",
       "      <td>3088</td>\n",
       "      <td>5086121.28</td>\n",
       "    </tr>\n",
       "    <tr>\n",
       "      <th>11</th>\n",
       "      <td>94146</td>\n",
       "      <td>New SSD 1TB Flash Hard Drive External HDD High...</td>\n",
       "      <td>0.505761</td>\n",
       "      <td>5180</td>\n",
       "      <td>678.03</td>\n",
       "      <td>5</td>\n",
       "      <td>3390.15</td>\n",
       "    </tr>\n",
       "    <tr>\n",
       "      <th>12</th>\n",
       "      <td>38657</td>\n",
       "      <td>EasyPC | Western Digital 500GB / 1TB External ...</td>\n",
       "      <td>0.504682</td>\n",
       "      <td>24947</td>\n",
       "      <td>4230.00</td>\n",
       "      <td>28</td>\n",
       "      <td>118440.00</td>\n",
       "    </tr>\n",
       "    <tr>\n",
       "      <th>13</th>\n",
       "      <td>94181</td>\n",
       "      <td>Western Digital External Hard Drive USB 3.0 HD...</td>\n",
       "      <td>0.502803</td>\n",
       "      <td>5180</td>\n",
       "      <td>1657.73</td>\n",
       "      <td>1140</td>\n",
       "      <td>1889812.20</td>\n",
       "    </tr>\n",
       "    <tr>\n",
       "      <th>14</th>\n",
       "      <td>94227</td>\n",
       "      <td>Toshiba External Hard Drive USB 3.0 HDD Canvio...</td>\n",
       "      <td>0.500180</td>\n",
       "      <td>5180</td>\n",
       "      <td>1598.56</td>\n",
       "      <td>1142</td>\n",
       "      <td>1825555.52</td>\n",
       "    </tr>\n",
       "  </tbody>\n",
       "</table>\n",
       "</div>"
      ],
      "text/plain": [
       "       row                                       product_name  \\\n",
       "0    38732  Samsung MU-PC 500GB T7 Portable Solid State Dr...   \n",
       "1   118320  External SSD 256GB 512GB 1T Portable SSD USB 3...   \n",
       "2    77930  Portable SSD 2TB External Solid State Drive 50...   \n",
       "3    38654  Transcend ESD260C USB 3.2 Gen 2 Type-C Portabl...   \n",
       "4    38549  WD My Passport SSD External Portable Storage S...   \n",
       "5    38708  SAMSUNG SSD T7 Portable External Solid State D...   \n",
       "6    38544  Western Digital 1TB WD External Hard Drive Sto...   \n",
       "7    94226  Toshiba Canvio Basics 1TB 2TB External Hard Dr...   \n",
       "8    38679  Samsung 4TB T7 Shield USB 3.2 Portable SSD  | ...   \n",
       "9    94106  Seagate Backup Plus Slim External Hard Drive E...   \n",
       "10   94243  Western Digital WD Elements 1TB/2TB Data Stora...   \n",
       "11   94146  New SSD 1TB Flash Hard Drive External HDD High...   \n",
       "12   38657  EasyPC | Western Digital 500GB / 1TB External ...   \n",
       "13   94181  Western Digital External Hard Drive USB 3.0 HD...   \n",
       "14   94227  Toshiba External Hard Drive USB 3.0 HDD Canvio...   \n",
       "\n",
       "    cosine_similarity  third_category_id     price  item_sold_count  \\\n",
       "0            0.642963              24947   4838.00               11   \n",
       "1            0.632914              22059   2203.20                0   \n",
       "2            0.572462               5171   3105.00                0   \n",
       "3            0.561779              24947   3284.00               59   \n",
       "4            0.558294              24947   4480.00                0   \n",
       "5            0.556395              24947   4995.00                0   \n",
       "6            0.529245              24947   1200.00                0   \n",
       "7            0.512578               5180   1608.26             1162   \n",
       "8            0.509955              24947  16998.00               26   \n",
       "9            0.508420               5180    726.53                0   \n",
       "10           0.507321               5180   1647.06             3088   \n",
       "11           0.505761               5180    678.03                5   \n",
       "12           0.504682              24947   4230.00               28   \n",
       "13           0.502803               5180   1657.73             1140   \n",
       "14           0.500180               5180   1598.56             1142   \n",
       "\n",
       "    total_revenue  \n",
       "0        53218.00  \n",
       "1            0.00  \n",
       "2            0.00  \n",
       "3       193756.00  \n",
       "4            0.00  \n",
       "5            0.00  \n",
       "6            0.00  \n",
       "7      1868798.12  \n",
       "8       441948.00  \n",
       "9            0.00  \n",
       "10     5086121.28  \n",
       "11        3390.15  \n",
       "12      118440.00  \n",
       "13     1889812.20  \n",
       "14     1825555.52  "
      ]
     },
     "execution_count": 96,
     "metadata": {},
     "output_type": "execute_result"
    }
   ],
   "source": [
    "top_result_tfidf_df.head(15)"
   ]
  },
  {
   "cell_type": "markdown",
   "id": "48733f05-525b-48cf-9a1b-5319db6a054f",
   "metadata": {},
   "source": [
    "<div style='display: flex; justify-content: space-between; align-items: center; background-color: #2D0151; color: white; padding: 10px; width: 100%;'>\n",
    "    <h1>PERFORMANCE EVALUATIONS</h1>\n",
    "    <img src='lazada_logo.png' style='height: 50px; width: auto; margin-left: auto;'>\n",
    "</div>"
   ]
  },
  {
   "cell_type": "code",
   "execution_count": 161,
   "id": "4e5ac16e-f7cc-4643-b3e3-dc80c7f9d6c1",
   "metadata": {
    "execution": {
     "iopub.execute_input": "2023-11-24T14:29:03.351081Z",
     "iopub.status.busy": "2023-11-24T14:29:03.350341Z",
     "iopub.status.idle": "2023-11-24T14:29:03.367039Z",
     "shell.execute_reply": "2023-11-24T14:29:03.365197Z",
     "shell.execute_reply.started": "2023-11-24T14:29:03.351021Z"
    },
    "tags": []
   },
   "outputs": [],
   "source": [
    "count_vector_df = pd.read_csv('count_vector.csv', usecols=['search_query', 'product_name', 'validation'])"
   ]
  },
  {
   "cell_type": "code",
   "execution_count": 176,
   "id": "514b3d3e-1d60-4572-aeb2-c0ff79f2e2e9",
   "metadata": {
    "execution": {
     "iopub.execute_input": "2023-11-24T14:48:46.783254Z",
     "iopub.status.busy": "2023-11-24T14:48:46.782483Z",
     "iopub.status.idle": "2023-11-24T14:48:46.805242Z",
     "shell.execute_reply": "2023-11-24T14:48:46.803577Z",
     "shell.execute_reply.started": "2023-11-24T14:48:46.783189Z"
    },
    "tags": []
   },
   "outputs": [
    {
     "data": {
      "text/html": [
       "<div>\n",
       "<style scoped>\n",
       "    .dataframe tbody tr th:only-of-type {\n",
       "        vertical-align: middle;\n",
       "    }\n",
       "\n",
       "    .dataframe tbody tr th {\n",
       "        vertical-align: top;\n",
       "    }\n",
       "\n",
       "    .dataframe thead th {\n",
       "        text-align: right;\n",
       "    }\n",
       "</style>\n",
       "<table border=\"1\" class=\"dataframe\">\n",
       "  <thead>\n",
       "    <tr style=\"text-align: right;\">\n",
       "      <th></th>\n",
       "      <th>search_query</th>\n",
       "      <th>product_name</th>\n",
       "      <th>validation</th>\n",
       "      <th>ranking</th>\n",
       "    </tr>\n",
       "  </thead>\n",
       "  <tbody>\n",
       "    <tr>\n",
       "      <th>0</th>\n",
       "      <td>Professional Cordless Drill Set with Accessories</td>\n",
       "      <td>DeWALT 88V cordless impact wrench with accesso...</td>\n",
       "      <td>1.0</td>\n",
       "      <td>1</td>\n",
       "    </tr>\n",
       "    <tr>\n",
       "      <th>1</th>\n",
       "      <td>Professional Cordless Drill Set with Accessories</td>\n",
       "      <td>NewSun DeWALT Cordless Drill Driver 28V 2-Spee...</td>\n",
       "      <td>1.0</td>\n",
       "      <td>2</td>\n",
       "    </tr>\n",
       "    <tr>\n",
       "      <th>2</th>\n",
       "      <td>Professional Cordless Drill Set with Accessories</td>\n",
       "      <td>2in1 Set Electric Impact Drill And Angle Grind...</td>\n",
       "      <td>1.0</td>\n",
       "      <td>3</td>\n",
       "    </tr>\n",
       "    <tr>\n",
       "      <th>3</th>\n",
       "      <td>Professional Cordless Drill Set with Accessories</td>\n",
       "      <td>【Professional Grinder Set  Drill】Mitsushi  2 i...</td>\n",
       "      <td>1.0</td>\n",
       "      <td>4</td>\n",
       "    </tr>\n",
       "    <tr>\n",
       "      <th>4</th>\n",
       "      <td>Professional Cordless Drill Set with Accessories</td>\n",
       "      <td>Cordless Impact Wrench With 1 Li-ion Batteries...</td>\n",
       "      <td>0.0</td>\n",
       "      <td>5</td>\n",
       "    </tr>\n",
       "  </tbody>\n",
       "</table>\n",
       "</div>"
      ],
      "text/plain": [
       "                                       search_query  \\\n",
       "0  Professional Cordless Drill Set with Accessories   \n",
       "1  Professional Cordless Drill Set with Accessories   \n",
       "2  Professional Cordless Drill Set with Accessories   \n",
       "3  Professional Cordless Drill Set with Accessories   \n",
       "4  Professional Cordless Drill Set with Accessories   \n",
       "\n",
       "                                        product_name  validation  ranking  \n",
       "0  DeWALT 88V cordless impact wrench with accesso...         1.0        1  \n",
       "1  NewSun DeWALT Cordless Drill Driver 28V 2-Spee...         1.0        2  \n",
       "2  2in1 Set Electric Impact Drill And Angle Grind...         1.0        3  \n",
       "3  【Professional Grinder Set  Drill】Mitsushi  2 i...         1.0        4  \n",
       "4  Cordless Impact Wrench With 1 Li-ion Batteries...         0.0        5  "
      ]
     },
     "execution_count": 176,
     "metadata": {},
     "output_type": "execute_result"
    }
   ],
   "source": [
    "count_vector_df.head()"
   ]
  },
  {
   "cell_type": "code",
   "execution_count": 163,
   "id": "c182e6fd-0fa8-41d7-b526-3c586ec0ce63",
   "metadata": {
    "execution": {
     "iopub.execute_input": "2023-11-24T14:30:06.274755Z",
     "iopub.status.busy": "2023-11-24T14:30:06.274019Z",
     "iopub.status.idle": "2023-11-24T14:30:06.284179Z",
     "shell.execute_reply": "2023-11-24T14:30:06.282384Z",
     "shell.execute_reply.started": "2023-11-24T14:30:06.274695Z"
    },
    "tags": []
   },
   "outputs": [
    {
     "name": "stdout",
     "output_type": "stream",
     "text": [
      "Total count vector manually labeled entries: 400\n"
     ]
    }
   ],
   "source": [
    "print(f'Total count vector manually labeled entries: {len(count_vector_df)}')"
   ]
  },
  {
   "cell_type": "code",
   "execution_count": 195,
   "id": "0dd34f70-99f0-4cee-8651-4988b1bf5f5c",
   "metadata": {
    "execution": {
     "iopub.execute_input": "2023-11-24T14:58:24.329313Z",
     "iopub.status.busy": "2023-11-24T14:58:24.328567Z",
     "iopub.status.idle": "2023-11-24T14:58:24.351307Z",
     "shell.execute_reply": "2023-11-24T14:58:24.349324Z",
     "shell.execute_reply.started": "2023-11-24T14:58:24.329250Z"
    },
    "tags": []
   },
   "outputs": [],
   "source": [
    "def graph_precision(df, vector_type, figure_num):\n",
    "    \"\"\"Calculate and graph the precision of the similarity results\n",
    "    \"\"\"\n",
    "    df['ranking'] = np.tile(np.arange(1, 41), 400 // 40 + 1)[:400]\n",
    "    df_ranks = df.groupby('ranking')['validation'].sum()\n",
    "    \n",
    "    df_ranks_cum = pd.DataFrame(df_ranks)\n",
    "    df_ranks_cum['cumulative_ranking'] = df_ranks_cum['validation'].cumsum()\n",
    "    df_ranks_cum.reset_index(inplace=True)\n",
    "    df_ranks_cum['ranking']=df_ranks_cum['ranking']*10\n",
    "    df_ranks_cum['precision'] = df_ranks_cum['cumulative_ranking']/df_ranks_cum['ranking']\n",
    "    df_ranks_cum = df_ranks_cum.drop(['validation', 'cumulative_ranking'], axis=1)\n",
    "    df_ranks_cum['count'] = df_ranks_cum['ranking'] / 10\n",
    "    df_ranks_cum.plot(x='count', y='precision',marker ='o', linestyle='-', color='#9400D3', figsize=(10, 6)) \n",
    "    \n",
    "    plt.xlabel('Count')\n",
    "    plt.ylabel('Precision')\n",
    "    plt.title(f'Figure {figure_num}. {vector_type} Precision')\n",
    "    plt.legend(['Precision'], loc='upper right')\n",
    "    plt.show()"
   ]
  },
  {
   "cell_type": "code",
   "execution_count": 196,
   "id": "b42a79ac-d100-4645-8773-18a3a63811d4",
   "metadata": {
    "execution": {
     "iopub.execute_input": "2023-11-24T14:58:24.840492Z",
     "iopub.status.busy": "2023-11-24T14:58:24.839740Z",
     "iopub.status.idle": "2023-11-24T14:58:25.068725Z",
     "shell.execute_reply": "2023-11-24T14:58:25.067191Z",
     "shell.execute_reply.started": "2023-11-24T14:58:24.840387Z"
    },
    "tags": []
   },
   "outputs": [
    {
     "data": {
      "image/png": "[encoded data removed]",
      "text/plain": [
       "<Figure size 1000x600 with 1 Axes>"
      ]
     },
     "metadata": {},
     "output_type": "display_data"
    }
   ],
   "source": [
    "graph_precision(count_vector_df, 'Count Vector', 4)"
   ]
  },
  {
   "cell_type": "code",
   "execution_count": 197,
   "id": "3c24edca-1e6a-4cfd-8e40-08516006398b",
   "metadata": {
    "execution": {
     "iopub.execute_input": "2023-11-24T14:58:26.738683Z",
     "iopub.status.busy": "2023-11-24T14:58:26.737955Z",
     "iopub.status.idle": "2023-11-24T14:58:26.758210Z",
     "shell.execute_reply": "2023-11-24T14:58:26.756268Z",
     "shell.execute_reply.started": "2023-11-24T14:58:26.738619Z"
    },
    "tags": []
   },
   "outputs": [],
   "source": [
    "tfidf_df = pd.read_csv('tfidf.csv', usecols=['search_query', 'product_name', 'validation'])"
   ]
  },
  {
   "cell_type": "code",
   "execution_count": 198,
   "id": "cc663c0f-f45d-4033-aef5-ae754363f5c4",
   "metadata": {
    "execution": {
     "iopub.execute_input": "2023-11-24T14:58:27.368377Z",
     "iopub.status.busy": "2023-11-24T14:58:27.367657Z",
     "iopub.status.idle": "2023-11-24T14:58:27.388092Z",
     "shell.execute_reply": "2023-11-24T14:58:27.386130Z",
     "shell.execute_reply.started": "2023-11-24T14:58:27.368313Z"
    },
    "tags": []
   },
   "outputs": [
    {
     "data": {
      "text/html": [
       "<div>\n",
       "<style scoped>\n",
       "    .dataframe tbody tr th:only-of-type {\n",
       "        vertical-align: middle;\n",
       "    }\n",
       "\n",
       "    .dataframe tbody tr th {\n",
       "        vertical-align: top;\n",
       "    }\n",
       "\n",
       "    .dataframe thead th {\n",
       "        text-align: right;\n",
       "    }\n",
       "</style>\n",
       "<table border=\"1\" class=\"dataframe\">\n",
       "  <thead>\n",
       "    <tr style=\"text-align: right;\">\n",
       "      <th></th>\n",
       "      <th>search_query</th>\n",
       "      <th>product_name</th>\n",
       "      <th>validation</th>\n",
       "    </tr>\n",
       "  </thead>\n",
       "  <tbody>\n",
       "    <tr>\n",
       "      <th>0</th>\n",
       "      <td>High-Performance Running Shoes with Cushioning</td>\n",
       "      <td>【Professional Grinder Set  Drill】Mitsushi  2 i...</td>\n",
       "      <td>1</td>\n",
       "    </tr>\n",
       "    <tr>\n",
       "      <th>1</th>\n",
       "      <td>High-Performance Running Shoes with Cushioning</td>\n",
       "      <td>MANSOON cordless rotary hammer drill brushless...</td>\n",
       "      <td>1</td>\n",
       "    </tr>\n",
       "    <tr>\n",
       "      <th>2</th>\n",
       "      <td>High-Performance Running Shoes with Cushioning</td>\n",
       "      <td>DeWALT 88V cordless impact wrench with accesso...</td>\n",
       "      <td>1</td>\n",
       "    </tr>\n",
       "    <tr>\n",
       "      <th>3</th>\n",
       "      <td>High-Performance Running Shoes with Cushioning</td>\n",
       "      <td>MAKlTA Cordless Electric Drill Cordless Hand D...</td>\n",
       "      <td>1</td>\n",
       "    </tr>\n",
       "    <tr>\n",
       "      <th>4</th>\n",
       "      <td>High-Performance Running Shoes with Cushioning</td>\n",
       "      <td>2 in 1 Grinder With Drill Set</td>\n",
       "      <td>1</td>\n",
       "    </tr>\n",
       "  </tbody>\n",
       "</table>\n",
       "</div>"
      ],
      "text/plain": [
       "                                     search_query  \\\n",
       "0  High-Performance Running Shoes with Cushioning   \n",
       "1  High-Performance Running Shoes with Cushioning   \n",
       "2  High-Performance Running Shoes with Cushioning   \n",
       "3  High-Performance Running Shoes with Cushioning   \n",
       "4  High-Performance Running Shoes with Cushioning   \n",
       "\n",
       "                                        product_name  validation  \n",
       "0  【Professional Grinder Set  Drill】Mitsushi  2 i...           1  \n",
       "1  MANSOON cordless rotary hammer drill brushless...           1  \n",
       "2  DeWALT 88V cordless impact wrench with accesso...           1  \n",
       "3  MAKlTA Cordless Electric Drill Cordless Hand D...           1  \n",
       "4                      2 in 1 Grinder With Drill Set           1  "
      ]
     },
     "execution_count": 198,
     "metadata": {},
     "output_type": "execute_result"
    }
   ],
   "source": [
    "tfidf_df.head()"
   ]
  },
  {
   "cell_type": "code",
   "execution_count": 199,
   "id": "0e2416d1-7c73-407d-b147-8bdf6e37c01f",
   "metadata": {
    "execution": {
     "iopub.execute_input": "2023-11-24T14:58:28.233109Z",
     "iopub.status.busy": "2023-11-24T14:58:28.232336Z",
     "iopub.status.idle": "2023-11-24T14:58:28.243236Z",
     "shell.execute_reply": "2023-11-24T14:58:28.240901Z",
     "shell.execute_reply.started": "2023-11-24T14:58:28.233046Z"
    },
    "tags": []
   },
   "outputs": [
    {
     "name": "stdout",
     "output_type": "stream",
     "text": [
      "Total count vector manually labeled entries: 400\n"
     ]
    }
   ],
   "source": [
    "print(f'Total count vector manually labeled entries: {len(tfidf_df)}')"
   ]
  },
  {
   "cell_type": "code",
   "execution_count": 200,
   "id": "55ae810e-e06b-4657-b9f1-9bb06d0024fb",
   "metadata": {
    "execution": {
     "iopub.execute_input": "2023-11-24T14:58:28.785806Z",
     "iopub.status.busy": "2023-11-24T14:58:28.785096Z",
     "iopub.status.idle": "2023-11-24T14:58:29.012660Z",
     "shell.execute_reply": "2023-11-24T14:58:29.010361Z",
     "shell.execute_reply.started": "2023-11-24T14:58:28.785743Z"
    },
    "tags": []
   },
   "outputs": [
    {
     "data": {
      "image/png": "[encoded data removed]",
      "text/plain": [
       "<Figure size 1000x600 with 1 Axes>"
      ]
     },
     "metadata": {},
     "output_type": "display_data"
    }
   ],
   "source": [
    "graph_precision(tfidf_df, 'TF-IDF', 5)"
   ]
  },
  {
   "cell_type": "markdown",
   "id": "f28a7c2f-a1dd-485c-81fe-fca813dfd65d",
   "metadata": {},
   "source": [
    "Given the results displayed in <b>Figure 4. Count Vector Precision</b> and <b>Figure 5. TF-IDF Precision</b>, we can conclude that the TF-IDF improves the performance of the similarity measure when computing using the precision metric. Additionally, when determing the recommended categories and suggested pricing can utilize, up to 40 similar listings can be used as it guarantees up to at least 84% precision score."
   ]
  },
  {
   "cell_type": "markdown",
   "id": "3202fb90-f8e4-4f11-8029-8355a2df5f18",
   "metadata": {},
   "source": [
    "<div style='display: flex; justify-content: space-between; align-items: center; background-color: #2D0151; color: white; padding: 10px; width: 100%;'>\n",
    "    <h1>RESULTS</h1>\n",
    "    <img src='lazada_logo.png' style='height: 50px; width: auto; margin-left: auto;'>\n",
    "</div>\n"
   ]
  },
  {
   "cell_type": "code",
   "execution_count": 119,
   "id": "d274e142-9520-467e-a8df-395ad10f258d",
   "metadata": {
    "execution": {
     "iopub.execute_input": "2023-11-24T13:28:26.356391Z",
     "iopub.status.busy": "2023-11-24T13:28:26.354890Z",
     "iopub.status.idle": "2023-11-24T13:28:26.367613Z",
     "shell.execute_reply": "2023-11-24T13:28:26.365510Z",
     "shell.execute_reply.started": "2023-11-24T13:28:26.356325Z"
    },
    "tags": []
   },
   "outputs": [],
   "source": [
    "def create_unique_categories_dict(dct):\n",
    "    \"\"\"Create a dictionary with the third level categories and IDs\n",
    "    \"\"\"\n",
    "    unique_cats = {}\n",
    "\n",
    "    for key, value in dct.items():\n",
    "        cats = key.split(' > ')\n",
    "        ids = value.split(' > ')\n",
    "        for cat, cat_id in zip(cats, ids):\n",
    "            unique_cats[cat] = cat_id\n",
    "\n",
    "    return unique_cats"
   ]
  },
  {
   "cell_type": "code",
   "execution_count": 120,
   "id": "35b36dcb-3ac4-441c-92ff-bffa368a9088",
   "metadata": {
    "execution": {
     "iopub.execute_input": "2023-11-24T13:28:26.943442Z",
     "iopub.status.busy": "2023-11-24T13:28:26.942718Z",
     "iopub.status.idle": "2023-11-24T13:28:26.970302Z",
     "shell.execute_reply": "2023-11-24T13:28:26.968437Z",
     "shell.execute_reply.started": "2023-11-24T13:28:26.943381Z"
    },
    "tags": []
   },
   "outputs": [],
   "source": [
    "third_level_cat_id_dict = create_unique_categories_dict(cat_id_path_dict)"
   ]
  },
  {
   "cell_type": "markdown",
   "id": "5a03b1a5-833e-4a1b-b2c5-ab8b5f056d98",
   "metadata": {},
   "source": [
    "Prior to consolidating printing the results, the `cat_id_path_dict` was further simplified down to the third level categories and corresponding IDs. The function `create_unique_categories_dict` creates the new dictionary `third_level_cat_id_dict`, as seen in the snapshot found below."
   ]
  },
  {
   "cell_type": "code",
   "execution_count": 114,
   "id": "5e174074-07c9-49cf-a325-adc7155e3aff",
   "metadata": {
    "execution": {
     "iopub.execute_input": "2023-11-24T13:18:40.916014Z",
     "iopub.status.busy": "2023-11-24T13:18:40.915278Z",
     "iopub.status.idle": "2023-11-24T13:18:40.930411Z",
     "shell.execute_reply": "2023-11-24T13:18:40.928453Z",
     "shell.execute_reply.started": "2023-11-24T13:18:40.915953Z"
    },
    "tags": []
   },
   "outputs": [
    {
     "data": {
      "text/plain": [
       "[('Sports & Outdoors', '4623'),\n",
       " ('Outdoor Recreation', '7654'),\n",
       " ('Camping & Hiking', '7657'),\n",
       " ('Tents', '7665'),\n",
       " ('Sleeping Gear', '10119'),\n",
       " ('Sleeping Bags', '5432'),\n",
       " ('Air Mattresses', '10120'),\n",
       " ('Sleeping Pads', '10121'),\n",
       " ('Pillows & Accessories', '10122'),\n",
       " ('Cots', '21730')]"
      ]
     },
     "execution_count": 114,
     "metadata": {},
     "output_type": "execute_result"
    }
   ],
   "source": [
    "list(third_level_cat_id_dict.items())[:10]"
   ]
  },
  {
   "cell_type": "code",
   "execution_count": 121,
   "id": "b7a39cdd-b129-47ec-b9b7-568c08c335fd",
   "metadata": {
    "execution": {
     "iopub.execute_input": "2023-11-24T13:32:28.044162Z",
     "iopub.status.busy": "2023-11-24T13:32:28.043424Z",
     "iopub.status.idle": "2023-11-24T13:32:28.059020Z",
     "shell.execute_reply": "2023-11-24T13:32:28.057624Z",
     "shell.execute_reply.started": "2023-11-24T13:32:28.044101Z"
    },
    "tags": []
   },
   "outputs": [],
   "source": [
    "def best_category_and_suggested_price(df, search_query):\n",
    "    \"\"\"Return the recommended category and price based on similarity and sold\n",
    "    \"\"\"\n",
    "    df = df[df['cosine_similarity'] != 0]\n",
    "    highest_sold_df = df.groupby(\n",
    "        'third_category_id')['item_sold_count'].sum().reset_index()\n",
    "    cat_with_highest_sold_df = highest_sold_df.sort_values(\n",
    "        by='item_sold_count', ascending=False, ignore_index=True)\n",
    "    cat_with_highest_sold_df.head(5)\n",
    "    best_cat_id = cat_with_highest_sold_df['third_category_id'][0]\n",
    "    \n",
    "    best_cat = [k for k, v in third_level_cat_id_dict.items() if v == str(best_cat_id)]\n",
    "\n",
    "    total_cat_revenue = df[df['third_category_id'] == best_cat_id]['total_revenue'].sum()\n",
    "    total_cat_sold = df[df['third_category_id'] == best_cat_id]['item_sold_count'].sum()\n",
    "    suggested_price = total_cat_revenue / total_cat_sold\n",
    "    \n",
    "    return print(f'Product to Categorize: {search_query}\\nBest Category: {best_cat}\\nSuggested price: ₱{suggested_price}\\n')"
   ]
  },
  {
   "cell_type": "markdown",
   "id": "91c24023-3691-4484-80d1-dd7546006948",
   "metadata": {},
   "source": [
    "Finally, the function `best_category_and_suggested_price` gives us the recommended best category and price choice. The recommendation was computed by grouping the top similarity results based on category. Categories that garnered the highest item sold count would be weighted the highest and be recommended.\n",
    "\n",
    "Afterwards, the suggested pricing was based on the average weight price for listings that were both represented in the top similarity results, and who fell under the recommended best category choice.\n",
    "\n",
    "The results of the search query `Portable External SSD Storage Drive` is presented below."
   ]
  },
  {
   "cell_type": "code",
   "execution_count": 122,
   "id": "d03ae6c4-d582-4d29-a4bd-083a87c2ffd1",
   "metadata": {
    "execution": {
     "iopub.execute_input": "2023-11-24T13:32:42.457872Z",
     "iopub.status.busy": "2023-11-24T13:32:42.457140Z",
     "iopub.status.idle": "2023-11-24T13:32:42.481888Z",
     "shell.execute_reply": "2023-11-24T13:32:42.480518Z",
     "shell.execute_reply.started": "2023-11-24T13:32:42.457810Z"
    },
    "tags": []
   },
   "outputs": [
    {
     "name": "stdout",
     "output_type": "stream",
     "text": [
      "Product to Categorize: ['Portable External SSD Storage Drive']\n",
      "Best Category: ['External hard Drives']\n",
      "Suggested price: ₱1690.9514084334396\n",
      "\n"
     ]
    }
   ],
   "source": [
    "search_query = ['Portable External SSD Storage Drive']\n",
    "\n",
    "best_category_and_suggested_price(top_result_tfidf_df, search_query)"
   ]
  },
  {
   "cell_type": "markdown",
   "id": "04b3efc1-cba2-43b3-8efa-89d433e90372",
   "metadata": {},
   "source": [
    "<div style='display: flex; justify-content: space-between; align-items: center; background-color: #2D0151; color: white; padding: 10px; width: 100%;'>\n",
    "    <h1>CONCLUSION & INSIGHTS</h1>\n",
    "    <img src='lazada_logo.png' style='height: 50px; width: auto; margin-left: auto;'>\n",
    "</div>\n"
   ]
  },
  {
   "cell_type": "markdown",
   "id": "8029e8e9-7cf0-47b6-b6c7-342c006a19c4",
   "metadata": {},
   "source": [
    "\n",
    "Our information retrieval model for LAZADA E-Commerce significantly **improved product categorization accuracy**. We moved from a Bag of Words to a **TF-IDF approach**, **increasing accuracy from 46% to over 60%**. Expanding and refining our dataset led to an **65% accuracy in cosine similarity**. We used **NMF for better accuracy** and **limited our scope to three category layers for efficiency**. This resulted in **more precise and user-relevant product recommendations**."
   ]
  },
  {
   "cell_type": "markdown",
   "id": "6dac7a32-ce18-494a-a044-540c78391e1a",
   "metadata": {},
   "source": [
    "<div style='display: flex; justify-content: space-between; align-items: center; background-color: #2D0151; color: white; padding: 10px; width: 100%;'>\n",
    "    <h1>FURTHER RECOMMENDATIONS</h1>\n",
    "    <img src='lazada_logo.png' style='height: 50px; width: auto; margin-left: auto;'>\n",
    "</div>\n"
   ]
  },
  {
   "cell_type": "markdown",
   "id": "191b2e5e-7f81-4344-b591-4a9c5cbfef07",
   "metadata": {},
   "source": [
    "These are the group's proposed recommendations to improve the Information Retrieval system they did.\n",
    "\n",
    "1. **Detailed Product Categorization:** Expanding to all category layers allows for more precise product placement. Sellers can target their products more accurately, increasing visibility to the right customer segments. This specificity can lead to higher sales conversions and customer satisfaction.\n",
    "\n",
    "2. **Comprehensive Product Insights:** Increasing the depth of web scraping provides a richer dataset, offering sellers better insights into market trends, customer preferences, and competitor strategies. This information is crucial for making informed decisions about product development, pricing, and marketing strategies.\n",
    "\n",
    "3. **Efficient Data Access:** Becoming a software service provider for centralized data access ensures sellers receive up-to-date and accurate information about prices, quantities, and categories. This can lead to better inventory management, pricing strategies, and quicker responses to market changes.\n",
    "\n",
    "4. **Enhanced Personalization:** Allowing buyers to exclude certain categories improves the relevance of search results. For sellers, this means their products are more likely to be shown to interested customers, reducing marketing waste and increasing the chances of sales.\n"
   ]
  },
  {
   "cell_type": "markdown",
   "id": "7825a4e3-8dd9-46ab-b6e3-edd9989df2fd",
   "metadata": {},
   "source": [
    "<div style='display: flex; justify-content: space-between; align-items: center; background-color: #2D0151; color: white; padding: 10px; width: 100%;'>\n",
    "    <h1>BUSINESS VALUE</h1>\n",
    "    <img src='lazada_logo.png' style='height: 50px; width: auto; margin-left: auto;'>\n",
    "</div>\n"
   ]
  },
  {
   "cell_type": "markdown",
   "id": "74a6c8ed-c0f8-4f1d-91ce-8282da1e2657",
   "metadata": {},
   "source": [
    "By shifting to a TF-IDF approach from the Bag of Words model, our information retrieval system for LAZADA E-Commerce will significantly **enhance product categorization accuracy**, expected to increase from 46% to over 60%. This precise categorization will be pivotal for sellers, leading to **improved targeting** and potentially higher sales conversions. Furthermore, the anticipated increase in cosine similarity accuracy to 85% will streamline the **product discovery process**, making it easier for customers to find what they're searching for, thereby driving sales. For sellers, this means a smoother and more effective path to reaching potential buyers.\n",
    "\n",
    "Simultaneously, these improvements will greatly aid in **optimizing inventory management**. The insights gained from more accurate and relevant product recommendations will enable sellers to better align their stock with customer demands and trends. This alignment will reduce the risks of overstocking or stockouts, ensuring a more efficient inventory process. Additionally, the technological advancements will provide a significant **competitive edge** on the LAZADA platform. Sellers will benefit from being part of a platform that boasts advanced, user-friendly search and recommendation capabilities, attracting more customers and increasing the potential for sales."
   ]
  },
  {
   "cell_type": "markdown",
   "id": "986be582-eba2-4a33-a7f8-1f0ca4df7072",
   "metadata": {},
   "source": [
    "<div style='display: flex; justify-content: space-between; align-items: center; background-color: #2D0151; color: white; padding: 10px; width: 100%;'>\n",
    "    <h1>REFERENCES</h1>\n",
    "    <img src='lazada_logo.png' style='height: 50px; width: auto; margin-left: auto;'>\n",
    "</div>\n"
   ]
  },
  {
   "cell_type": "markdown",
   "id": "267b4316-8a5e-4aed-b781-a775bc2467b8",
   "metadata": {},
   "source": [
    "\"Lazada Open Platform.\" Lazada, 24 November 2023, https://open.lazada.com/.\n",
    "\n",
    "\"Lazada Philippines.\" Lazada, 24 November 2023, https://www.lazada.com.ph/?spm=a2o4l.searchlist.header.dhome.4d2f4269DMla5M.\"Lazada Philippines.\"\n",
    "\n",
    "ChatGPT. \"Conversation on Information Retrieval, Cosine Similarity, Precision and Recall, Bag of Words, TFIDF.\" Personal interview. 24 November 2023.\n",
    "\n",
    "Wu, Songhao. \"Web Scraping Basics: How to Scrape Data from a Website in Python.\" Towards Data Science, Medium, 15 July 2020, https://towardsdatascience.com/web-scraping-basics-82f8b5acd45c.\n",
    "\n",
    "Actowiz Solutions. \"The Ultimate Guide to Scrape Lazada Product Data.\" Medium, 14 July [Year], https://medium.com/@actowizsolutions/the-ultimate-guide-to-scrape-lazada-product-data-c256a6c0b0aa.\n",
    "\n",
    "Seelam, Sindhu. \"Machine Learning Fundamentals: Cosine Similarity and Cosine Distance.\" Geek Culture, Medium, 26 May 2021, https://medium.com/geekculture/cosine-similarity-and-cosine-distance-48eed889a5c4."
   ]
  }
 ],
 "metadata": {
  "kernelspec": {
   "display_name": "Python 3 (ipykernel)",
   "language": "python",
   "name": "python3"
  },
  "language_info": {
   "codemirror_mode": {
    "name": "ipython",
    "version": 3
   },
   "file_extension": ".py",
   "mimetype": "text/x-python",
   "name": "python",
   "nbconvert_exporter": "python",
   "pygments_lexer": "ipython3",
   "version": "3.10.12"
  }
 },
 "nbformat": 4,
 "nbformat_minor": 5
}
